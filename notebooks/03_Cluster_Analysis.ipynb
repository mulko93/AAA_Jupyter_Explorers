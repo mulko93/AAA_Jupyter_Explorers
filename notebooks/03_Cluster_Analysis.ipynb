{
 "cells": [
  {
   "cell_type": "code",
   "execution_count": 24,
   "metadata": {},
   "outputs": [],
   "source": [
    "import os\n",
    "import pandas as pd\n",
    "import glob\n",
    "import matplotlib.pyplot as plt\n",
    "import seaborn as sns; sns.set()\n",
    "\n",
    "#PCA as best practice to reduce dimensionality first\n",
    "#as well as check for fitting amount of Gaussians / clusters\n",
    "from sklearn.decomposition import PCA\n",
    "\n",
    "#kmeans (hard)\n",
    "from sklearn.cluster import KMeans\n",
    "#kmeans with expectation maximization (hard)\n",
    "from sklearn.metrics import pairwise_distances_argmin\n",
    "#GMM (soft)\n",
    "from sklearn.mixture import GaussianMixture\n"
   ]
  },
  {
   "cell_type": "code",
   "execution_count": 18,
   "metadata": {},
   "outputs": [],
   "source": [
    "path_output=os.path.join(os.getcwd(), '../data/output/')"
   ]
  },
  {
   "cell_type": "markdown",
   "metadata": {},
   "source": [
    "## Data preparation"
   ]
  },
  {
   "cell_type": "code",
   "execution_count": 19,
   "metadata": {},
   "outputs": [],
   "source": [
    "df = pd.read_csv(os.path.join(path_output, \"Trips.csv\"))"
   ]
  },
  {
   "cell_type": "code",
   "execution_count": 20,
   "metadata": {},
   "outputs": [],
   "source": [
    "df = df.drop(['Unnamed: 0'], axis=1)"
   ]
  },
  {
   "cell_type": "code",
   "execution_count": 26,
   "metadata": {},
   "outputs": [
    {
     "data": {
      "text/plain": [
       "p_bike_racks_start              3\n",
       "p_spot_start                    2\n",
       "p_booked_bikes_start            9\n",
       "p_place_type_start              4\n",
       "datetime_start             239006\n",
       "b_number_start                604\n",
       "p_uid_start                160086\n",
       "p_bikes_start                  58\n",
       "p_lat_start                 18361\n",
       "b_electric_lock_start           2\n",
       "b_bike_type_start               4\n",
       "p_name_start                  776\n",
       "p_free_racks_start              6\n",
       "p_address_start              4402\n",
       "b_lock_types_start              6\n",
       "p_number_start                164\n",
       "b_pedelec_battery_start         2\n",
       "p_lng_start                 54518\n",
       "b_boardcomputer_start         836\n",
       "p_maintenance_start             2\n",
       "p_terminal_type_start           4\n",
       "p_bike_types_start            315\n",
       "p_bike_racks_end                3\n",
       "p_spot_end                      2\n",
       "p_booked_bikes_end              7\n",
       "p_place_type_end                4\n",
       "datetime_end               235885\n",
       "p_uid_end                  183845\n",
       "p_bikes_end                    58\n",
       "p_lat_end                   13831\n",
       "p_name_end                    780\n",
       "p_free_racks_end                6\n",
       "p_address_end                4252\n",
       "p_number_end                  164\n",
       "p_lng_end                   52453\n",
       "p_maintenance_end               2\n",
       "p_terminal_type_end             4\n",
       "p_bike_types_end              305\n",
       "MESS_DATUM                   8171\n",
       "air_deg                       428\n",
       "air_hum                       309\n",
       "rain_mm                        43\n",
       "rain_yn                         5\n",
       "sun_hour                      121\n",
       "wind_ms                       123\n",
       "dtype: int64"
      ]
     },
     "execution_count": 26,
     "metadata": {},
     "output_type": "execute_result"
    }
   ],
   "source": [
    "# df.info()\n",
    "df.nunique()\n",
    "\n",
    "df.datetime_start"
   ]
  },
  {
   "cell_type": "code",
   "execution_count": 29,
   "metadata": {},
   "outputs": [
    {
     "data": {
      "text/plain": [
       "Text(0.5, 1.0, 'January')"
      ]
     },
     "execution_count": 29,
     "metadata": {},
     "output_type": "execute_result"
    },
    {
     "data": {
      "image/png": "[encoded data removed]",
      "text/plain": [
       "<Figure size 432x288 with 1 Axes>"
      ]
     },
     "metadata": {},
     "output_type": "display_data"
    }
   ],
   "source": [
    "df[\"datetime_start\"] = pd.to_datetime(df[\"datetime_start\"].astype(str), format=\"%Y-%m-%d %H:%M:%S\", errors=\"coerce\")\n",
    "df_full = df\n",
    "#Distribution Number of bookings per month\n",
    "# df_full.datetime_start.dt.day.value_counts()\n",
    "day_of_month_jan = df_full[df_full['datetime_start'].dt.month == 1].datetime_start.dt.day.value_counts()\n",
    "ax = sns.barplot(x=day_of_month_jan.index, y=day_of_month_jan, palette=\"Blues_d\")\n",
    "ax.set(ylabel='Number of bookings', xlabel='day of month') \n",
    "ax.set_title('January')\n"
   ]
  },
  {
   "cell_type": "markdown",
   "metadata": {},
   "source": [
    "## Task description - Cluster analysis\n",
    "\n",
    "- Based on the bike rental demand patterns, can you identify clusters of **trip types and/or customer types**? \n",
    "- How would you **label** these clusters? \n",
    "- Can you identify **hot spots for vehicle availability and demand in spatial resolution**?\n",
    "- Method 1: soft-clustering \n",
    "- Method 2: hard-clustering\n",
    "- Create **visual comparison** of both methods \n",
    "\n",
    "#### Similar paper:\n",
    "--> difference of usage patterns among user groups, turnover rate, travel time and distance\n",
    "--> combined with spatial POI data with categories like: Catering, Hotel, Shopping, Living Service,\n",
    "Tourist Sites, Leisure and Entertainment, Education, Medical, Trafficc Facilities, Financial Institutions,\n",
    "Real Estate, Corporations, and Government Institutions."
   ]
  },
  {
   "cell_type": "markdown",
   "metadata": {},
   "source": [
    "### Columns for trip types:\n",
    "- stations like University or main station\n",
    "- trip duration\n",
    "- bike IDs\n",
    "- datetime\n",
    "- weather data\n",
    "\n",
    "### Columns for customer types:\n",
    "- stations like University or main station\n",
    "- trip duration\n",
    "- user IDs\n",
    "- datetime\n",
    "- weather data\n",
    "\n",
    "### Columns for spatial Vehicle availability & demand\n",
    "- ??\n"
   ]
  },
  {
   "cell_type": "markdown",
   "metadata": {},
   "source": [
    "## 1) Hard Clustering\n",
    "- Kmeans: \n",
    "An iterative method, k-means algorithm is the most fundamental and most useful algorithm for\n",
    "clustering [36]. For a given number of clusters, it can minimize the within-class sum of squares [37].\n",
    "Its effciency to a great extent relies on the choice of the cluster centers. When the algorithm starts,\n",
    "random procedures are applied to create starting clustering centers, then each observation is put\n",
    "in its closest cluster. Therefore, the cluster centers are updated, and the entire process is repeated,\n",
    "finally, objects are relocated by minimizing the distances of objects within clusters and maximizing the\n",
    "distance of objects in different clusters.\n",
    "\n",
    "- Expectation Maximization: \n",
    "A model-based clustering, EM clustering functions with a Gaussian mixture model. This model is\n",
    "extended from the k-means algorithm [38]. K-means only takes into account the distance to the closest\n",
    "cluster when assigning points to clusters. Yet EM clustering also computes the probability that a point\n",
    "belongs to a cluster. As the probability depends on both the distance from the cluster center and the\n",
    "spread (variance) of the cluster, a point that is closer to the centroid of one cluster than another may\n",
    "well become more likely to belong to the latter cluster if it has a much higher spread [38].\n",
    "\n",
    "## 2) Soft Clustering\n",
    "- Gaussian Mixture Models:\n",
    "Even more powerful than EM Clustering, can identify moonshaped clusters etc."
   ]
  },
  {
   "cell_type": "code",
   "execution_count": 25,
   "metadata": {},
   "outputs": [
    {
     "ename": "ValueError",
     "evalue": "could not convert string to float: '2020-01-01 00:00:00'",
     "output_type": "error",
     "traceback": [
      "\u001b[1;31m---------------------------------------------------------------------------\u001b[0m",
      "\u001b[1;31mValueError\u001b[0m                                Traceback (most recent call last)",
      "\u001b[1;32m<ipython-input-25-33bb76a78722>\u001b[0m in \u001b[0;36m<module>\u001b[1;34m\u001b[0m\n\u001b[0;32m      1\u001b[0m \u001b[1;31m#standard kmeans approach\u001b[0m\u001b[1;33m\u001b[0m\u001b[1;33m\u001b[0m\u001b[1;33m\u001b[0m\u001b[0m\n\u001b[0;32m      2\u001b[0m \u001b[0mkmeans\u001b[0m \u001b[1;33m=\u001b[0m \u001b[0mKMeans\u001b[0m\u001b[1;33m(\u001b[0m\u001b[0mn_clusters\u001b[0m\u001b[1;33m=\u001b[0m\u001b[1;36m4\u001b[0m\u001b[1;33m)\u001b[0m\u001b[1;33m\u001b[0m\u001b[1;33m\u001b[0m\u001b[0m\n\u001b[1;32m----> 3\u001b[1;33m \u001b[0mkmeans\u001b[0m\u001b[1;33m.\u001b[0m\u001b[0mfit\u001b[0m\u001b[1;33m(\u001b[0m\u001b[0mdf\u001b[0m\u001b[1;33m)\u001b[0m\u001b[1;33m\u001b[0m\u001b[1;33m\u001b[0m\u001b[0m\n\u001b[0m\u001b[0;32m      4\u001b[0m \u001b[0my_kmeans\u001b[0m \u001b[1;33m=\u001b[0m \u001b[0mkmeans\u001b[0m\u001b[1;33m.\u001b[0m\u001b[0mpredict\u001b[0m\u001b[1;33m(\u001b[0m\u001b[0mdf\u001b[0m\u001b[1;33m)\u001b[0m\u001b[1;33m\u001b[0m\u001b[1;33m\u001b[0m\u001b[0m\n",
      "\u001b[1;32m~\\Anaconda3\\lib\\site-packages\\sklearn\\cluster\\_kmeans.py\u001b[0m in \u001b[0;36mfit\u001b[1;34m(self, X, y, sample_weight)\u001b[0m\n\u001b[0;32m    857\u001b[0m         \u001b[0morder\u001b[0m \u001b[1;33m=\u001b[0m \u001b[1;34m\"C\"\u001b[0m \u001b[1;32mif\u001b[0m \u001b[0mself\u001b[0m\u001b[1;33m.\u001b[0m\u001b[0mcopy_x\u001b[0m \u001b[1;32melse\u001b[0m \u001b[1;32mNone\u001b[0m\u001b[1;33m\u001b[0m\u001b[1;33m\u001b[0m\u001b[0m\n\u001b[0;32m    858\u001b[0m         X = check_array(X, accept_sparse='csr', dtype=[np.float64, np.float32],\n\u001b[1;32m--> 859\u001b[1;33m                         order=order, copy=self.copy_x)\n\u001b[0m\u001b[0;32m    860\u001b[0m         \u001b[1;31m# verify that the number of samples given is larger than k\u001b[0m\u001b[1;33m\u001b[0m\u001b[1;33m\u001b[0m\u001b[1;33m\u001b[0m\u001b[0m\n\u001b[0;32m    861\u001b[0m         \u001b[1;32mif\u001b[0m \u001b[0m_num_samples\u001b[0m\u001b[1;33m(\u001b[0m\u001b[0mX\u001b[0m\u001b[1;33m)\u001b[0m \u001b[1;33m<\u001b[0m \u001b[0mself\u001b[0m\u001b[1;33m.\u001b[0m\u001b[0mn_clusters\u001b[0m\u001b[1;33m:\u001b[0m\u001b[1;33m\u001b[0m\u001b[1;33m\u001b[0m\u001b[0m\n",
      "\u001b[1;32m~\\Anaconda3\\lib\\site-packages\\sklearn\\utils\\validation.py\u001b[0m in \u001b[0;36mcheck_array\u001b[1;34m(array, accept_sparse, accept_large_sparse, dtype, order, copy, force_all_finite, ensure_2d, allow_nd, ensure_min_samples, ensure_min_features, warn_on_dtype, estimator)\u001b[0m\n\u001b[0;32m    529\u001b[0m                     \u001b[0marray\u001b[0m \u001b[1;33m=\u001b[0m \u001b[0marray\u001b[0m\u001b[1;33m.\u001b[0m\u001b[0mastype\u001b[0m\u001b[1;33m(\u001b[0m\u001b[0mdtype\u001b[0m\u001b[1;33m,\u001b[0m \u001b[0mcasting\u001b[0m\u001b[1;33m=\u001b[0m\u001b[1;34m\"unsafe\"\u001b[0m\u001b[1;33m,\u001b[0m \u001b[0mcopy\u001b[0m\u001b[1;33m=\u001b[0m\u001b[1;32mFalse\u001b[0m\u001b[1;33m)\u001b[0m\u001b[1;33m\u001b[0m\u001b[1;33m\u001b[0m\u001b[0m\n\u001b[0;32m    530\u001b[0m                 \u001b[1;32melse\u001b[0m\u001b[1;33m:\u001b[0m\u001b[1;33m\u001b[0m\u001b[1;33m\u001b[0m\u001b[0m\n\u001b[1;32m--> 531\u001b[1;33m                     \u001b[0marray\u001b[0m \u001b[1;33m=\u001b[0m \u001b[0mnp\u001b[0m\u001b[1;33m.\u001b[0m\u001b[0masarray\u001b[0m\u001b[1;33m(\u001b[0m\u001b[0marray\u001b[0m\u001b[1;33m,\u001b[0m \u001b[0morder\u001b[0m\u001b[1;33m=\u001b[0m\u001b[0morder\u001b[0m\u001b[1;33m,\u001b[0m \u001b[0mdtype\u001b[0m\u001b[1;33m=\u001b[0m\u001b[0mdtype\u001b[0m\u001b[1;33m)\u001b[0m\u001b[1;33m\u001b[0m\u001b[1;33m\u001b[0m\u001b[0m\n\u001b[0m\u001b[0;32m    532\u001b[0m             \u001b[1;32mexcept\u001b[0m \u001b[0mComplexWarning\u001b[0m\u001b[1;33m:\u001b[0m\u001b[1;33m\u001b[0m\u001b[1;33m\u001b[0m\u001b[0m\n\u001b[0;32m    533\u001b[0m                 raise ValueError(\"Complex data not supported\\n\"\n",
      "\u001b[1;32m~\\Anaconda3\\lib\\site-packages\\numpy\\core\\_asarray.py\u001b[0m in \u001b[0;36masarray\u001b[1;34m(a, dtype, order)\u001b[0m\n\u001b[0;32m     83\u001b[0m \u001b[1;33m\u001b[0m\u001b[0m\n\u001b[0;32m     84\u001b[0m     \"\"\"\n\u001b[1;32m---> 85\u001b[1;33m     \u001b[1;32mreturn\u001b[0m \u001b[0marray\u001b[0m\u001b[1;33m(\u001b[0m\u001b[0ma\u001b[0m\u001b[1;33m,\u001b[0m \u001b[0mdtype\u001b[0m\u001b[1;33m,\u001b[0m \u001b[0mcopy\u001b[0m\u001b[1;33m=\u001b[0m\u001b[1;32mFalse\u001b[0m\u001b[1;33m,\u001b[0m \u001b[0morder\u001b[0m\u001b[1;33m=\u001b[0m\u001b[0morder\u001b[0m\u001b[1;33m)\u001b[0m\u001b[1;33m\u001b[0m\u001b[1;33m\u001b[0m\u001b[0m\n\u001b[0m\u001b[0;32m     86\u001b[0m \u001b[1;33m\u001b[0m\u001b[0m\n\u001b[0;32m     87\u001b[0m \u001b[1;33m\u001b[0m\u001b[0m\n",
      "\u001b[1;31mValueError\u001b[0m: could not convert string to float: '2020-01-01 00:00:00'"
     ]
    }
   ],
   "source": [
    "#standard kmeans approach\n",
    "kmeans = KMeans(n_clusters=4)\n",
    "kmeans.fit(df)\n",
    "y_kmeans = kmeans.predict(df)\n"
   ]
  },
  {
   "cell_type": "code",
   "execution_count": null,
   "metadata": {},
   "outputs": [],
   "source": [
    "#advanced EM (kmeans) approach\n",
    "def find_clusters(X, n_clusters, rseed=2):\n",
    "    # 1. Randomly choose clusters\n",
    "    rng = np.random.RandomState(rseed)\n",
    "    # Choose randomly n_clusteres elements from the input list X\n",
    "    i = rng.permutation(X.shape[0])[:n_clusters]\n",
    "    centers = X[i]\n",
    "    \n",
    "    while True:\n",
    "        # 2a. Assign labels based on closest center\n",
    "        labels = pairwise_distances_argmin(X, centers)\n",
    "        #print(labels)\n",
    "        \n",
    "        # 2b. Find new centers from means of points\n",
    "        new_centers = np.array([X[labels == i].mean(0)\n",
    "                                for i in range(n_clusters)])\n",
    "        \n",
    "        # 2c. Check for convergence\n",
    "        if np.all(centers == new_centers):\n",
    "            break\n",
    "        centers = new_centers\n",
    "    \n",
    "    return centers, labels\n",
    "\n",
    "centers, labels = find_clusters(X, 4)\n",
    "plt.scatter(X[:, 0], X[:, 1], c=labels,\n",
    "            s=50, cmap='viridis');"
   ]
  },
  {
   "cell_type": "code",
   "execution_count": null,
   "metadata": {},
   "outputs": [],
   "source": [
    "#standrad GMM approach\n",
    "gmm = GaussianMixture(n_components=4).fit(X)\n",
    "labels = gmm.predict(X)\n",
    "plt.scatter(X[:, 0], X[:, 1], c=labels, s=40, cmap='viridis');\n",
    "\n",
    "#visualize probabilites\n",
    "probs = gmm.predict_proba(X)\n",
    "print(probs[:5].round(3))"
   ]
  }
 ],
 "metadata": {
  "kernelspec": {
   "display_name": "Python 3",
   "language": "python",
   "name": "python3"
  },
  "language_info": {
   "codemirror_mode": {
    "name": "ipython",
    "version": 3
   },
   "file_extension": ".py",
   "mimetype": "text/x-python",
   "name": "python",
   "nbconvert_exporter": "python",
   "pygments_lexer": "ipython3",
   "version": "3.7.7"
  }
 },
 "nbformat": 4,
 "nbformat_minor": 4
}
