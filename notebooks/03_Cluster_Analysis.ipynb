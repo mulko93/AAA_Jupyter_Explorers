{
 "cells": [
  {
   "cell_type": "code",
   "execution_count": 31,
   "metadata": {},
   "outputs": [],
   "source": [
    "import os\n",
    "import pandas as pd\n",
    "import glob\n",
    "import matplotlib.pyplot as plt\n",
    "import seaborn as sns; sns.set()\n",
    "import numpy as np\n",
    "\n",
    "#PCA as best practice to reduce dimensionality first\n",
    "#as well as check for fitting amount of Gaussians / clusters\n",
    "from sklearn.decomposition import PCA\n",
    "\n",
    "#skaler\n",
    "from sklearn.preprocessing import StandardScaler\n",
    "#kmeans (hard)\n",
    "from sklearn.cluster import KMeans\n",
    "#kmeans with expectation maximization (hard)\n",
    "from sklearn.metrics import pairwise_distances_argmin\n",
    "#GMM (soft)\n",
    "from sklearn.mixture import GaussianMixture\n"
   ]
  },
  {
   "cell_type": "code",
   "execution_count": 59,
   "metadata": {},
   "outputs": [],
   "source": [
    "path_output=os.path.join(os.getcwd(), '../data/output/')"
   ]
  },
  {
   "cell_type": "markdown",
   "metadata": {},
   "source": [
    "## Data preparation"
   ]
  },
  {
   "cell_type": "code",
   "execution_count": 60,
   "metadata": {},
   "outputs": [],
   "source": [
    "df = pd.read_csv(os.path.join(path_output, \"Trips.csv\"))"
   ]
  },
  {
   "cell_type": "code",
   "execution_count": 61,
   "metadata": {},
   "outputs": [],
   "source": [
    "df = df.drop(['Unnamed: 0'], axis=1)"
   ]
  },
  {
   "cell_type": "code",
   "execution_count": 63,
   "metadata": {},
   "outputs": [
    {
     "name": "stdout",
     "output_type": "stream",
     "text": [
      "<class 'pandas.core.frame.DataFrame'>\n",
      "RangeIndex: 567439 entries, 0 to 567438\n",
      "Data columns (total 38 columns):\n",
      " #   Column                 Non-Null Count   Dtype  \n",
      "---  ------                 --------------   -----  \n",
      " 0   p_bike_racks_start     567439 non-null  int64  \n",
      " 1   p_spot_start           567439 non-null  bool   \n",
      " 2   p_booked_bikes_start   567439 non-null  int64  \n",
      " 3   p_place_type_start     567439 non-null  int64  \n",
      " 4   datetime_start         567439 non-null  object \n",
      " 5   b_number_start         567439 non-null  int64  \n",
      " 6   p_uid_start            567439 non-null  int64  \n",
      " 7   p_bikes_start          567439 non-null  int64  \n",
      " 8   p_lat_start            567439 non-null  float64\n",
      " 9   b_electric_lock_start  567439 non-null  bool   \n",
      " 10  b_bike_type_start      567439 non-null  int64  \n",
      " 11  p_name_start           567439 non-null  object \n",
      " 12  p_free_racks_start     567439 non-null  int64  \n",
      " 13  b_lock_types_start     567439 non-null  object \n",
      " 14  p_number_start         567377 non-null  float64\n",
      " 15  p_lng_start            567439 non-null  float64\n",
      " 16  b_boardcomputer_start  567439 non-null  int64  \n",
      " 17  p_maintenance_start    567439 non-null  bool   \n",
      " 18  p_bike_racks_end       567439 non-null  int64  \n",
      " 19  p_spot_end             567439 non-null  bool   \n",
      " 20  p_booked_bikes_end     567439 non-null  int64  \n",
      " 21  p_place_type_end       567439 non-null  int64  \n",
      " 22  datetime_end           567439 non-null  object \n",
      " 23  p_uid_end              567439 non-null  int64  \n",
      " 24  p_bikes_end            567439 non-null  int64  \n",
      " 25  p_lat_end              567439 non-null  float64\n",
      " 26  p_name_end             567439 non-null  object \n",
      " 27  p_free_racks_end       567439 non-null  int64  \n",
      " 28  p_number_end           567361 non-null  float64\n",
      " 29  p_lng_end              567439 non-null  float64\n",
      " 30  p_maintenance_end      567439 non-null  bool   \n",
      " 31  air_deg                567439 non-null  float64\n",
      " 32  air_hum                567439 non-null  float64\n",
      " 33  rain_mm                567439 non-null  float64\n",
      " 34  rain_yn                567439 non-null  float64\n",
      " 35  sun_hour               567439 non-null  float64\n",
      " 36  wind_ms                567439 non-null  float64\n",
      " 37  trip_duration          567439 non-null  float64\n",
      "dtypes: bool(5), float64(13), int64(15), object(5)\n",
      "memory usage: 145.6+ MB\n"
     ]
    }
   ],
   "source": [
    "df.info()"
   ]
  },
  {
   "cell_type": "code",
   "execution_count": 70,
   "metadata": {},
   "outputs": [
    {
     "data": {
      "text/plain": [
       "Text(0.5, 1.0, 'January')"
      ]
     },
     "execution_count": 70,
     "metadata": {},
     "output_type": "execute_result"
    },
    {
     "data": {
      "image/png": "[encoded data removed]",
      "text/plain": [
       "<Figure size 432x288 with 1 Axes>"
      ]
     },
     "metadata": {},
     "output_type": "display_data"
    }
   ],
   "source": [
    "df[\"datetime_start\"] = pd.to_datetime(df[\"datetime_start\"].astype(str), format=\"%Y-%m-%d %H:%M:%S\", errors=\"coerce\")\n",
    "df_full = df\n",
    "\n",
    "\n",
    "#Distribution Number of bookings per month\n",
    "# df_full.datetime_start.dt.day.value_counts()\n",
    "day_of_month_jan = df_full[df_full['datetime_start'].dt.month == 1].datetime_start.dt.day.value_counts()\n",
    "ax = sns.barplot(x=day_of_month_jan.index, y=day_of_month_jan, palette=\"Blues_d\")\n",
    "ax.set(ylabel='Number of bookings', xlabel='day of month') \n",
    "ax.set_title('January')\n"
   ]
  },
  {
   "cell_type": "markdown",
   "metadata": {},
   "source": [
    "## Task description - Cluster analysis\n",
    "\n",
    "- Based on the bike rental demand patterns, can you identify clusters of **trip types and/or customer types**? \n",
    "- How would you **label** these clusters? \n",
    "- Can you identify **hot spots for vehicle availability and demand in spatial resolution**?\n",
    "- Method 1: soft-clustering \n",
    "- Method 2: hard-clustering\n",
    "- Create **visual comparison** of both methods \n",
    "\n",
    "#### Similar paper:\n",
    "--> difference of usage patterns among user groups, turnover rate, travel time and distance\n",
    "--> combined with spatial POI data with categories like: Catering, Hotel, Shopping, Living Service,\n",
    "Tourist Sites, Leisure and Entertainment, Education, Medical, Trafficc Facilities, Financial Institutions,\n",
    "Real Estate, Corporations, and Government Institutions."
   ]
  },
  {
   "cell_type": "markdown",
   "metadata": {},
   "source": [
    "### Columns for trip types:\n",
    "- stations like University or main station\n",
    "- trip duration\n",
    "- bike IDs\n",
    "- datetime\n",
    "- weather data\n",
    "\n",
    "### Columns for customer types:\n",
    "- stations like University or main station\n",
    "- trip duration\n",
    "- user IDs\n",
    "- datetime\n",
    "- weather data\n",
    "\n",
    "### Columns for spatial Vehicle availability & demand\n",
    "- ??\n"
   ]
  },
  {
   "cell_type": "markdown",
   "metadata": {},
   "source": [
    "## 1) Hard Clustering\n",
    "- Kmeans: \n",
    "An iterative method, k-means algorithm is the most fundamental and most useful algorithm for\n",
    "clustering [36]. For a given number of clusters, it can minimize the within-class sum of squares [37].\n",
    "Its effciency to a great extent relies on the choice of the cluster centers. When the algorithm starts,\n",
    "random procedures are applied to create starting clustering centers, then each observation is put\n",
    "in its closest cluster. Therefore, the cluster centers are updated, and the entire process is repeated,\n",
    "finally, objects are relocated by minimizing the distances of objects within clusters and maximizing the\n",
    "distance of objects in different clusters.\n",
    "\n",
    "- Expectation Maximization: \n",
    "A model-based clustering, EM clustering functions with a Gaussian mixture model. This model is\n",
    "extended from the k-means algorithm [38]. K-means only takes into account the distance to the closest\n",
    "cluster when assigning points to clusters. Yet EM clustering also computes the probability that a point\n",
    "belongs to a cluster. As the probability depends on both the distance from the cluster center and the\n",
    "spread (variance) of the cluster, a point that is closer to the centroid of one cluster than another may\n",
    "well become more likely to belong to the latter cluster if it has a much higher spread [38].\n"
   ]
  },
  {
   "cell_type": "code",
   "execution_count": 43,
   "metadata": {},
   "outputs": [],
   "source": [
    "#Trip types clustering\n",
    "duration_weather = [\"trip_duration\", \"air_deg\", \"air_hum\" , \"rain_mm\" , \"rain_yn\" , \"sun_hour\", \"wind_ms\"]\n",
    "df_full = df[duration_weather]\n",
    "df_full\n",
    "\n",
    "#standardize StandardScaler\n",
    "scaler = StandardScaler()\n",
    "scaler.fit(df_full)\n",
    "X_scaled = scaler.transform(df_full)\n",
    "X_scaled_df = pd.DataFrame(X_scaled, columns=df_full.columns, index=df_full.index)"
   ]
  },
  {
   "cell_type": "code",
   "execution_count": 45,
   "metadata": {},
   "outputs": [
    {
     "name": "stderr",
     "output_type": "stream",
     "text": [
      "C:\\Users\\x250\\Anaconda3\\lib\\site-packages\\ipykernel_launcher.py:9: SettingWithCopyWarning: \n",
      "A value is trying to be set on a copy of a slice from a DataFrame.\n",
      "Try using .loc[row_indexer,col_indexer] = value instead\n",
      "\n",
      "See the caveats in the documentation: https://pandas.pydata.org/pandas-docs/stable/user_guide/indexing.html#returning-a-view-versus-a-copy\n",
      "  if __name__ == '__main__':\n"
     ]
    },
    {
     "name": "stdout",
     "output_type": "stream",
     "text": [
      "          trip_duration    air_deg    air_hum   rain_mm   rain_yn   sun_hour  \\\n",
      "clusters                                                                       \n",
      "0             14.906776  19.788024  47.946432  0.000318  0.002850  50.915687   \n",
      "1            163.329328  17.314945  57.031169  0.030263  0.059289  30.027227   \n",
      "2             11.400240  11.798776  71.674500  0.054493  0.126796   2.708403   \n",
      "3            472.453726  13.682937  67.893967  0.025307  0.063008  23.769178   \n",
      "\n",
      "           wind_ms  \n",
      "clusters            \n",
      "0         4.363248  \n",
      "1         4.145763  \n",
      "2         4.081680  \n",
      "3         3.691046  \n"
     ]
    }
   ],
   "source": [
    "#standard kmeans approach\n",
    "\n",
    "kmeans = KMeans(n_clusters=4)\n",
    "kmeans.fit(df_full)\n",
    "y_kmeans = kmeans.predict(df_full)\n",
    "labels = kmeans.labels_\n",
    "\n",
    "#Glue back to originaal data\n",
    "df_full['clusters'] = labels\n",
    "\n",
    "#Add the column into our list\n",
    "duration_weather.extend(['clusters'])\n",
    "\n",
    "#Lets analyze the clusters\n",
    "print (df_full[duration_weather].groupby(['clusters']).mean())"
   ]
  },
  {
   "cell_type": "code",
   "execution_count": 47,
   "metadata": {},
   "outputs": [
    {
     "data": {
      "text/plain": [
       "Text(29.95656006944445, 0.5, 'Air deg')"
      ]
     },
     "execution_count": 47,
     "metadata": {},
     "output_type": "execute_result"
    },
    {
     "data": {
      "image/png": "[encoded data removed]",
      "text/plain": [
       "<Figure size 405.725x360 with 1 Axes>"
      ]
     },
     "metadata": {},
     "output_type": "display_data"
    }
   ],
   "source": [
    "#Scatter plot of Wattage and Duration\n",
    "sns.lmplot('trip_duration', 'air_deg', \n",
    "           data=df_full, \n",
    "           fit_reg=False, \n",
    "           hue=\"clusters\",  \n",
    "           scatter_kws={\"marker\": \"D\", \n",
    "                        \"s\": 100})\n",
    "plt.title('Clusters Durations vs Air deg')\n",
    "plt.xlabel('Duration')\n",
    "plt.ylabel('Air deg')"
   ]
  },
  {
   "cell_type": "markdown",
   "metadata": {},
   "source": [
    "\n",
    "## 2) Soft Clustering\n",
    "- Gaussian Mixture Models:\n",
    "Even more powerful than EM Clustering, can identify moonshaped clusters etc."
   ]
  },
  {
   "cell_type": "code",
   "execution_count": 52,
   "metadata": {},
   "outputs": [],
   "source": [
    "X = df_full"
   ]
  },
  {
   "cell_type": "code",
   "execution_count": 53,
   "metadata": {},
   "outputs": [],
   "source": [
    "#advanced EM (kmeans) approach\n",
    "def find_clusters(X, n_clusters, rseed=2):\n",
    "    # 1. Randomly choose clusters\n",
    "    rng = np.random.RandomState(rseed)\n",
    "    # Choose randomly n_clusteres elements from the input list X\n",
    "    i = rng.permutation(X.shape[0])[:n_clusters]\n",
    "    centers = X[i]\n",
    "    \n",
    "    while True:\n",
    "        # 2a. Assign labels based on closest center\n",
    "        labels = pairwise_distances_argmin(X, centers)\n",
    "        #print(labels)\n",
    "        \n",
    "        # 2b. Find new centers from means of points\n",
    "        new_centers = np.array([X[labels == i].mean(0)\n",
    "                                for i in range(n_clusters)])\n",
    "        \n",
    "        # 2c. Check for convergence\n",
    "        if np.all(centers == new_centers):\n",
    "            break\n",
    "        centers = new_centers\n",
    "    \n",
    "    return centers, labels\n",
    "\n",
    "# centers, labels = find_clusters(X, 4)\n",
    "# plt.scatter(X[:, 0], X[:, 1], c=labels,\n",
    "#             s=50, cmap='viridis');"
   ]
  },
  {
   "cell_type": "code",
   "execution_count": 54,
   "metadata": {},
   "outputs": [
    {
     "name": "stdout",
     "output_type": "stream",
     "text": [
      "[[0. 0. 0. 1.]\n",
      " [0. 0. 0. 1.]\n",
      " [0. 0. 0. 1.]\n",
      " [0. 0. 0. 1.]\n",
      " [0. 0. 0. 1.]]\n"
     ]
    }
   ],
   "source": [
    "#standrad GMM approach\n",
    "gmm = GaussianMixture(n_components=4).fit(X)\n",
    "labels = gmm.predict(X)\n",
    "#plt.scatter(X[:, 0], X[:, 1], c=labels, s=40, cmap='viridis');\n",
    "\n",
    "#visualize probabilites\n",
    "probs = gmm.predict_proba(X)\n",
    "print(probs[:5].round(3))"
   ]
  },
  {
   "cell_type": "code",
   "execution_count": null,
   "metadata": {},
   "outputs": [],
   "source": []
  }
 ],
 "metadata": {
  "kernelspec": {
   "display_name": "Python 3",
   "language": "python",
   "name": "python3"
  },
  "language_info": {
   "codemirror_mode": {
    "name": "ipython",
    "version": 3
   },
   "file_extension": ".py",
   "mimetype": "text/x-python",
   "name": "python",
   "nbconvert_exporter": "python",
   "pygments_lexer": "ipython3",
   "version": "3.7.7"
  }
 },
 "nbformat": 4,
 "nbformat_minor": 4
}
