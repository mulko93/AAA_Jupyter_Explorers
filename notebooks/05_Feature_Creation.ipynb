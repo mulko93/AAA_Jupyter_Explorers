{
 "cells": [
  {
   "cell_type": "markdown",
   "metadata": {},
   "source": [
    "# Feature preparation\n",
    "Right here the features for the ml models are created and filtered. Then a csv with only the important features is saved."
   ]
  },
  {
   "cell_type": "code",
   "execution_count": 49,
   "metadata": {},
   "outputs": [],
   "source": [
    "import os\n",
    "import pandas as pd\n",
    "import pickle\n",
    "\n",
    "from sklearn.model_selection import train_test_split\n",
    "from sklearn.preprocessing import StandardScaler\n",
    "from sklearn.decomposition import PCA"
   ]
  },
  {
   "cell_type": "code",
   "execution_count": 50,
   "metadata": {},
   "outputs": [
    {
     "name": "stdout",
     "output_type": "stream",
     "text": [
      "C:\\Users\\lenovo\\Documents\\GitHub\\AAA_Jupyter_Explorers\\notebooks\\..\\data\\output\\Trips_Hexagons.csv\n"
     ]
    }
   ],
   "source": [
    "path_trips_hexagons=os.path.join(os.getcwd(), \"..\", \"data\", \"output\", \"Trips_Hexagons.csv\")\n",
    "path_hexagons=os.path.join(os.getcwd(), \"..\", \"data\", \"output\", \"hexagons-dresden.csv\")\n",
    "path_trips = os.path.join(os.getcwd(), \"..\", \"data\", \"output\", \"Trips.csv\")\n",
    "print(path_trips_hexagons)"
   ]
  },
  {
   "cell_type": "code",
   "execution_count": 51,
   "metadata": {},
   "outputs": [
    {
     "data": {
      "text/html": [
       "<div>\n",
       "<style scoped>\n",
       "    .dataframe tbody tr th:only-of-type {\n",
       "        vertical-align: middle;\n",
       "    }\n",
       "\n",
       "    .dataframe tbody tr th {\n",
       "        vertical-align: top;\n",
       "    }\n",
       "\n",
       "    .dataframe thead th {\n",
       "        text-align: right;\n",
       "    }\n",
       "</style>\n",
       "<table border=\"1\" class=\"dataframe\">\n",
       "  <thead>\n",
       "    <tr style=\"text-align: right;\">\n",
       "      <th></th>\n",
       "      <th>Unnamed: 0</th>\n",
       "      <th>p_bike_racks_start</th>\n",
       "      <th>p_spot_start</th>\n",
       "      <th>p_booked_bikes_start</th>\n",
       "      <th>p_place_type_start</th>\n",
       "      <th>datetime_start</th>\n",
       "      <th>b_number_start</th>\n",
       "      <th>p_uid_start</th>\n",
       "      <th>p_bikes_start</th>\n",
       "      <th>p_lat_start</th>\n",
       "      <th>...</th>\n",
       "      <th>p_terminal_type_end</th>\n",
       "      <th>p_bike_types_end</th>\n",
       "      <th>MESS_DATUM</th>\n",
       "      <th>air_deg</th>\n",
       "      <th>air_hum</th>\n",
       "      <th>rain_mm</th>\n",
       "      <th>rain_yn</th>\n",
       "      <th>sun_hour</th>\n",
       "      <th>wind_ms</th>\n",
       "      <th>trip_duration</th>\n",
       "    </tr>\n",
       "  </thead>\n",
       "  <tbody>\n",
       "    <tr>\n",
       "      <th>0</th>\n",
       "      <td>0</td>\n",
       "      <td>0</td>\n",
       "      <td>False</td>\n",
       "      <td>0</td>\n",
       "      <td>12</td>\n",
       "      <td>2019-01-20 00:00:00</td>\n",
       "      <td>93771</td>\n",
       "      <td>12095573</td>\n",
       "      <td>1</td>\n",
       "      <td>51.071262</td>\n",
       "      <td>...</td>\n",
       "      <td>NaN</td>\n",
       "      <td>{\"15\": 1}</td>\n",
       "      <td>2019-01-20 00:00:00</td>\n",
       "      <td>-3.3</td>\n",
       "      <td>75.3</td>\n",
       "      <td>0.0</td>\n",
       "      <td>0.0</td>\n",
       "      <td>0.0</td>\n",
       "      <td>4.3</td>\n",
       "      <td>28.0</td>\n",
       "    </tr>\n",
       "    <tr>\n",
       "      <th>1</th>\n",
       "      <td>1</td>\n",
       "      <td>0</td>\n",
       "      <td>True</td>\n",
       "      <td>0</td>\n",
       "      <td>0</td>\n",
       "      <td>2019-01-20 00:05:00</td>\n",
       "      <td>93576</td>\n",
       "      <td>10299640</td>\n",
       "      <td>5</td>\n",
       "      <td>51.038210</td>\n",
       "      <td>...</td>\n",
       "      <td>NaN</td>\n",
       "      <td>{\"15\": 1}</td>\n",
       "      <td>2019-01-20 00:00:00</td>\n",
       "      <td>-3.3</td>\n",
       "      <td>75.3</td>\n",
       "      <td>0.0</td>\n",
       "      <td>0.0</td>\n",
       "      <td>0.0</td>\n",
       "      <td>4.3</td>\n",
       "      <td>10.0</td>\n",
       "    </tr>\n",
       "    <tr>\n",
       "      <th>2</th>\n",
       "      <td>2</td>\n",
       "      <td>0</td>\n",
       "      <td>True</td>\n",
       "      <td>0</td>\n",
       "      <td>0</td>\n",
       "      <td>2019-01-20 00:07:00</td>\n",
       "      <td>93440</td>\n",
       "      <td>10299584</td>\n",
       "      <td>1</td>\n",
       "      <td>51.042570</td>\n",
       "      <td>...</td>\n",
       "      <td>free</td>\n",
       "      <td>{\"undefined\": 1, \"15\": 2}</td>\n",
       "      <td>2019-01-20 00:00:00</td>\n",
       "      <td>-3.3</td>\n",
       "      <td>75.3</td>\n",
       "      <td>0.0</td>\n",
       "      <td>0.0</td>\n",
       "      <td>0.0</td>\n",
       "      <td>4.3</td>\n",
       "      <td>26.0</td>\n",
       "    </tr>\n",
       "    <tr>\n",
       "      <th>3</th>\n",
       "      <td>3</td>\n",
       "      <td>0</td>\n",
       "      <td>True</td>\n",
       "      <td>0</td>\n",
       "      <td>0</td>\n",
       "      <td>2019-01-20 00:07:00</td>\n",
       "      <td>93585</td>\n",
       "      <td>264575</td>\n",
       "      <td>5</td>\n",
       "      <td>51.071740</td>\n",
       "      <td>...</td>\n",
       "      <td>NaN</td>\n",
       "      <td>{\"undefined\": 3, \"15\": 2}</td>\n",
       "      <td>2019-01-20 00:00:00</td>\n",
       "      <td>-3.3</td>\n",
       "      <td>75.3</td>\n",
       "      <td>0.0</td>\n",
       "      <td>0.0</td>\n",
       "      <td>0.0</td>\n",
       "      <td>4.3</td>\n",
       "      <td>28.0</td>\n",
       "    </tr>\n",
       "    <tr>\n",
       "      <th>4</th>\n",
       "      <td>4</td>\n",
       "      <td>0</td>\n",
       "      <td>False</td>\n",
       "      <td>0</td>\n",
       "      <td>12</td>\n",
       "      <td>2019-01-20 00:07:00</td>\n",
       "      <td>93322</td>\n",
       "      <td>12098234</td>\n",
       "      <td>1</td>\n",
       "      <td>51.041798</td>\n",
       "      <td>...</td>\n",
       "      <td>NaN</td>\n",
       "      <td>{\"undefined\": 1}</td>\n",
       "      <td>2019-01-20 00:00:00</td>\n",
       "      <td>-3.3</td>\n",
       "      <td>75.3</td>\n",
       "      <td>0.0</td>\n",
       "      <td>0.0</td>\n",
       "      <td>0.0</td>\n",
       "      <td>4.3</td>\n",
       "      <td>2.0</td>\n",
       "    </tr>\n",
       "  </tbody>\n",
       "</table>\n",
       "<p>5 rows × 47 columns</p>\n",
       "</div>"
      ],
      "text/plain": [
       "   Unnamed: 0  p_bike_racks_start  p_spot_start  p_booked_bikes_start  \\\n",
       "0           0                   0         False                     0   \n",
       "1           1                   0          True                     0   \n",
       "2           2                   0          True                     0   \n",
       "3           3                   0          True                     0   \n",
       "4           4                   0         False                     0   \n",
       "\n",
       "   p_place_type_start       datetime_start  b_number_start  p_uid_start  \\\n",
       "0                  12  2019-01-20 00:00:00           93771     12095573   \n",
       "1                   0  2019-01-20 00:05:00           93576     10299640   \n",
       "2                   0  2019-01-20 00:07:00           93440     10299584   \n",
       "3                   0  2019-01-20 00:07:00           93585       264575   \n",
       "4                  12  2019-01-20 00:07:00           93322     12098234   \n",
       "\n",
       "   p_bikes_start  p_lat_start  ...  p_terminal_type_end  \\\n",
       "0              1    51.071262  ...                  NaN   \n",
       "1              5    51.038210  ...                  NaN   \n",
       "2              1    51.042570  ...                 free   \n",
       "3              5    51.071740  ...                  NaN   \n",
       "4              1    51.041798  ...                  NaN   \n",
       "\n",
       "            p_bike_types_end           MESS_DATUM  air_deg air_hum rain_mm  \\\n",
       "0                  {\"15\": 1}  2019-01-20 00:00:00     -3.3    75.3     0.0   \n",
       "1                  {\"15\": 1}  2019-01-20 00:00:00     -3.3    75.3     0.0   \n",
       "2  {\"undefined\": 1, \"15\": 2}  2019-01-20 00:00:00     -3.3    75.3     0.0   \n",
       "3  {\"undefined\": 3, \"15\": 2}  2019-01-20 00:00:00     -3.3    75.3     0.0   \n",
       "4           {\"undefined\": 1}  2019-01-20 00:00:00     -3.3    75.3     0.0   \n",
       "\n",
       "   rain_yn  sun_hour  wind_ms  trip_duration  \n",
       "0      0.0       0.0      4.3           28.0  \n",
       "1      0.0       0.0      4.3           10.0  \n",
       "2      0.0       0.0      4.3           26.0  \n",
       "3      0.0       0.0      4.3           28.0  \n",
       "4      0.0       0.0      4.3            2.0  \n",
       "\n",
       "[5 rows x 47 columns]"
      ]
     },
     "execution_count": 51,
     "metadata": {},
     "output_type": "execute_result"
    }
   ],
   "source": [
    "df = pd.read_csv(path_trips)\n",
    "df.head()"
   ]
  },
  {
   "cell_type": "code",
   "execution_count": 52,
   "metadata": {
    "scrolled": true
   },
   "outputs": [
    {
     "name": "stdout",
     "output_type": "stream",
     "text": [
      "<class 'pandas.core.frame.DataFrame'>\n",
      "RangeIndex: 550350 entries, 0 to 550349\n",
      "Data columns (total 47 columns):\n",
      " #   Column                   Non-Null Count   Dtype  \n",
      "---  ------                   --------------   -----  \n",
      " 0   Unnamed: 0               550350 non-null  int64  \n",
      " 1   p_bike_racks_start       550350 non-null  int64  \n",
      " 2   p_spot_start             550350 non-null  bool   \n",
      " 3   p_booked_bikes_start     550350 non-null  int64  \n",
      " 4   p_place_type_start       550350 non-null  int64  \n",
      " 5   datetime_start           550350 non-null  object \n",
      " 6   b_number_start           550350 non-null  int64  \n",
      " 7   p_uid_start              550350 non-null  int64  \n",
      " 8   p_bikes_start            550350 non-null  int64  \n",
      " 9   p_lat_start              550350 non-null  float64\n",
      " 10  b_electric_lock_start    550350 non-null  bool   \n",
      " 11  b_bike_type_start        550350 non-null  int64  \n",
      " 12  p_name_start             550350 non-null  object \n",
      " 13  p_free_racks_start       550350 non-null  int64  \n",
      " 14  p_address_start          13220 non-null   object \n",
      " 15  b_lock_types_start       550350 non-null  object \n",
      " 16  p_number_start           550288 non-null  float64\n",
      " 17  b_pedelec_battery_start  67149 non-null   float64\n",
      " 18  p_lng_start              550350 non-null  float64\n",
      " 19  b_boardcomputer_start    550350 non-null  int64  \n",
      " 20  p_maintenance_start      550350 non-null  bool   \n",
      " 21  p_terminal_type_start    134526 non-null  object \n",
      " 22  p_bike_types_start       550350 non-null  object \n",
      " 23  p_bike_racks_end         550350 non-null  int64  \n",
      " 24  p_spot_end               550350 non-null  bool   \n",
      " 25  p_booked_bikes_end       550350 non-null  int64  \n",
      " 26  p_place_type_end         550350 non-null  int64  \n",
      " 27  datetime_end             550350 non-null  object \n",
      " 28  p_uid_end                550350 non-null  int64  \n",
      " 29  p_bikes_end              550350 non-null  int64  \n",
      " 30  p_lat_end                550350 non-null  float64\n",
      " 31  p_name_end               550350 non-null  object \n",
      " 32  p_free_racks_end         550350 non-null  int64  \n",
      " 33  p_address_end            12147 non-null   object \n",
      " 34  p_number_end             550272 non-null  float64\n",
      " 35  p_lng_end                550350 non-null  float64\n",
      " 36  p_maintenance_end        550350 non-null  bool   \n",
      " 37  p_terminal_type_end      124468 non-null  object \n",
      " 38  p_bike_types_end         550350 non-null  object \n",
      " 39  MESS_DATUM               550350 non-null  object \n",
      " 40  air_deg                  550350 non-null  float64\n",
      " 41  air_hum                  550350 non-null  float64\n",
      " 42  rain_mm                  550350 non-null  float64\n",
      " 43  rain_yn                  550350 non-null  float64\n",
      " 44  sun_hour                 550350 non-null  float64\n",
      " 45  wind_ms                  550350 non-null  float64\n",
      " 46  trip_duration            550350 non-null  float64\n",
      "dtypes: bool(5), float64(14), int64(16), object(12)\n",
      "memory usage: 179.0+ MB\n"
     ]
    }
   ],
   "source": [
    "df.info()"
   ]
  },
  {
   "cell_type": "code",
   "execution_count": 53,
   "metadata": {
    "scrolled": true
   },
   "outputs": [
    {
     "data": {
      "text/plain": [
       "p_bike_racks_start       0\n",
       "p_booked_bikes_start     0\n",
       "p_place_type_start       0\n",
       "b_number_start           0\n",
       "p_uid_start              0\n",
       "p_bikes_start            0\n",
       "p_lat_start              0\n",
       "b_bike_type_start        0\n",
       "p_free_racks_start       0\n",
       "p_lng_start              0\n",
       "b_boardcomputer_start    0\n",
       "air_deg                  0\n",
       "air_hum                  0\n",
       "rain_mm                  0\n",
       "rain_yn                  0\n",
       "sun_hour                 0\n",
       "wind_ms                  0\n",
       "trip_duration            0\n",
       "p_spot_start             0\n",
       "b_electric_lock_start    0\n",
       "p_maintenance_start      0\n",
       "dtype: int64"
      ]
     },
     "execution_count": 53,
     "metadata": {},
     "output_type": "execute_result"
    }
   ],
   "source": [
    "features.isnull().sum()"
   ]
  },
  {
   "cell_type": "markdown",
   "metadata": {},
   "source": [
    "## Drop not needed columns\n",
    "Drop end information and not usefull columns.\n",
    "The features are cleaned in three steps. <br>\n",
    "- features_1 => drop not usefull columns \n",
    "- features_2 => drop end information\n",
    "- features_3 => drop object types"
   ]
  },
  {
   "cell_type": "code",
   "execution_count": 54,
   "metadata": {},
   "outputs": [
    {
     "name": "stdout",
     "output_type": "stream",
     "text": [
      "Drop not int columns and not usefull\n",
      "Drop end information\n",
      "Drop object types...\n"
     ]
    }
   ],
   "source": [
    "print(\"Drop not int columns and not usefull\")\n",
    "# Unnamed: 0 => index column\n",
    "# p_terminal_type_end => NaN values\n",
    "features_1 = df.drop([\"Unnamed: 0\", \"p_terminal_type_start\", \"p_number_start\", \"b_pedelec_battery_start\"], axis=1)\n",
    "print(\"Drop end information\")\n",
    "features_2 = features_1.drop(\n",
    "    [\"p_bike_racks_end\",\n",
    "     \"p_spot_end\", \n",
    "     \"p_booked_bikes_end\", \n",
    "     \"p_place_type_end\", \n",
    "     \"datetime_end\",\n",
    "     \"p_uid_end\",\n",
    "     \"p_bikes_end\",     \n",
    "     \"p_lat_end\",\n",
    "     \"p_name_end\",\n",
    "     \"p_free_racks_end\",\n",
    "     \"p_address_end\",\n",
    "     \"p_number_end\",\n",
    "     \"p_lng_end\",\n",
    "     \"p_maintenance_end\",\n",
    "     \"p_terminal_type_end\", \n",
    "     \"p_bike_types_end\"], \n",
    "    axis=1\n",
    ")\n",
    "print(\"Drop object types...\")\n",
    "features_3 = features_2.drop([\"datetime_start\", \"p_name_start\", \"p_address_start\", \"b_lock_types_start\", \"p_bike_types_start\", \"MESS_DATUM\"], axis=1)"
   ]
  },
  {
   "cell_type": "markdown",
   "metadata": {},
   "source": [
    "### Dummy\n",
    "Create Dummy variables for all booleans"
   ]
  },
  {
   "cell_type": "code",
   "execution_count": 55,
   "metadata": {},
   "outputs": [],
   "source": [
    "p_spot_start = features_3[\"p_spot_start\"].astype(int)\n",
    "b_electric_lock_start = features_3[\"b_electric_lock_start\"].astype(int)\n",
    "p_maintenance_start = features_3[\"p_maintenance_start\"].astype(int)\n",
    "\n",
    "# weekend = p_df[\"Weekend\"].astype(int)\n",
    "features = features_3.drop([\"p_spot_start\", \"b_electric_lock_start\", \"p_maintenance_start\"], axis=1)\n",
    "features = pd.concat([features, p_spot_start, b_electric_lock_start, p_maintenance_start], axis=1)"
   ]
  },
  {
   "cell_type": "markdown",
   "metadata": {},
   "source": [
    "### Feature Engineering"
   ]
  },
  {
   "cell_type": "code",
   "execution_count": 56,
   "metadata": {},
   "outputs": [],
   "source": [
    "# features[\"XYZ\"] = np.square(features[\"XXX\"])"
   ]
  },
  {
   "cell_type": "code",
   "execution_count": 57,
   "metadata": {},
   "outputs": [],
   "source": [
    "# Save features\n",
    "features.to_csv(os.path.join(os.getcwd(), \"..\", \"data\", \"output\", \"Features.csv\"))"
   ]
  },
  {
   "cell_type": "markdown",
   "metadata": {},
   "source": [
    "### Split Data"
   ]
  },
  {
   "cell_type": "code",
   "execution_count": 58,
   "metadata": {},
   "outputs": [],
   "source": [
    "features_X = features.drop(\"trip_duration\", axis=1)\n",
    "features_y = features[\"trip_duration\"]\n",
    "X_train, X_test, y_train, y_test = train_test_split(features_X, features_y, random_state=42, test_size=0.3)"
   ]
  },
  {
   "cell_type": "markdown",
   "metadata": {},
   "source": [
    "### Scaling and PCA"
   ]
  },
  {
   "cell_type": "code",
   "execution_count": 59,
   "metadata": {},
   "outputs": [],
   "source": [
    "# STANDARD SCALER\n",
    "st_scaler = StandardScaler()\n",
    "# fit scaler only on training set not on test set\n",
    "st_scaler.fit(X_train)\n",
    "\n",
    "# Save Scaler Object\n",
    "obj = st_scaler\n",
    "filename = \"Standard_Scaler.pkl\"\n",
    "pickle.dump(obj, open(os.path.join(os.getcwd(), \"..\", \"data\", \"output\", \"models\", filename), \"wb\"))\n",
    "\n",
    "X_train_scaled = st_scaler.transform(X_train)"
   ]
  },
  {
   "cell_type": "code",
   "execution_count": 60,
   "metadata": {},
   "outputs": [
    {
     "name": "stdout",
     "output_type": "stream",
     "text": [
      "Var explained: [0.16186261 0.12393358 0.09965512 0.09761776 0.08601056 0.06386806\n",
      " 0.05762055 0.05310806 0.05098027 0.04883361 0.04255657 0.03075712\n",
      " 0.02592038]\n",
      "Sum var explained 0.9427242635705549\n"
     ]
    }
   ],
   "source": [
    "# PCA\n",
    "pca = PCA(n_components=13) # Number of components is set here\n",
    "pca.fit(X_train_scaled)\n",
    "pca_explained_variance = pca.explained_variance_ratio_\n",
    "print(\"Var explained:\", pca_explained_variance)\n",
    "print(\"Sum var explained\", sum(pca_explained_variance))\n",
    "\n",
    "# Save PCA Object\n",
    "obj = pca\n",
    "filename = \"PCA.pkl\"\n",
    "pickle.dump(obj, open(os.path.join(os.getcwd(), \"..\", \"data\", \"output\", \"models\", filename), \"wb\"))"
   ]
  },
  {
   "cell_type": "code",
   "execution_count": null,
   "metadata": {},
   "outputs": [],
   "source": []
  }
 ],
 "metadata": {
  "kernelspec": {
   "display_name": "py38",
   "language": "python",
   "name": "py38"
  },
  "language_info": {
   "codemirror_mode": {
    "name": "ipython",
    "version": 3
   },
   "file_extension": ".py",
   "mimetype": "text/x-python",
   "name": "python",
   "nbconvert_exporter": "python",
   "pygments_lexer": "ipython3",
   "version": "3.8.2"
  }
 },
 "nbformat": 4,
 "nbformat_minor": 4
}
