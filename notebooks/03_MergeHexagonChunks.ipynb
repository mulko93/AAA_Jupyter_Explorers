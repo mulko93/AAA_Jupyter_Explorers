{
 "cells": [
  {
   "cell_type": "code",
   "execution_count": 5,
   "metadata": {},
   "outputs": [],
   "source": [
    "import pandas as pd\n",
    "import os\n",
    "import glob"
   ]
  },
  {
   "cell_type": "code",
   "execution_count": 16,
   "metadata": {},
   "outputs": [
    {
     "name": "stdout",
     "output_type": "stream",
     "text": [
      "C:\\Users\\Max\\github\\AAA_Jupyter_Explorers\\notebooks\\..\\data\\output\\trips-hexagons/\n"
     ]
    }
   ],
   "source": [
    "path_trips_hex_chunks=os.path.join(os.getcwd(), \"..\", \"data\", \"output\", \"trips-hexagons\")\n",
    "\n",
    "print(path_trips_hex_chunks)"
   ]
  },
  {
   "cell_type": "code",
   "execution_count": 23,
   "metadata": {},
   "outputs": [],
   "source": [
    "directors = glob.glob(path_trips_hex_chunks)\n",
    "\n",
    "all_files = []\n",
    "for director in directors:\n",
    "    all_files=all_files+glob.glob(director+\"/*.csv\")\n",
    "    \n",
    "li = []\n",
    "\n",
    "for filename in all_files:\n",
    "    df_read = pd.read_csv(filename, index_col=None, header=0)\n",
    "    li.append(df_read)\n",
    "\n",
    "df = pd.concat(li, axis=0, ignore_index=True)"
   ]
  },
  {
   "cell_type": "code",
   "execution_count": 24,
   "metadata": {},
   "outputs": [],
   "source": [
    "if \"Unnamed: 0\" in df.columns:\n",
    "    df = df.drop(\"Unnamed: 0\", axis=1)"
   ]
  },
  {
   "cell_type": "code",
   "execution_count": 26,
   "metadata": {},
   "outputs": [],
   "source": [
    "df.to_csv(os.path.join(os.getcwd(), \"..\", \"data\", \"output\", \"Trips_Hexagons.csv\"))"
   ]
  },
  {
   "cell_type": "code",
   "execution_count": null,
   "metadata": {},
   "outputs": [],
   "source": []
  }
 ],
 "metadata": {
  "kernelspec": {
   "display_name": "Python 3",
   "language": "python",
   "name": "python3"
  },
  "language_info": {
   "codemirror_mode": {
    "name": "ipython",
    "version": 3
   },
   "file_extension": ".py",
   "mimetype": "text/x-python",
   "name": "python",
   "nbconvert_exporter": "python",
   "pygments_lexer": "ipython3",
   "version": "3.7.6"
  }
 },
 "nbformat": 4,
 "nbformat_minor": 4
}
