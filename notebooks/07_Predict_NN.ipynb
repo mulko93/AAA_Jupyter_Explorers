{
 "cells": [
  {
   "cell_type": "markdown",
   "metadata": {},
   "source": [
    "# Neural Network Pediction\n",
    "Predict the different time resolutions with a trained neural network."
   ]
  },
  {
   "cell_type": "code",
   "execution_count": 21,
   "metadata": {},
   "outputs": [],
   "source": [
    "import pandas as pd\n",
    "import matplotlib.pyplot as plt\n",
    "import pickle\n",
    "import os\n",
    "\n",
    "from tensorflow import keras\n",
    "from tensorflow.keras import layers\n",
    "from sklearn.model_selection import train_test_split"
   ]
  },
  {
   "cell_type": "code",
   "execution_count": 22,
   "metadata": {},
   "outputs": [],
   "source": [
    "path_output=os.path.join(os.getcwd(), \"..\", \"data\", \"output\")"
   ]
  },
  {
   "cell_type": "code",
   "execution_count": 23,
   "metadata": {},
   "outputs": [],
   "source": [
    "features = pd.read_csv(os.path.join(path_output, \"Features.csv\"))\n",
    "features = features.drop(\"Unnamed: 0\", axis=1)"
   ]
  },
  {
   "cell_type": "markdown",
   "metadata": {},
   "source": [
    "### Take Params from csv"
   ]
  },
  {
   "cell_type": "code",
   "execution_count": 24,
   "metadata": {},
   "outputs": [],
   "source": [
    "params = pd.read_csv(os.path.join(os.getcwd(), \"..\", \"data\", \"input\", \"params.csv\")).drop(\"0\", axis=1)\n",
    "_test_size = params[params[\"param\"]==\"test_size\"][\"value\"].values[0]\n",
    "_random_state = int(params[params[\"param\"]==\"random_state\"][\"value\"].values[0])"
   ]
  },
  {
   "cell_type": "markdown",
   "metadata": {},
   "source": [
    "# Prediction"
   ]
  },
  {
   "cell_type": "code",
   "execution_count": 30,
   "metadata": {},
   "outputs": [],
   "source": [
    "def predict(on=\"24_sum\", hex_size=\"hexa_small\"):\n",
    "    \"\"\"\n",
    "        Predict the number of trips in a given time resolution.\n",
    "        \n",
    "        Args:\n",
    "            on (str): time resolution to train on\n",
    "            \n",
    "        Returns:\n",
    "            y_test_predicted (Series): Predicted test data\n",
    "    \n",
    "    \"\"\"\n",
    "    # Temporal Resolution\n",
    "    print(\"Temporal Resolution is\", on)\n",
    "    features_X = features.drop([\"24_sum\", \"6_sum\", \"2_sum\", \"1_sum\"], axis=1)\n",
    "    features_y = features[on]\n",
    "    \n",
    "    # Spatial Resolution\n",
    "    print(\"Spatial Resolution is\", hex_size)\n",
    "    if hex_size==\"hexa_small\":\n",
    "        features_X = features_X.drop(\"hexa_big\", axis=1)\n",
    "    else:\n",
    "        features_X = features_X.drop(\"hexa_small\", axis=1)\n",
    "        \n",
    "    print(\"Split Data with random state\", _random_state, \"and test size\", str(_test_size)+\"...\")\n",
    "    X_train, X_test, y_train, y_test = train_test_split(features_X, features_y, random_state=_random_state, test_size=_test_size)\n",
    "    \n",
    "    print(\"Scale Data with Standard Scaler...\")\n",
    "    with open(os.path.join(path_output, \"models\", \"Standard_Scaler_\"+hex_size+\".pkl\"), \"rb\") as f:\n",
    "        standard_scaler = pickle.load(f)\n",
    "    X_test_scaled = standard_scaler.transform(X_test)\n",
    "\n",
    "    print(\"Do PCA on Data...\")\n",
    "    with open(os.path.join(path_output, \"models\", \"PCA_\"+hex_size+\".pkl\"), \"rb\") as f:\n",
    "        pca = pickle.load(f)\n",
    "    X_test_transformed = pca.transform(X_test_scaled)\n",
    "    \n",
    "    print(\"Load Model\", on+\"...\")\n",
    "    nn_model = keras.models.load_model(os.path.join(path_output, \"models\", \"NN_Regression_Model_\"+on+\"_\"+hex_size))\n",
    "    print(\"Predict...\")\n",
    "    y_test_predicted = nn_model.predict(X_test_transformed)\n",
    "    \n",
    "    return y_test_predicted, y_test"
   ]
  },
  {
   "cell_type": "code",
   "execution_count": 31,
   "metadata": {},
   "outputs": [
    {
     "name": "stdout",
     "output_type": "stream",
     "text": [
      "Temporal Resolution is 1_sum\n",
      "Spatial Resolution is hexa_small\n",
      "Split Data with random state 42 and test size 0.3...\n",
      "Scale Data with Standard Scaler...\n",
      "Do PCA on Data...\n",
      "Load Model 1_sum...\n",
      "Predict...\n",
      "Plot difference between Real and Predicted...\n",
      "Done\n"
     ]
    }
   ],
   "source": [
    "# time_resolution is interchangable with [\"24_sum\", \"6_sum\", \"2_sum\", \"1_sum\"]\n",
    "# spatial_resolution is interchangable with [\"hexa_small\", \"hexa_big\"]\n",
    "time_resolution = \"1_sum\"\n",
    "spatial_resolution = \"hexa_small\"\n",
    "\n",
    "y_test_predicted, y_test = predict(on=time_resolution, hex_size=spatial_resolution)\n",
    "\n",
    "print(\"Plot difference between Real and Predicted...\")\n",
    "fig, ax = plt.subplots(figsize=(16, 8), dpi=300)\n",
    "ax.plot(y_test_predicted, y_test, \"bo\")\n",
    "ax.set_title(\"Real Y vs Predicted Y \"+time_resolution, fontsize=20)\n",
    "ax.set_xlabel(\"Predicted Y\", fontsize=18)\n",
    "ax.set_ylabel(\"Real Y\", fontsize=18)\n",
    "fig.savefig(os.path.join(path_output, \"Real_vs_Predicted_\"+time_resolution+\"_\"+spatial_resolution+\".png\"))\n",
    "plt.close(fig)\n",
    "print(\"Done\")"
   ]
  },
  {
   "cell_type": "code",
   "execution_count": null,
   "metadata": {},
   "outputs": [],
   "source": []
  }
 ],
 "metadata": {
  "kernelspec": {
   "display_name": "PDS20",
   "language": "python",
   "name": "pds20"
  },
  "language_info": {
   "codemirror_mode": {
    "name": "ipython",
    "version": 3
   },
   "file_extension": ".py",
   "mimetype": "text/x-python",
   "name": "python",
   "nbconvert_exporter": "python",
   "pygments_lexer": "ipython3",
   "version": "3.7.7"
  }
 },
 "nbformat": 4,
 "nbformat_minor": 4
}
