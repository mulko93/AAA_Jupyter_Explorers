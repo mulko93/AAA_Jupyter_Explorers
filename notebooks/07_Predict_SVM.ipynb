{
 "cells": [
  {
   "cell_type": "markdown",
   "metadata": {},
   "source": [
    "# SVM Pediction\n",
    "Predict the different time resolutions with a trained SVM."
   ]
  },
  {
   "cell_type": "code",
   "execution_count": 11,
   "metadata": {},
   "outputs": [],
   "source": [
    "import pandas as pd\n",
    "import matplotlib.pyplot as plt\n",
    "import pickle\n",
    "import os\n",
    "from sklearn.model_selection import train_test_split\n",
    "from sklearn.metrics import r2_score"
   ]
  },
  {
   "cell_type": "code",
   "execution_count": 12,
   "metadata": {},
   "outputs": [],
   "source": [
    "path_output=os.path.join(os.getcwd(), \"..\", \"data\", \"output\")"
   ]
  },
  {
   "cell_type": "code",
   "execution_count": 13,
   "metadata": {},
   "outputs": [],
   "source": [
    "features = pd.read_csv(os.path.join(path_output, \"Features.csv\"))\n",
    "features = features.drop(\"Unnamed: 0\", axis=1)"
   ]
  },
  {
   "cell_type": "markdown",
   "metadata": {},
   "source": [
    "### Take Params from csv"
   ]
  },
  {
   "cell_type": "code",
   "execution_count": 14,
   "metadata": {},
   "outputs": [],
   "source": [
    "params = pd.read_csv(os.path.join(os.getcwd(), \"..\", \"data\", \"input\", \"params.csv\")).drop(\"0\", axis=1)\n",
    "_test_size = params[params[\"param\"]==\"test_size\"][\"value\"].values[0]\n",
    "_random_state = int(params[params[\"param\"]==\"random_state\"][\"value\"].values[0])"
   ]
  },
  {
   "cell_type": "markdown",
   "metadata": {},
   "source": [
    "# Prediction"
   ]
  },
  {
   "cell_type": "code",
   "execution_count": 15,
   "metadata": {},
   "outputs": [],
   "source": [
    "def predict(time_res=\"24_demand\", hex_size=\"hexa_big\", kernel=\"linear\"):\n",
    "    \"\"\"\n",
    "        Predict the number of trips in a given time resolution.\n",
    "        \n",
    "        Args:\n",
    "            time_res (str): time resolution to train on\n",
    "            \n",
    "        Returns:\n",
    "            y_test_predicted (Series): Predicted test data\n",
    "    \n",
    "    \"\"\"\n",
    "    print(\"Kernel is\", kernel)\n",
    "    # Temporal Resolution\n",
    "    print(\"Temporal Resolution is\", time_res)\n",
    "    # features_X = features.drop([\"24_sum\", \"6_sum\", \"2_sum\", \"1_sum\"], axis=1)\n",
    "    features_X = features.drop([\"24_demand\", \"24_demand_hex_big\", \"24_demand_hex_small\", \"24_agg_time\",\n",
    "                                \"6_demand\", \"6_demand_hex_big\", \"6_demand_hex_small\", \"6_agg_time\",\n",
    "                                \"2_demand\", \"2_demand_hex_big\", \"2_demand_hex_small\", \"2_agg_time\",\n",
    "                                \"1_demand\", \"1_demand_hex_big\", \"1_demand_hex_small\", \"1_agg_time\",\n",
    "                                \"24_available_hex_big\"], axis=1)\n",
    "    features_y = features[time_res]\n",
    "    \n",
    "    # Spatial Resolution\n",
    "    print(\"Spatial Resolution is\", hex_size)\n",
    "    if hex_size==\"hexa_small\":\n",
    "        features_X = features_X.drop(\"hexa_big\", axis=1)\n",
    "    else:\n",
    "        features_X = features_X.drop(\"hexa_small\", axis=1)\n",
    "        \n",
    "    print(\"Split Data with random state\", _random_state, \"and test size\", str(_test_size)+\"...\")\n",
    "    X_train, X_test, y_train, y_test = train_test_split(features_X, features_y, random_state=_random_state, test_size=_test_size)\n",
    "    \n",
    "    print(\"Scale Data with Standard Scaler...\")\n",
    "    with open(os.path.join(path_output, \"models\", \"Standard_Scaler_\"+hex_size+\".pkl\"), \"rb\") as f:\n",
    "        standard_scaler = pickle.load(f)\n",
    "    X_test_scaled = standard_scaler.transform(X_test)\n",
    "\n",
    "    print(\"Do PCA on Data...\")\n",
    "    with open(os.path.join(path_output, \"models\", \"PCA_\"+hex_size+\".pkl\"), \"rb\") as f:\n",
    "        pca = pickle.load(f)\n",
    "    X_test_transformed = pca.transform(X_test_scaled)\n",
    "    \n",
    "    print(\"Load Model\", \"(\"+time_res+\", \"+hex_size+\", \"+kernel+\")...\")\n",
    "    with open(os.path.join(path_output, \"models\", \"SVR_model_\"+time_res+\"_\"+hex_size+\"_\"+kernel+\".pkl\"), \"rb\") as f:\n",
    "        svr_model = pickle.load(f)\n",
    "    print(\"Predict...\")\n",
    "    y_test_predicted = svr_model.predict(X_test_transformed)\n",
    "    \n",
    "    return y_test_predicted, y_test"
   ]
  },
  {
   "cell_type": "code",
   "execution_count": 18,
   "metadata": {},
   "outputs": [
    {
     "name": "stdout",
     "output_type": "stream",
     "text": [
      "Kernel is linear\n",
      "Temporal Resolution is 24_demand\n",
      "Spatial Resolution is hexa_big\n",
      "Split Data with random state 42 and test size 0.3...\n",
      "Scale Data with Standard Scaler...\n",
      "Do PCA on Data...\n",
      "Load Model (24_demand, hexa_big, linear)...\n",
      "Predict...\n",
      "Plot difference between Real and Predicted...\n",
      "R2: -0.28772407021397983\n",
      "Done\n"
     ]
    }
   ],
   "source": [
    "# time_resolution is interchangable with [\"24_demand\", \"6_demand\", \"2_demand\", \"1_demand\"]\n",
    "# spatial_resolution is interchangable with [\"hexa_small\", \"hexa_big\"]\n",
    "# kernel is interchangable with [\"linear\", \"rbf\", \"poly\"]\n",
    "time_resolution = \"24_demand\"\n",
    "spatial_resolution = \"hexa_big\"\n",
    "kernel = \"linear\"\n",
    "\n",
    "y_test_predicted, y_test = predict(time_res=time_resolution, hex_size=spatial_resolution, kernel=kernel)\n",
    "\n",
    "print(\"Plot difference between Real and Predicted...\")\n",
    "fig, ax = plt.subplots(figsize=(16, 8), dpi=300)\n",
    "ax.plot(y_test_predicted, y_test, \"bo\")\n",
    "ax.set_title(\"Real Y vs Predicted Y (\"+time_resolution+\", \"+spatial_resolution+\", \"+kernel+\")\", fontsize=20)\n",
    "ax.set_xlabel(\"Predicted Y\", fontsize=18)\n",
    "ax.set_ylabel(\"Real Y\", fontsize=18)\n",
    "fig.savefig(os.path.join(path_output, \"SVM_Real_vs_Predicted_\"+time_resolution+\"_\"+spatial_resolution+\"_\"+kernel+\".png\"))\n",
    "plt.close(fig)\n",
    "r2 = r2_score(y_test, y_test_predicted)\n",
    "print(\"R2:\",r2)\n",
    "print(\"Done\")"
   ]
  },
  {
   "cell_type": "code",
   "execution_count": null,
   "metadata": {},
   "outputs": [],
   "source": []
  }
 ],
 "metadata": {
  "kernelspec": {
   "display_name": "Python 3",
   "language": "python",
   "name": "python3"
  },
  "language_info": {
   "codemirror_mode": {
    "name": "ipython",
    "version": 3
   },
   "file_extension": ".py",
   "mimetype": "text/x-python",
   "name": "python",
   "nbconvert_exporter": "python",
   "pygments_lexer": "ipython3",
   "version": "3.8.3"
  }
 },
 "nbformat": 4,
 "nbformat_minor": 4
}
