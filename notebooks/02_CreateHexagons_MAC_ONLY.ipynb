{
 "cells": [
  {
   "cell_type": "markdown",
   "metadata": {},
   "source": [
    "# Create Hexagons\n",
    "\n",
    "#### !!! As this notebook uses h3 package it will NOT WORK ON WINDOWS !!!\n",
    "\n",
    "This notebook creates hexagons lying above the bounding boxes of the city Dresden. For spatial analysis these hexagons are very helpful.\n",
    "\n",
    "### What is done?\n",
    "1. Load GeoJSON of Dresdens bounding box\n",
    "2. Polyfill region of Dresden with Hexagons by given resolution\n",
    "3. Plot and save the hexagons in a dataframe and csv\n",
    "4. Match corresponding hexagons to start and endpoints of trips\n",
    "5. Save them into csv file chunks\n",
    "    - This has to be done because the file is too big to be uplaoded to Github\n",
    "    - But as h3 package is not working on Windows, we have to upload these files so everyone has these information\n",
    "    - The next notebook (03_MergeHexagonChunks) can then be run on Windows\n",
    "    - It loads the chunks and merges them again, creating a Trips_Hexagons.csv (which is on gitignore)\n",
    "\n",
    "### Input\n",
    "\n",
    "- data/output/Trips.csv\n",
    "- data/input/dresden_bounding_box.geojson\n",
    "\n",
    "### Output\n",
    "- data/output/hexagons-dresden.csv\n",
    "- data/output/trips-hexagons/trips-hexagons-{id}.csv\n",
    "    - (Multiple chunkfiles, each with antoher number as id)\n",
    "    \n",
    "---------------------------------------------------------"
   ]
  },
  {
   "cell_type": "markdown",
   "metadata": {},
   "source": [
    "## 0. Pre-Installations of packages\n",
    "Copy one of these lines into the next cell. Beware: pip does not like comments so paste it, run the cell and delete it again!\n",
    "- pip install geopandas\n",
    "- pip install h3\n",
    "- pip install matplotlib\n",
    "- pip install descartes"
   ]
  },
  {
   "cell_type": "code",
   "execution_count": null,
   "metadata": {},
   "outputs": [],
   "source": []
  },
  {
   "cell_type": "code",
   "execution_count": 34,
   "metadata": {},
   "outputs": [],
   "source": [
    "import pandas as pd\n",
    "import geopandas\n",
    "import os\n",
    "import json\n",
    "import numpy as np\n",
    "from h3 import h3\n",
    "from shapely.geometry import shape\n",
    "import matplotlib.pyplot as plt"
   ]
  },
  {
   "cell_type": "code",
   "execution_count": 35,
   "metadata": {},
   "outputs": [
    {
     "name": "stdout",
     "output_type": "stream",
     "text": [
      "Trips path: /home/jovyan/work/notebooks/../data/output/Trips.csv\n",
      "Output path: /home/jovyan/work/notebooks/../data/output\n",
      "GeoJSON path: /home/jovyan/work/notebooks/../data/input/geodata/dresden_bounding_box.geojson\n"
     ]
    }
   ],
   "source": [
    "path_trips=os.path.join(os.getcwd(), '..', 'data', 'output', 'Trips.csv')\n",
    "path_output=os.path.join(os.getcwd(), '..', 'data', 'output')\n",
    "path_geo =os.path.join(os.getcwd(), '..', 'data', 'input', 'geodata', 'dresden_bounding_box.geojson')\n",
    "\n",
    "print(\"Trips path:\", path_trips)\n",
    "print(\"Output path:\", path_output)\n",
    "print(\"GeoJSON path:\", path_geo)"
   ]
  },
  {
   "cell_type": "code",
   "execution_count": null,
   "metadata": {},
   "outputs": [],
   "source": []
  },
  {
   "cell_type": "markdown",
   "metadata": {},
   "source": [
    "## 1. Load GeoJSON of Dresdens bounding box\n",
    "Use Geopandas to read geojson file"
   ]
  },
  {
   "cell_type": "code",
   "execution_count": 36,
   "metadata": {},
   "outputs": [],
   "source": [
    "city_bounding_box = geopandas.read_file(path_geo)\n",
    "city_bounding_box_json_string = city_bounding_box.to_json()\n",
    "city_bounding_box_json = json.loads(city_bounding_box_json_string)\n",
    "city_bounding_box_poly = city_bounding_box_json[\"features\"][0]"
   ]
  },
  {
   "cell_type": "code",
   "execution_count": 37,
   "metadata": {},
   "outputs": [
    {
     "data": {
      "text/plain": [
       "{'type': 'Polygon',\n",
       " 'coordinates': [[[13.746466, 51.178629],\n",
       "   [13.964722, 51.06278],\n",
       "   [13.815186, 50.974527],\n",
       "   [13.572688, 51.0637],\n",
       "   [13.746466, 51.178629]]]}"
      ]
     },
     "execution_count": 37,
     "metadata": {},
     "output_type": "execute_result"
    }
   ],
   "source": [
    "# Valid GeoJSON object\n",
    "city_bounding_box_poly[\"geometry\"]"
   ]
  },
  {
   "cell_type": "markdown",
   "metadata": {},
   "source": [
    "## 2. Polyfill region of Dresden with Hexagons by given resolution"
   ]
  },
  {
   "cell_type": "code",
   "execution_count": 38,
   "metadata": {},
   "outputs": [],
   "source": [
    "# Computing hexagons for a given polygon\n",
    "polygon_obj = city_bounding_box_poly[\"geometry\"] # your geo json object\n",
    "\n",
    "H3_HEXAGON_RESOLUTION_SMALL = 8\n",
    "hexagons_small = h3.polyfill(polygon_obj, res = H3_HEXAGON_RESOLUTION_SMALL, geo_json_conformant = True)\n",
    "H3_HEXAGON_RESOLUTION_BIG = 7\n",
    "hexagons_big = h3.polyfill(polygon_obj, res = H3_HEXAGON_RESOLUTION_BIG, geo_json_conformant = True)"
   ]
  },
  {
   "cell_type": "code",
   "execution_count": 39,
   "metadata": {},
   "outputs": [
    {
     "name": "stdout",
     "output_type": "stream",
     "text": [
      "SMALL HEXAGONS:\n",
      "{'881f1b5405fffff', '881f1b0913fffff', '881f1b54c5fffff', '881f1b55d9fffff', '881f1b4683fffff', '881f1b4457fffff', '881f1b090bfffff', '881f1b0b05fffff', '881f1b5591fffff', '881f1b4607fffff', '881f1b09dbfffff', '881f1b09a5fffff', '881f1b09ddfffff', '881f1b46c3fffff', '881f1b0b57fffff', '881f1b4661fffff', '881f1b46abfffff', '881f1b0b39fffff', '881f1b4641fffff', '881f1b46dbfffff', '881f1b0b43fffff', '881f1b55c9fffff', '881f1b0909fffff', '881f1b5551fffff', '881f1b466bfffff', '881f1b54cdfffff', '881f1b558bfffff', '881f1b5513fffff', '881f1b5451fffff', '881f1b0967fffff', '881f1b0b0dfffff', '881f1b46a9fffff', '881f1b4639fffff', '881f1b0923fffff', '881f1b559bfffff', '881f1b46d9fffff', '881f1b0b25fffff', '881f1b44c9fffff', '881f1b4695fffff', '881f1b549dfffff', '881f1b55bbfffff', '881f1b09e5fffff', '881f1b4697fffff', '881f1b543dfffff', '881f1b54d5fffff', '881f1b0927fffff', '881f1b0b13fffff', '881f1b54ebfffff', '881f1b0905fffff', '881f1b0925fffff', '881f1b466dfffff', '881f1b0b07fffff', '881f1b0955fffff', '881f1b724dfffff', '881f1b09c7fffff', '881f1b568bfffff', '881f1b4651fffff', '881f1b0b49fffff', '881f1b0921fffff', '881f1b548bfffff', '881f1b463dfffff', '881f1b09bbfffff', '881f1b0b01fffff', '881f1b558dfffff', '881f1b09c5fffff', '881f1b4459fffff', '881f1b5413fffff', '881f1b4645fffff', '881f1b09e3fffff', '881f1b56b9fffff', '881f1b0915fffff', '881f1b0901fffff', '881f1b4663fffff', '881f1b5437fffff', '881f1b5497fffff', '881f1b46e5fffff', '881f1b0b6bfffff', '881f1b54d7fffff', '881f1b5411fffff', '881f1b09e1fffff', '881f1b084dfffff', '881f1b0b1dfffff', '881f1b5485fffff', '881f1b55dbfffff', '881f1b441bfffff', '881f1b54b1fffff', '881f1b5439fffff', '881f1b099bfffff', '881f1b080dfffff', '881f1b44cdfffff', '881f1b54adfffff', '881f1b0b31fffff', '881f1b7349fffff', '881f1b54c3fffff', '881f1b5581fffff', '881f1b0833fffff', '881f1b0b0bfffff', '881f1b086dfffff', '881f1b0863fffff', '881f1b54ddfffff', '881f1b0b03fffff', '881f1b09b1fffff', '881f1b5467fffff', '881f1b56a7fffff', '881f1b0931fffff', '881f1b082dfffff', '881f1b54e5fffff', '881f1b0b6dfffff', '881f1b46a7fffff', '881f1b569bfffff', '881f1b464dfffff', '881f1b56b7fffff', '881f1b46d1fffff', '881f1b541bfffff', '881f1b0835fffff', '881f1b465dfffff', '881f1b091bfffff', '881f1b0945fffff', '881f1b09edfffff', '881f1b093bfffff', '881f1b5493fffff', '881f1b5593fffff', '881f1b5483fffff', '881f1b5423fffff', '881f1b5695fffff', '881f1b4643fffff', '881f1b0b59fffff', '881f1b46adfffff', '881f1b0b63fffff', '881f1b0845fffff', '881f1b46edfffff', '881f1b0b11fffff', '881f1b46c5fffff', '881f1b082bfffff', '881f1b5407fffff', '881f1b0957fffff', '881f1b5401fffff', '881f1b0b35fffff', '881f1b5595fffff', '881f1b0999fffff', '881f1b0b1bfffff', '881f1b54a7fffff', '881f1b092dfffff', '881f1b5435fffff', '881f1b09cbfffff', '881f1b4611fffff', '881f1b1987fffff', '881f1b4451fffff', '881f1b4669fffff', '881f1b4453fffff', '881f1b0b2bfffff', '881f1b55d5fffff', '881f1b0911fffff', '881f1b0867fffff', '881f1b0b45fffff', '881f1b55cdfffff', '881f1b4609fffff', '881f1b56bdfffff', '881f1b0953fffff', '881f1b4655fffff', '881f1b0839fffff', '881f1b0b67fffff', '881f1b56a1fffff', '881f1b0939fffff', '881f1b46b1fffff', '881f1b19b1fffff', '881f1b54bbfffff', '881f1b19b5fffff', '881f1b460bfffff', '881f1b46cdfffff', '881f1b551bfffff', '881f1b5425fffff', '881f1b55b3fffff', '881f1b09ebfffff', '881f1b55d1fffff', '881f1b5687fffff', '881f1b0b3bfffff', '881f1b0807fffff', '881f1b0951fffff', '881f1b463bfffff', '881f1b54a3fffff', '881f1b0959fffff', '881f1b5455fffff', '881f1b5589fffff', '881f1b5487fffff', '881f1b4601fffff', '881f1b09e7fffff', '881f1b54b3fffff', '881f1b4647fffff', '881f1b5519fffff', '881f1b5685fffff', '881f1b55c5fffff', '881f1b569dfffff', '881f1b4629fffff', '881f1b198dfffff', '881f1b096dfffff', '881f1b0b55fffff', '881f1b540bfffff', '881f1b08a5fffff', '881f1b09c1fffff', '881f1b4603fffff', '881f1b4623fffff', '881f1b09bdfffff', '881f1b0b4dfffff', '881f1b5457fffff', '881f1b19abfffff', '881f1b46c9fffff', '881f1b19a7fffff', '881f1b464bfffff', '881f1b5427fffff', '881f1b0b61fffff', '881f1b09d1fffff', '881f1b096bfffff', '881f1b4635fffff', '881f1b0829fffff', '881f1b0b4bfffff', '881f1b099dfffff', '881f1b46bdfffff', '881f1b55d3fffff', '881f1b4631fffff', '881f1b56e3fffff', '881f1b09e9fffff', '881f1b0997fffff', '881f1b5693fffff', '881f1b0981fffff', '881f1b56a5fffff', '881f1b46b5fffff', '881f1b468dfffff', '881f1b54a1fffff', '881f1b5689fffff', '881f1b0949fffff', '881f1b19e3fffff', '881f1b5553fffff', '881f1b46e3fffff', '881f1b5587fffff', '881f1b56d1fffff', '881f1b090dfffff', '881f1b5599fffff', '881f1b5429fffff', '881f1b46a5fffff', '881f1b4699fffff', '881f1b19a5fffff', '881f1b4691fffff', '881f1b542dfffff', '881f1b5583fffff', '881f1b0929fffff', '881f1b54d9fffff', '881f1b4621fffff', '881f1b09a3fffff', '881f1b4653fffff', '881f1b095dfffff', '881f1b09d3fffff', '881f1b092bfffff', '881f1b542bfffff', '881f1b548dfffff', '881f1b56b3fffff', '881f1b465bfffff', '881f1b5417fffff', '881f1b09c9fffff', '881f1b5555fffff', '881f1b0965fffff', '881f1b19a3fffff', '881f1b0969fffff', '881f1b46ddfffff', '881f1b54e1fffff', '881f1b734dfffff', '881f1b09a9fffff', '881f1b19e1fffff', '881f1b54bdfffff', '881f1b469bfffff', '881f1b1985fffff', '881f1b5691fffff', '881f1b0801fffff', '881f1b46a3fffff', '881f1b55c3fffff', '881f1b0821fffff', '881f1b54cbfffff', '881f1b0b41fffff', '881f1b0b09fffff', '881f1b0823fffff', '881f1b461dfffff', '881f1b56b5fffff', '881f1b4665fffff', '881f1b445bfffff', '881f1b568dfffff', '881f1b5421fffff', '881f1b19e5fffff', '881f1b543bfffff', '881f1b0b21fffff', '881f1b54e3fffff', '881f1b0943fffff', '881f1b0b65fffff', '881f1b093dfffff', '881f1b54c7fffff', '881f1b0989fffff', '881f1b54abfffff', '881f1b46ebfffff', '881f1b55b9fffff', '881f1b56a3fffff', '881f1b09cdfffff', '881f1b462bfffff', '881f1b46cbfffff', '881f1b0b15fffff', '881f1b4685fffff', '881f1b09d5fffff', '881f1b541dfffff', '881f1b46a1fffff', '881f1b0b29fffff', '881f1b5403fffff', '881f1b46d3fffff', '881f1b46e7fffff', '881f1b5597fffff', '881f1b0b53fffff', '881f1b46c1fffff', '881f1b083dfffff', '881f1b0985fffff', '881f1b0b37fffff', '881f1b56b1fffff', '881f1b549bfffff', '881f1b09a7fffff', '881f1b461bfffff', '881f1b5557fffff', '881f1b46c7fffff', '881f1b0b47fffff', '881f1b0b23fffff', '881f1b4619fffff', '881f1b5681fffff', '881f1b09d7fffff', '881f1b5697fffff', '881f1b086bfffff', '881f1b55c7fffff', '881f1b545bfffff', '881f1b19e7fffff', '881f1b4687fffff', '881f1b0869fffff', '881f1b56d9fffff', '881f1b0941fffff', '881f1b54c9fffff', '881f1b0917fffff', '881f1b46d5fffff', '881f1b55ddfffff', '881f1b098dfffff', '881f1b0b69fffff', '881f1b46d7fffff', '881f1b5511fffff', '881f1b0937fffff', '881f1b0935fffff', '881f1b4667fffff', '881f1b0995fffff', '881f1b55ebfffff', '881f1b5463fffff', '881f1b0b3dfffff', '881f1b56dbfffff', '881f1b09d9fffff', '881f1b0919fffff', '881f1b55c1fffff', '881f1b0b19fffff', '881f1b0865fffff', '881f1b54a5fffff', '881f1b55d7fffff', '881f1b56d3fffff', '881f1b08a7fffff', '881f1b08adfffff', '881f1b0b27fffff', '881f1b5499fffff', '881f1b0983fffff', '881f1b56abfffff', '881f1b56e7fffff', '881f1b09c3fffff', '881f1b54d3fffff', '881f1b54b7fffff', '881f1b5489fffff', '881f1b5481fffff', '881f1b559dfffff', '881f1b19adfffff', '881f1b0825fffff', '881f1b19a1fffff', '881f1b56d5fffff', '881f1b0b17fffff', '881f1b0947fffff', '881f1b094dfffff', '881f1b4649fffff', '881f1b0805fffff', '881f1b09adfffff', '881f1b4617fffff', '881f1b0987fffff', '881f1b5495fffff', '881f1b091dfffff', '881f1b0907fffff', '881f1b095bfffff', '881f1b0963fffff', '881f1b0b51fffff', '881f1b540dfffff', '881f1b0861fffff', '881f1b444bfffff', '881f1b0961fffff', '881f1b46e9fffff', '881f1b5683fffff', '881f1b5453fffff', '881f1b56adfffff', '881f1b54b5fffff', '881f1b09b9fffff', '881f1b56ddfffff', '881f1b54a9fffff', '881f1b4633fffff', '881f1b4659fffff', '881f1b54c1fffff', '881f1b462dfffff', '881f1b555bfffff', '881f1b54d1fffff', '881f1b098bfffff', '881f1b0831fffff', '881f1b55cbfffff', '881f1b4413fffff', '881f1b0991fffff', '881f1b0b5dfffff', '881f1b54dbfffff', '881f1b56a9fffff', '881f1b4693fffff', '881f1b4419fffff', '881f1b4605fffff', '881f1b4615fffff', '881f1b19ebfffff', '881f1b56bbfffff', '881f1b469dfffff', '881f1b5491fffff', '881f1b4613fffff', '881f1b46e1fffff', '881f1b5419fffff', '881f1b56d7fffff', '881f1b4637fffff', '881f1b4657fffff', '881f1b4681fffff', '881f1b09b5fffff', '881f1b54edfffff', '881f1b5433fffff', '881f1b5415fffff', '881f1b56c7fffff', '881f1b46b9fffff', '881f1b094bfffff', '881f1b54e9fffff', '881f1b0847fffff', '881f1b0837fffff', '881f1b19a9fffff', '881f1b09abfffff', '881f1b5699fffff', '881f1b0903fffff', '881f1b09a1fffff', '881f1b5409fffff', '881f1b0827fffff', '881f1b445dfffff', '881f1b54b9fffff', '881f1b0b33fffff', '881f1b0993fffff', '881f1b54e7fffff', '881f1b4689fffff', '881f1b0b2dfffff', '881f1b0933fffff', '881f1b56c3fffff', '881f1b19b7fffff', '881f1b5431fffff', '881f1b46bbfffff', '881f1b19bdfffff', '881f1b460dfffff', '881f1b468bfffff'}\n",
      "\n",
      "BIG HEXAGONS:\n",
      "{'871f1b094ffffff', '871f1b549ffffff', '871f1b468ffffff', '871f1b551ffffff', '871f1b54affffff', '871f1b09dffffff', '871f1b46cffffff', '871f1b46affffff', '871f1b091ffffff', '871f1b465ffffff', '871f1b55dffffff', '871f1b568ffffff', '871f1b46effffff', '871f1b555ffffff', '871f1b466ffffff', '871f1b095ffffff', '871f1b460ffffff', '871f1b19effffff', '871f1b56dffffff', '871f1b461ffffff', '871f1b0b0ffffff', '871f1b19affffff', '871f1b09affffff', '871f1b092ffffff', '871f1b0b4ffffff', '871f1b0b1ffffff', '871f1b46dffffff', '871f1b093ffffff', '871f1b54bffffff', '871f1b462ffffff', '871f1b54effffff', '871f1b54cffffff', '871f1b46bffffff', '871f1b445ffffff', '871f1b543ffffff', '871f1b56bffffff', '871f1b099ffffff', '871f1b540ffffff', '871f1b54dffffff', '871f1b56affffff', '871f1b080ffffff', '871f1b19bffffff', '871f1b542ffffff', '871f1b545ffffff', '871f1b09effffff', '871f1b098ffffff', '871f1b569ffffff', '871f1b086ffffff', '871f1b096ffffff', '871f1b548ffffff', '871f1b55cffffff', '871f1b558ffffff', '871f1b541ffffff', '871f1b0b3ffffff', '871f1b469ffffff', '871f1b0b5ffffff', '871f1b09bffffff', '871f1b464ffffff', '871f1b09cffffff', '871f1b0b2ffffff', '871f1b0b6ffffff', '871f1b463ffffff', '871f1b090ffffff', '871f1b083ffffff', '871f1b082ffffff', '871f1b559ffffff'}\n"
     ]
    }
   ],
   "source": [
    "# Returns only the index of each hexagon, not the geometries\n",
    "print(\"SMALL HEXAGONS:\")\n",
    "print(hexagons_small)\n",
    "print()\n",
    "print(\"BIG HEXAGONS:\")\n",
    "print(hexagons_big)"
   ]
  },
  {
   "cell_type": "markdown",
   "metadata": {},
   "source": [
    "## 3. Plot and save the hexagons in a dataframe and csv\n",
    "### 3.1. Convert H3 Indexes to Geometry Objects"
   ]
  },
  {
   "cell_type": "code",
   "execution_count": 40,
   "metadata": {},
   "outputs": [],
   "source": [
    "# Create geo data frame for small hexagons (resolution = 7)\n",
    "gdf_hexagons_small = geopandas.GeoDataFrame(list(hexagons_small), columns=['h3_hex_small_id'])\n",
    "gdf_hexagons_small['geometry'] = gdf_hexagons_small[(gdf_hexagons_small['h3_hex_small_id'].notna())].apply(lambda row: shape({\"type\": \"Polygon\",\n",
    "                                           \"coordinates\": [h3.h3_to_geo_boundary(row[\"h3_hex_small_id\"], geo_json=True)],\n",
    "                                           \"properties\": \"\"\n",
    "                                           }), axis=1)\n",
    "gdf_hexagons_small = gdf_hexagons_small.set_crs('EPSG:4326')\n",
    "\n",
    "# Create geo data frame for big hexagons (resolution = 6)\n",
    "gdf_hexagons_big = geopandas.GeoDataFrame(list(hexagons_big), columns=['h3_hex_big_id'])\n",
    "gdf_hexagons_big['geometry'] = gdf_hexagons_big[(gdf_hexagons_big['h3_hex_big_id'].notna())].apply(lambda row: shape({\"type\": \"Polygon\",\n",
    "                                           \"coordinates\": [h3.h3_to_geo_boundary(row[\"h3_hex_big_id\"], geo_json=True)],\n",
    "                                           \"properties\": \"\"\n",
    "                                           }), axis=1)\n",
    "gdf_hexagons_big = gdf_hexagons_big.set_crs('EPSG:4326')"
   ]
  },
  {
   "cell_type": "markdown",
   "metadata": {},
   "source": [
    "### 3.2. Simply plot hexagons and print dataframe"
   ]
  },
  {
   "cell_type": "code",
   "execution_count": 41,
   "metadata": {},
   "outputs": [
    {
     "data": {
      "text/plain": [
       "<matplotlib.axes._subplots.AxesSubplot at 0x7f2b98296910>"
      ]
     },
     "execution_count": 41,
     "metadata": {},
     "output_type": "execute_result"
    },
    {
     "data": {
      "image/png": "[encoded data removed]",
      "text/plain": [
       "<Figure size 432x288 with 1 Axes>"
      ]
     },
     "metadata": {
      "needs_background": "light"
     },
     "output_type": "display_data"
    }
   ],
   "source": [
    "gdf_hexagons_small.plot()"
   ]
  },
  {
   "cell_type": "code",
   "execution_count": 42,
   "metadata": {},
   "outputs": [
    {
     "data": {
      "text/html": [
       "<div>\n",
       "<style scoped>\n",
       "    .dataframe tbody tr th:only-of-type {\n",
       "        vertical-align: middle;\n",
       "    }\n",
       "\n",
       "    .dataframe tbody tr th {\n",
       "        vertical-align: top;\n",
       "    }\n",
       "\n",
       "    .dataframe thead th {\n",
       "        text-align: right;\n",
       "    }\n",
       "</style>\n",
       "<table border=\"1\" class=\"dataframe\">\n",
       "  <thead>\n",
       "    <tr style=\"text-align: right;\">\n",
       "      <th></th>\n",
       "      <th>h3_hex_small_id</th>\n",
       "      <th>geometry</th>\n",
       "    </tr>\n",
       "  </thead>\n",
       "  <tbody>\n",
       "    <tr>\n",
       "      <th>0</th>\n",
       "      <td>881f1b5405fffff</td>\n",
       "      <td>POLYGON ((13.62204 51.08915, 13.61986 51.08482...</td>\n",
       "    </tr>\n",
       "    <tr>\n",
       "      <th>1</th>\n",
       "      <td>881f1b0913fffff</td>\n",
       "      <td>POLYGON ((13.85474 51.06991, 13.85254 51.06559...</td>\n",
       "    </tr>\n",
       "    <tr>\n",
       "      <th>2</th>\n",
       "      <td>881f1b54c5fffff</td>\n",
       "      <td>POLYGON ((13.69142 51.09323, 13.68923 51.08890...</td>\n",
       "    </tr>\n",
       "    <tr>\n",
       "      <th>3</th>\n",
       "      <td>881f1b55d9fffff</td>\n",
       "      <td>POLYGON ((13.66573 51.06905, 13.66354 51.06472...</td>\n",
       "    </tr>\n",
       "    <tr>\n",
       "      <th>4</th>\n",
       "      <td>881f1b4683fffff</td>\n",
       "      <td>POLYGON ((13.84091 51.01618, 13.83872 51.01185...</td>\n",
       "    </tr>\n",
       "    <tr>\n",
       "      <th>...</th>\n",
       "      <td>...</td>\n",
       "      <td>...</td>\n",
       "    </tr>\n",
       "    <tr>\n",
       "      <th>460</th>\n",
       "      <td>881f1b5431fffff</td>\n",
       "      <td>POLYGON ((13.65017 51.07821, 13.64798 51.07388...</td>\n",
       "    </tr>\n",
       "    <tr>\n",
       "      <th>461</th>\n",
       "      <td>881f1b46bbfffff</td>\n",
       "      <td>POLYGON ((13.85644 51.00698, 13.85425 51.00265...</td>\n",
       "    </tr>\n",
       "    <tr>\n",
       "      <th>462</th>\n",
       "      <td>881f1b19bdfffff</td>\n",
       "      <td>POLYGON ((13.77161 51.15832, 13.76941 51.15399...</td>\n",
       "    </tr>\n",
       "    <tr>\n",
       "      <th>463</th>\n",
       "      <td>881f1b460dfffff</td>\n",
       "      <td>POLYGON ((13.72793 51.03236, 13.72574 51.02803...</td>\n",
       "    </tr>\n",
       "    <tr>\n",
       "      <th>464</th>\n",
       "      <td>881f1b468bfffff</td>\n",
       "      <td>POLYGON ((13.83793 51.02358, 13.83574 51.01925...</td>\n",
       "    </tr>\n",
       "  </tbody>\n",
       "</table>\n",
       "<p>465 rows × 2 columns</p>\n",
       "</div>"
      ],
      "text/plain": [
       "     h3_hex_small_id                                           geometry\n",
       "0    881f1b5405fffff  POLYGON ((13.62204 51.08915, 13.61986 51.08482...\n",
       "1    881f1b0913fffff  POLYGON ((13.85474 51.06991, 13.85254 51.06559...\n",
       "2    881f1b54c5fffff  POLYGON ((13.69142 51.09323, 13.68923 51.08890...\n",
       "3    881f1b55d9fffff  POLYGON ((13.66573 51.06905, 13.66354 51.06472...\n",
       "4    881f1b4683fffff  POLYGON ((13.84091 51.01618, 13.83872 51.01185...\n",
       "..               ...                                                ...\n",
       "460  881f1b5431fffff  POLYGON ((13.65017 51.07821, 13.64798 51.07388...\n",
       "461  881f1b46bbfffff  POLYGON ((13.85644 51.00698, 13.85425 51.00265...\n",
       "462  881f1b19bdfffff  POLYGON ((13.77161 51.15832, 13.76941 51.15399...\n",
       "463  881f1b460dfffff  POLYGON ((13.72793 51.03236, 13.72574 51.02803...\n",
       "464  881f1b468bfffff  POLYGON ((13.83793 51.02358, 13.83574 51.01925...\n",
       "\n",
       "[465 rows x 2 columns]"
      ]
     },
     "execution_count": 42,
     "metadata": {},
     "output_type": "execute_result"
    }
   ],
   "source": [
    "gdf_hexagons_small"
   ]
  },
  {
   "cell_type": "code",
   "execution_count": 43,
   "metadata": {},
   "outputs": [
    {
     "data": {
      "text/plain": [
       "<matplotlib.axes._subplots.AxesSubplot at 0x7f2b67127700>"
      ]
     },
     "execution_count": 43,
     "metadata": {},
     "output_type": "execute_result"
    },
    {
     "data": {
      "image/png": "[encoded data removed]",
      "text/plain": [
       "<Figure size 432x288 with 1 Axes>"
      ]
     },
     "metadata": {
      "needs_background": "light"
     },
     "output_type": "display_data"
    }
   ],
   "source": [
    "gdf_hexagons_big.plot()"
   ]
  },
  {
   "cell_type": "code",
   "execution_count": 44,
   "metadata": {},
   "outputs": [
    {
     "data": {
      "text/html": [
       "<div>\n",
       "<style scoped>\n",
       "    .dataframe tbody tr th:only-of-type {\n",
       "        vertical-align: middle;\n",
       "    }\n",
       "\n",
       "    .dataframe tbody tr th {\n",
       "        vertical-align: top;\n",
       "    }\n",
       "\n",
       "    .dataframe thead th {\n",
       "        text-align: right;\n",
       "    }\n",
       "</style>\n",
       "<table border=\"1\" class=\"dataframe\">\n",
       "  <thead>\n",
       "    <tr style=\"text-align: right;\">\n",
       "      <th></th>\n",
       "      <th>h3_hex_big_id</th>\n",
       "      <th>geometry</th>\n",
       "    </tr>\n",
       "  </thead>\n",
       "  <tbody>\n",
       "    <tr>\n",
       "      <th>0</th>\n",
       "      <td>871f1b094ffffff</td>\n",
       "      <td>POLYGON ((13.77638 51.08809, 13.77717 51.07638...</td>\n",
       "    </tr>\n",
       "    <tr>\n",
       "      <th>1</th>\n",
       "      <td>871f1b549ffffff</td>\n",
       "      <td>POLYGON ((13.74167 51.08608, 13.74247 51.07437...</td>\n",
       "    </tr>\n",
       "    <tr>\n",
       "      <th>2</th>\n",
       "      <td>871f1b468ffffff</td>\n",
       "      <td>POLYGON ((13.81581 51.01979, 13.81659 51.00806...</td>\n",
       "    </tr>\n",
       "    <tr>\n",
       "      <th>3</th>\n",
       "      <td>871f1b551ffffff</td>\n",
       "      <td>POLYGON ((13.58683 51.05935, 13.58765 51.04764...</td>\n",
       "    </tr>\n",
       "    <tr>\n",
       "      <th>4</th>\n",
       "      <td>871f1b54affffff</td>\n",
       "      <td>POLYGON ((13.69084 51.06548, 13.69165 51.05377...</td>\n",
       "    </tr>\n",
       "    <tr>\n",
       "      <th>...</th>\n",
       "      <td>...</td>\n",
       "      <td>...</td>\n",
       "    </tr>\n",
       "    <tr>\n",
       "      <th>61</th>\n",
       "      <td>871f1b463ffffff</td>\n",
       "      <td>POLYGON ((13.74647 51.01578, 13.74726 51.00406...</td>\n",
       "    </tr>\n",
       "    <tr>\n",
       "      <th>62</th>\n",
       "      <td>871f1b090ffffff</td>\n",
       "      <td>POLYGON ((13.79492 51.07152, 13.79571 51.05981...</td>\n",
       "    </tr>\n",
       "    <tr>\n",
       "      <th>63</th>\n",
       "      <td>871f1b083ffffff</td>\n",
       "      <td>POLYGON ((13.88052 51.09406, 13.88130 51.08235...</td>\n",
       "    </tr>\n",
       "    <tr>\n",
       "      <th>64</th>\n",
       "      <td>871f1b082ffffff</td>\n",
       "      <td>POLYGON ((13.84580 51.09208, 13.84658 51.08037...</td>\n",
       "    </tr>\n",
       "    <tr>\n",
       "      <th>65</th>\n",
       "      <td>871f1b559ffffff</td>\n",
       "      <td>POLYGON ((13.67472 51.04689, 13.67553 51.03518...</td>\n",
       "    </tr>\n",
       "  </tbody>\n",
       "</table>\n",
       "<p>66 rows × 2 columns</p>\n",
       "</div>"
      ],
      "text/plain": [
       "      h3_hex_big_id                                           geometry\n",
       "0   871f1b094ffffff  POLYGON ((13.77638 51.08809, 13.77717 51.07638...\n",
       "1   871f1b549ffffff  POLYGON ((13.74167 51.08608, 13.74247 51.07437...\n",
       "2   871f1b468ffffff  POLYGON ((13.81581 51.01979, 13.81659 51.00806...\n",
       "3   871f1b551ffffff  POLYGON ((13.58683 51.05935, 13.58765 51.04764...\n",
       "4   871f1b54affffff  POLYGON ((13.69084 51.06548, 13.69165 51.05377...\n",
       "..              ...                                                ...\n",
       "61  871f1b463ffffff  POLYGON ((13.74647 51.01578, 13.74726 51.00406...\n",
       "62  871f1b090ffffff  POLYGON ((13.79492 51.07152, 13.79571 51.05981...\n",
       "63  871f1b083ffffff  POLYGON ((13.88052 51.09406, 13.88130 51.08235...\n",
       "64  871f1b082ffffff  POLYGON ((13.84580 51.09208, 13.84658 51.08037...\n",
       "65  871f1b559ffffff  POLYGON ((13.67472 51.04689, 13.67553 51.03518...\n",
       "\n",
       "[66 rows x 2 columns]"
      ]
     },
     "execution_count": 44,
     "metadata": {},
     "output_type": "execute_result"
    }
   ],
   "source": [
    "gdf_hexagons_big"
   ]
  },
  {
   "cell_type": "markdown",
   "metadata": {},
   "source": [
    "### 3.3. Save hexagons as csv"
   ]
  },
  {
   "cell_type": "code",
   "execution_count": 45,
   "metadata": {},
   "outputs": [],
   "source": [
    "gdf_hexagons_small.to_file(os.path.join(path_output, \"hexagons-small-dresden.geojson\"), driver='GeoJSON')"
   ]
  },
  {
   "cell_type": "code",
   "execution_count": 46,
   "metadata": {},
   "outputs": [],
   "source": [
    "gdf_hexagons_big.to_file(os.path.join(path_output, \"hexagons-big-dresden.geojson\"), driver='GeoJSON')"
   ]
  },
  {
   "cell_type": "markdown",
   "metadata": {},
   "source": [
    "## 4. Match corresponding hexagons to start and endpoints of trips"
   ]
  },
  {
   "cell_type": "code",
   "execution_count": 47,
   "metadata": {},
   "outputs": [
    {
     "data": {
      "text/html": [
       "<div>\n",
       "<style scoped>\n",
       "    .dataframe tbody tr th:only-of-type {\n",
       "        vertical-align: middle;\n",
       "    }\n",
       "\n",
       "    .dataframe tbody tr th {\n",
       "        vertical-align: top;\n",
       "    }\n",
       "\n",
       "    .dataframe thead th {\n",
       "        text-align: right;\n",
       "    }\n",
       "</style>\n",
       "<table border=\"1\" class=\"dataframe\">\n",
       "  <thead>\n",
       "    <tr style=\"text-align: right;\">\n",
       "      <th></th>\n",
       "      <th>p_bike_racks_start</th>\n",
       "      <th>p_spot_start</th>\n",
       "      <th>p_booked_bikes_start</th>\n",
       "      <th>p_place_type_start</th>\n",
       "      <th>datetime_start</th>\n",
       "      <th>b_number_start</th>\n",
       "      <th>p_uid_start</th>\n",
       "      <th>p_bikes_start</th>\n",
       "      <th>p_lat_start</th>\n",
       "      <th>b_electric_lock_start</th>\n",
       "      <th>...</th>\n",
       "      <th>trip_duration</th>\n",
       "      <th>idle_time</th>\n",
       "      <th>24_sum</th>\n",
       "      <th>6_sum</th>\n",
       "      <th>2_sum</th>\n",
       "      <th>1_sum</th>\n",
       "      <th>h3_hex_small_id_start</th>\n",
       "      <th>h3_hex_small_id_end</th>\n",
       "      <th>h3_hex_big_id_start</th>\n",
       "      <th>h3_hex_big_id_end</th>\n",
       "    </tr>\n",
       "  </thead>\n",
       "  <tbody>\n",
       "    <tr>\n",
       "      <th>0</th>\n",
       "      <td>0</td>\n",
       "      <td>False</td>\n",
       "      <td>0</td>\n",
       "      <td>12</td>\n",
       "      <td>2019-01-20 00:00:00</td>\n",
       "      <td>93771</td>\n",
       "      <td>12095573</td>\n",
       "      <td>1</td>\n",
       "      <td>51.071262</td>\n",
       "      <td>False</td>\n",
       "      <td>...</td>\n",
       "      <td>28.0</td>\n",
       "      <td>0.0</td>\n",
       "      <td>265</td>\n",
       "      <td>36</td>\n",
       "      <td>19</td>\n",
       "      <td>8</td>\n",
       "      <td>871f1b54bffffff</td>\n",
       "      <td>871f1b559ffffff</td>\n",
       "      <td>861f1b54fffffff</td>\n",
       "      <td>861f1b55fffffff</td>\n",
       "    </tr>\n",
       "    <tr>\n",
       "      <th>1</th>\n",
       "      <td>0</td>\n",
       "      <td>True</td>\n",
       "      <td>0</td>\n",
       "      <td>0</td>\n",
       "      <td>2019-01-20 00:05:00</td>\n",
       "      <td>93576</td>\n",
       "      <td>10299640</td>\n",
       "      <td>5</td>\n",
       "      <td>51.038210</td>\n",
       "      <td>False</td>\n",
       "      <td>...</td>\n",
       "      <td>10.0</td>\n",
       "      <td>0.0</td>\n",
       "      <td>265</td>\n",
       "      <td>33</td>\n",
       "      <td>17</td>\n",
       "      <td>17</td>\n",
       "      <td>871f1b460ffffff</td>\n",
       "      <td>871f1b464ffffff</td>\n",
       "      <td>861f1b467ffffff</td>\n",
       "      <td>861f1b467ffffff</td>\n",
       "    </tr>\n",
       "    <tr>\n",
       "      <th>2</th>\n",
       "      <td>0</td>\n",
       "      <td>True</td>\n",
       "      <td>0</td>\n",
       "      <td>0</td>\n",
       "      <td>2019-01-20 00:07:00</td>\n",
       "      <td>93440</td>\n",
       "      <td>10299584</td>\n",
       "      <td>1</td>\n",
       "      <td>51.042570</td>\n",
       "      <td>True</td>\n",
       "      <td>...</td>\n",
       "      <td>26.0</td>\n",
       "      <td>0.0</td>\n",
       "      <td>265</td>\n",
       "      <td>33</td>\n",
       "      <td>17</td>\n",
       "      <td>17</td>\n",
       "      <td>871f1b559ffffff</td>\n",
       "      <td>871f1b460ffffff</td>\n",
       "      <td>861f1b55fffffff</td>\n",
       "      <td>861f1b467ffffff</td>\n",
       "    </tr>\n",
       "    <tr>\n",
       "      <th>3</th>\n",
       "      <td>0</td>\n",
       "      <td>False</td>\n",
       "      <td>0</td>\n",
       "      <td>12</td>\n",
       "      <td>2019-01-20 00:07:00</td>\n",
       "      <td>93322</td>\n",
       "      <td>12098234</td>\n",
       "      <td>1</td>\n",
       "      <td>51.041798</td>\n",
       "      <td>False</td>\n",
       "      <td>...</td>\n",
       "      <td>2.0</td>\n",
       "      <td>0.0</td>\n",
       "      <td>265</td>\n",
       "      <td>33</td>\n",
       "      <td>17</td>\n",
       "      <td>17</td>\n",
       "      <td>871f1b559ffffff</td>\n",
       "      <td>871f1b559ffffff</td>\n",
       "      <td>861f1b55fffffff</td>\n",
       "      <td>861f1b55fffffff</td>\n",
       "    </tr>\n",
       "    <tr>\n",
       "      <th>4</th>\n",
       "      <td>0</td>\n",
       "      <td>True</td>\n",
       "      <td>0</td>\n",
       "      <td>0</td>\n",
       "      <td>2019-01-20 00:07:00</td>\n",
       "      <td>93585</td>\n",
       "      <td>264575</td>\n",
       "      <td>5</td>\n",
       "      <td>51.071740</td>\n",
       "      <td>False</td>\n",
       "      <td>...</td>\n",
       "      <td>28.0</td>\n",
       "      <td>0.0</td>\n",
       "      <td>265</td>\n",
       "      <td>33</td>\n",
       "      <td>17</td>\n",
       "      <td>17</td>\n",
       "      <td>871f1b54bffffff</td>\n",
       "      <td>871f1b54bffffff</td>\n",
       "      <td>861f1b54fffffff</td>\n",
       "      <td>861f1b54fffffff</td>\n",
       "    </tr>\n",
       "  </tbody>\n",
       "</table>\n",
       "<p>5 rows × 60 columns</p>\n",
       "</div>"
      ],
      "text/plain": [
       "   p_bike_racks_start  p_spot_start  p_booked_bikes_start  p_place_type_start  \\\n",
       "0                   0         False                     0                  12   \n",
       "1                   0          True                     0                   0   \n",
       "2                   0          True                     0                   0   \n",
       "3                   0         False                     0                  12   \n",
       "4                   0          True                     0                   0   \n",
       "\n",
       "        datetime_start  b_number_start  p_uid_start  p_bikes_start  \\\n",
       "0  2019-01-20 00:00:00           93771     12095573              1   \n",
       "1  2019-01-20 00:05:00           93576     10299640              5   \n",
       "2  2019-01-20 00:07:00           93440     10299584              1   \n",
       "3  2019-01-20 00:07:00           93322     12098234              1   \n",
       "4  2019-01-20 00:07:00           93585       264575              5   \n",
       "\n",
       "   p_lat_start  b_electric_lock_start  ...  trip_duration idle_time  24_sum  \\\n",
       "0    51.071262                  False  ...           28.0       0.0     265   \n",
       "1    51.038210                  False  ...           10.0       0.0     265   \n",
       "2    51.042570                   True  ...           26.0       0.0     265   \n",
       "3    51.041798                  False  ...            2.0       0.0     265   \n",
       "4    51.071740                  False  ...           28.0       0.0     265   \n",
       "\n",
       "  6_sum  2_sum  1_sum  h3_hex_small_id_start  h3_hex_small_id_end  \\\n",
       "0    36     19      8        871f1b54bffffff      871f1b559ffffff   \n",
       "1    33     17     17        871f1b460ffffff      871f1b464ffffff   \n",
       "2    33     17     17        871f1b559ffffff      871f1b460ffffff   \n",
       "3    33     17     17        871f1b559ffffff      871f1b559ffffff   \n",
       "4    33     17     17        871f1b54bffffff      871f1b54bffffff   \n",
       "\n",
       "   h3_hex_big_id_start  h3_hex_big_id_end  \n",
       "0      861f1b54fffffff    861f1b55fffffff  \n",
       "1      861f1b467ffffff    861f1b467ffffff  \n",
       "2      861f1b55fffffff    861f1b467ffffff  \n",
       "3      861f1b55fffffff    861f1b55fffffff  \n",
       "4      861f1b54fffffff    861f1b54fffffff  \n",
       "\n",
       "[5 rows x 60 columns]"
      ]
     },
     "execution_count": 47,
     "metadata": {},
     "output_type": "execute_result"
    }
   ],
   "source": [
    "df_trips = pd.read_csv(path_trips, index_col=\"Unnamed: 0\")\n",
    "df_trips.head()"
   ]
  },
  {
   "cell_type": "code",
   "execution_count": 48,
   "metadata": {},
   "outputs": [
    {
     "data": {
      "text/plain": [
       "Index(['p_bike_racks_start', 'p_spot_start', 'p_booked_bikes_start',\n",
       "       'p_place_type_start', 'datetime_start', 'b_number_start', 'p_uid_start',\n",
       "       'p_bikes_start', 'p_lat_start', 'b_electric_lock_start',\n",
       "       'b_bike_type_start', 'p_name_start', 'p_free_racks_start',\n",
       "       'b_lock_types_start', 'p_number_start', 'p_lng_start',\n",
       "       'b_boardcomputer_start', 'p_maintenance_start', 'p_bike_racks_end',\n",
       "       'p_spot_end', 'p_booked_bikes_end', 'p_place_type_end', 'datetime_end',\n",
       "       'p_uid_end', 'p_bikes_end', 'p_lat_end', 'p_name_end',\n",
       "       'p_free_racks_end', 'p_number_end', 'p_lng_end', 'p_maintenance_end',\n",
       "       'air_deg', 'air_hum', 'rain_mm', 'rain_yn', 'sun_hour', 'wind_ms',\n",
       "       'month_start', 'month_end', 'day_start', 'day_end', 'day_of_week_start',\n",
       "       'day_of_week_end', 'hour_start', 'hour_end', 'day_of_year_start',\n",
       "       'day_of_year_end', 'season', 'weekend', 'booking_date_start',\n",
       "       'trip_duration', 'idle_time', '24_sum', '6_sum', '2_sum', '1_sum',\n",
       "       'h3_hex_small_id_start', 'h3_hex_small_id_end', 'h3_hex_big_id_start',\n",
       "       'h3_hex_big_id_end'],\n",
       "      dtype='object')"
      ]
     },
     "execution_count": 48,
     "metadata": {},
     "output_type": "execute_result"
    }
   ],
   "source": [
    "df_trips.columns"
   ]
  },
  {
   "cell_type": "code",
   "execution_count": 49,
   "metadata": {
    "scrolled": true
   },
   "outputs": [
    {
     "data": {
      "text/html": [
       "<div>\n",
       "<style scoped>\n",
       "    .dataframe tbody tr th:only-of-type {\n",
       "        vertical-align: middle;\n",
       "    }\n",
       "\n",
       "    .dataframe tbody tr th {\n",
       "        vertical-align: top;\n",
       "    }\n",
       "\n",
       "    .dataframe thead th {\n",
       "        text-align: right;\n",
       "    }\n",
       "</style>\n",
       "<table border=\"1\" class=\"dataframe\">\n",
       "  <thead>\n",
       "    <tr style=\"text-align: right;\">\n",
       "      <th></th>\n",
       "      <th>p_bike_racks_start</th>\n",
       "      <th>p_spot_start</th>\n",
       "      <th>p_booked_bikes_start</th>\n",
       "      <th>p_place_type_start</th>\n",
       "      <th>datetime_start</th>\n",
       "      <th>b_number_start</th>\n",
       "      <th>p_uid_start</th>\n",
       "      <th>p_bikes_start</th>\n",
       "      <th>p_lat_start</th>\n",
       "      <th>b_electric_lock_start</th>\n",
       "      <th>...</th>\n",
       "      <th>trip_duration</th>\n",
       "      <th>idle_time</th>\n",
       "      <th>24_sum</th>\n",
       "      <th>6_sum</th>\n",
       "      <th>2_sum</th>\n",
       "      <th>1_sum</th>\n",
       "      <th>h3_hex_small_id_start</th>\n",
       "      <th>h3_hex_small_id_end</th>\n",
       "      <th>h3_hex_big_id_start</th>\n",
       "      <th>h3_hex_big_id_end</th>\n",
       "    </tr>\n",
       "  </thead>\n",
       "  <tbody>\n",
       "    <tr>\n",
       "      <th>0</th>\n",
       "      <td>0</td>\n",
       "      <td>False</td>\n",
       "      <td>0</td>\n",
       "      <td>12</td>\n",
       "      <td>2019-01-20 00:00:00</td>\n",
       "      <td>93771</td>\n",
       "      <td>12095573</td>\n",
       "      <td>1</td>\n",
       "      <td>51.071262</td>\n",
       "      <td>False</td>\n",
       "      <td>...</td>\n",
       "      <td>28.0</td>\n",
       "      <td>0.0</td>\n",
       "      <td>265</td>\n",
       "      <td>36</td>\n",
       "      <td>19</td>\n",
       "      <td>8</td>\n",
       "      <td>881f1b54bbfffff</td>\n",
       "      <td>881f1b5599fffff</td>\n",
       "      <td>871f1b54bffffff</td>\n",
       "      <td>871f1b559ffffff</td>\n",
       "    </tr>\n",
       "    <tr>\n",
       "      <th>1</th>\n",
       "      <td>0</td>\n",
       "      <td>True</td>\n",
       "      <td>0</td>\n",
       "      <td>0</td>\n",
       "      <td>2019-01-20 00:05:00</td>\n",
       "      <td>93576</td>\n",
       "      <td>10299640</td>\n",
       "      <td>5</td>\n",
       "      <td>51.038210</td>\n",
       "      <td>False</td>\n",
       "      <td>...</td>\n",
       "      <td>10.0</td>\n",
       "      <td>0.0</td>\n",
       "      <td>265</td>\n",
       "      <td>33</td>\n",
       "      <td>17</td>\n",
       "      <td>17</td>\n",
       "      <td>881f1b4609fffff</td>\n",
       "      <td>881f1b465dfffff</td>\n",
       "      <td>871f1b460ffffff</td>\n",
       "      <td>871f1b464ffffff</td>\n",
       "    </tr>\n",
       "    <tr>\n",
       "      <th>2</th>\n",
       "      <td>0</td>\n",
       "      <td>True</td>\n",
       "      <td>0</td>\n",
       "      <td>0</td>\n",
       "      <td>2019-01-20 00:07:00</td>\n",
       "      <td>93440</td>\n",
       "      <td>10299584</td>\n",
       "      <td>1</td>\n",
       "      <td>51.042570</td>\n",
       "      <td>True</td>\n",
       "      <td>...</td>\n",
       "      <td>26.0</td>\n",
       "      <td>0.0</td>\n",
       "      <td>265</td>\n",
       "      <td>33</td>\n",
       "      <td>17</td>\n",
       "      <td>17</td>\n",
       "      <td>881f1b5591fffff</td>\n",
       "      <td>881f1b4601fffff</td>\n",
       "      <td>871f1b559ffffff</td>\n",
       "      <td>871f1b460ffffff</td>\n",
       "    </tr>\n",
       "    <tr>\n",
       "      <th>3</th>\n",
       "      <td>0</td>\n",
       "      <td>False</td>\n",
       "      <td>0</td>\n",
       "      <td>12</td>\n",
       "      <td>2019-01-20 00:07:00</td>\n",
       "      <td>93322</td>\n",
       "      <td>12098234</td>\n",
       "      <td>1</td>\n",
       "      <td>51.041798</td>\n",
       "      <td>False</td>\n",
       "      <td>...</td>\n",
       "      <td>2.0</td>\n",
       "      <td>0.0</td>\n",
       "      <td>265</td>\n",
       "      <td>33</td>\n",
       "      <td>17</td>\n",
       "      <td>17</td>\n",
       "      <td>881f1b5591fffff</td>\n",
       "      <td>881f1b5591fffff</td>\n",
       "      <td>871f1b559ffffff</td>\n",
       "      <td>871f1b559ffffff</td>\n",
       "    </tr>\n",
       "    <tr>\n",
       "      <th>4</th>\n",
       "      <td>0</td>\n",
       "      <td>True</td>\n",
       "      <td>0</td>\n",
       "      <td>0</td>\n",
       "      <td>2019-01-20 00:07:00</td>\n",
       "      <td>93585</td>\n",
       "      <td>264575</td>\n",
       "      <td>5</td>\n",
       "      <td>51.071740</td>\n",
       "      <td>False</td>\n",
       "      <td>...</td>\n",
       "      <td>28.0</td>\n",
       "      <td>0.0</td>\n",
       "      <td>265</td>\n",
       "      <td>33</td>\n",
       "      <td>17</td>\n",
       "      <td>17</td>\n",
       "      <td>881f1b54b9fffff</td>\n",
       "      <td>881f1b54b9fffff</td>\n",
       "      <td>871f1b54bffffff</td>\n",
       "      <td>871f1b54bffffff</td>\n",
       "    </tr>\n",
       "  </tbody>\n",
       "</table>\n",
       "<p>5 rows × 60 columns</p>\n",
       "</div>"
      ],
      "text/plain": [
       "   p_bike_racks_start  p_spot_start  p_booked_bikes_start  p_place_type_start  \\\n",
       "0                   0         False                     0                  12   \n",
       "1                   0          True                     0                   0   \n",
       "2                   0          True                     0                   0   \n",
       "3                   0         False                     0                  12   \n",
       "4                   0          True                     0                   0   \n",
       "\n",
       "        datetime_start  b_number_start  p_uid_start  p_bikes_start  \\\n",
       "0  2019-01-20 00:00:00           93771     12095573              1   \n",
       "1  2019-01-20 00:05:00           93576     10299640              5   \n",
       "2  2019-01-20 00:07:00           93440     10299584              1   \n",
       "3  2019-01-20 00:07:00           93322     12098234              1   \n",
       "4  2019-01-20 00:07:00           93585       264575              5   \n",
       "\n",
       "   p_lat_start  b_electric_lock_start  ...  trip_duration idle_time  24_sum  \\\n",
       "0    51.071262                  False  ...           28.0       0.0     265   \n",
       "1    51.038210                  False  ...           10.0       0.0     265   \n",
       "2    51.042570                   True  ...           26.0       0.0     265   \n",
       "3    51.041798                  False  ...            2.0       0.0     265   \n",
       "4    51.071740                  False  ...           28.0       0.0     265   \n",
       "\n",
       "  6_sum  2_sum  1_sum  h3_hex_small_id_start  h3_hex_small_id_end  \\\n",
       "0    36     19      8        881f1b54bbfffff      881f1b5599fffff   \n",
       "1    33     17     17        881f1b4609fffff      881f1b465dfffff   \n",
       "2    33     17     17        881f1b5591fffff      881f1b4601fffff   \n",
       "3    33     17     17        881f1b5591fffff      881f1b5591fffff   \n",
       "4    33     17     17        881f1b54b9fffff      881f1b54b9fffff   \n",
       "\n",
       "   h3_hex_big_id_start  h3_hex_big_id_end  \n",
       "0      871f1b54bffffff    871f1b559ffffff  \n",
       "1      871f1b460ffffff    871f1b464ffffff  \n",
       "2      871f1b559ffffff    871f1b460ffffff  \n",
       "3      871f1b559ffffff    871f1b559ffffff  \n",
       "4      871f1b54bffffff    871f1b54bffffff  \n",
       "\n",
       "[5 rows x 60 columns]"
      ]
     },
     "execution_count": 49,
     "metadata": {},
     "output_type": "execute_result"
    }
   ],
   "source": [
    "# Get the hexagon for a data point\n",
    "# Assume we have a dataframe with a column for latitude and longitude representing \"point data\".\n",
    "\n",
    "# Add hex ids for small hexagons and for start and end point\n",
    "df_trips[\"h3_hex_small_id_start\"] = df_trips.apply(lambda row: h3.geo_to_h3(row[\"p_lat_start\"], row[\"p_lng_start\"], H3_HEXAGON_RESOLUTION_SMALL) if (row['p_lat_start'] and row['p_lng_start']) else 0, axis=1)\n",
    "df_trips[\"h3_hex_small_id_end\"] = df_trips.apply(lambda row: h3.geo_to_h3(row[\"p_lat_end\"], row[\"p_lng_end\"], H3_HEXAGON_RESOLUTION_SMALL) if (row['p_lat_end'] and row['p_lng_end']) else 0, axis=1)\n",
    "\n",
    "# Add hex ids for big hexagons and for start and end point\n",
    "df_trips[\"h3_hex_big_id_start\"] = df_trips.apply(lambda row: h3.geo_to_h3(row[\"p_lat_start\"], row[\"p_lng_start\"], H3_HEXAGON_RESOLUTION_BIG) if (row['p_lat_start'] and row['p_lng_start']) else 0, axis=1)\n",
    "df_trips[\"h3_hex_big_id_end\"] = df_trips.apply(lambda row: h3.geo_to_h3(row[\"p_lat_end\"], row[\"p_lng_end\"], H3_HEXAGON_RESOLUTION_BIG) if (row['p_lat_end'] and row['p_lng_end']) else 0, axis=1)\n",
    "df_trips.head()"
   ]
  },
  {
   "cell_type": "markdown",
   "metadata": {},
   "source": [
    "## 5. Save them into csv file chunks\n",
    "- This has to be done because the file is too big to be uplaoded to Github\n",
    "- But as h3 package is not working on Windows, we have to upload these files so everyone has these information\n",
    "- The next notebook (03_MergeHexagonChunks) can then be run on Windows\n",
    "- It loads the chunks and merges them again, creating a Trips_Hexagons.csv (which is on gitignore)"
   ]
  },
  {
   "cell_type": "code",
   "execution_count": 50,
   "metadata": {},
   "outputs": [],
   "source": [
    "# Save as Trips.csv directly\n",
    "df_trips.to_csv(os.path.join(path_output, \"Trips.csv\"))\n",
    "\n",
    "# Into how many chunks do you want to split the dataframe?\n",
    "number_of_chunks = 5\n",
    "\n",
    "for id, df_chunk in enumerate(np.array_split(df_trips, number_of_chunks)):\n",
    "    df_chunk.to_csv(os.path.join(path_output, \"trips-hexagons\",\"trips-hexagons-{id}.csv\").format(id=id))"
   ]
  },
  {
   "cell_type": "code",
   "execution_count": null,
   "metadata": {},
   "outputs": [],
   "source": []
  }
 ],
 "metadata": {
  "kernelspec": {
   "display_name": "Python 3",
   "language": "python",
   "name": "python3"
  },
  "language_info": {
   "codemirror_mode": {
    "name": "ipython",
    "version": 3
   },
   "file_extension": ".py",
   "mimetype": "text/x-python",
   "name": "python",
   "nbconvert_exporter": "python",
   "pygments_lexer": "ipython3",
   "version": "3.8.3"
  }
 },
 "nbformat": 4,
 "nbformat_minor": 4
}
