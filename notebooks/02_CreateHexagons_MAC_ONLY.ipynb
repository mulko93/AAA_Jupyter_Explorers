{
 "cells": [
  {
   "cell_type": "markdown",
   "metadata": {},
   "source": [
    "# Create Hexagons\n",
    "\n",
    "#### !!! As this notebook uses h3 package it will NOT WORK ON WINDOWS !!!\n",
    "\n",
    "This notebook creates hexagons lying above the bounding boxes of the city Dresden. For spatial analysis these hexagons are very helpful.\n",
    "\n",
    "### What is done?\n",
    "1. Load GeoJSON of Dresdens bounding box\n",
    "2. Polyfill region of Dresden with Hexagons by given resolution\n",
    "3. Plot and save the hexagons in a dataframe and csv\n",
    "4. Match corresponding hexagons to start and endpoints of trips\n",
    "5. Save them into csv file chunks\n",
    "    - This has to be done because the file is too big to be uplaoded to Github\n",
    "    - But as h3 package is not working on Windows, we have to upload these files so everyone has these information\n",
    "    - The next notebook (03_MergeHexagonChunks) can then be run on Windows\n",
    "    - It loads the chunks and merges them again, creating a Trips_Hexagons.csv (which is on gitignore)\n",
    "\n",
    "### Input\n",
    "\n",
    "- data/output/Trips.csv\n",
    "- data/input/dresden_bounding_box.geojson\n",
    "\n",
    "### Output\n",
    "- data/output/hexagons-dresden.csv\n",
    "- data/output/trips-hexagons/trips-hexagons-{id}.csv\n",
    "    - (Multiple chunkfiles, each with antoher number as id)\n",
    "    \n",
    "---------------------------------------------------------"
   ]
  },
  {
   "cell_type": "markdown",
   "metadata": {},
   "source": [
    "## 0. Pre-Installations of packages\n",
    "Copy one of these lines into the next cell. Beware: pip does not like comments so paste it, run the cell and delete it again!\n",
    "- pip install geopandas\n",
    "- pip install h3\n",
    "- pip install matplotlib\n",
    "- pip install descartes"
   ]
  },
  {
   "cell_type": "code",
   "execution_count": 13,
   "metadata": {},
   "outputs": [
    {
     "name": "stdout",
     "output_type": "stream",
     "text": [
      "Collecting descartes\n",
      "  Using cached descartes-1.1.0-py3-none-any.whl (5.8 kB)\n",
      "Requirement already satisfied: matplotlib in /Users/mstroh/opt/miniconda3/lib/python3.7/site-packages (from descartes) (3.2.1)\n",
      "Requirement already satisfied: cycler>=0.10 in /Users/mstroh/opt/miniconda3/lib/python3.7/site-packages (from matplotlib->descartes) (0.10.0)\n",
      "Requirement already satisfied: numpy>=1.11 in /Users/mstroh/opt/miniconda3/lib/python3.7/site-packages (from matplotlib->descartes) (1.18.3)\n",
      "Requirement already satisfied: kiwisolver>=1.0.1 in /Users/mstroh/opt/miniconda3/lib/python3.7/site-packages (from matplotlib->descartes) (1.2.0)\n",
      "Requirement already satisfied: python-dateutil>=2.1 in /Users/mstroh/opt/miniconda3/lib/python3.7/site-packages (from matplotlib->descartes) (2.8.1)\n",
      "Requirement already satisfied: pyparsing!=2.0.4,!=2.1.2,!=2.1.6,>=2.0.1 in /Users/mstroh/opt/miniconda3/lib/python3.7/site-packages (from matplotlib->descartes) (2.4.7)\n",
      "Requirement already satisfied: six in /Users/mstroh/opt/miniconda3/lib/python3.7/site-packages (from cycler>=0.10->matplotlib->descartes) (1.14.0)\n",
      "Installing collected packages: descartes\n",
      "Successfully installed descartes-1.1.0\n",
      "Note: you may need to restart the kernel to use updated packages.\n"
     ]
    }
   ],
   "source": []
  },
  {
   "cell_type": "code",
   "execution_count": 1,
   "metadata": {},
   "outputs": [],
   "source": [
    "import pandas as pd\n",
    "import geopandas\n",
    "import os\n",
    "import json\n",
    "import numpy as np\n",
    "from h3 import h3\n",
    "from shapely.geometry import shape\n",
    "import matplotlib.pyplot as plt"
   ]
  },
  {
   "cell_type": "code",
   "execution_count": 2,
   "metadata": {},
   "outputs": [
    {
     "name": "stdout",
     "output_type": "stream",
     "text": [
      "Trips path: /Users/mstroh/PycharmProjects/AAA_Jupyter_Explorers/notebooks/../data/output/Trips.csv\n",
      "Output path: /Users/mstroh/PycharmProjects/AAA_Jupyter_Explorers/notebooks/../data/output\n",
      "GeoJSON path: /Users/mstroh/PycharmProjects/AAA_Jupyter_Explorers/notebooks/../data/input/geodata/dresden_bounding_box.geojson\n"
     ]
    }
   ],
   "source": [
    "path_trips=os.path.join(os.getcwd(), '..', 'data', 'output', 'Trips.csv')\n",
    "path_output=os.path.join(os.getcwd(), '..', 'data', 'output')\n",
    "path_geo =os.path.join(os.getcwd(), '..', 'data', 'input', 'geodata', 'dresden_bounding_box.geojson')\n",
    "\n",
    "print(\"Trips path:\", path_trips)\n",
    "print(\"Output path:\", path_output)\n",
    "print(\"GeoJSON path:\", path_geo)"
   ]
  },
  {
   "cell_type": "code",
   "execution_count": null,
   "metadata": {},
   "outputs": [],
   "source": []
  },
  {
   "cell_type": "markdown",
   "metadata": {},
   "source": [
    "## 1. Load GeoJSON of Dresdens bounding box\n",
    "Use Geopandas to read geojson file"
   ]
  },
  {
   "cell_type": "code",
   "execution_count": 3,
   "metadata": {},
   "outputs": [],
   "source": [
    "city_bounding_box = geopandas.read_file(path_geo)\n",
    "city_bounding_box_json_string = city_bounding_box.to_json()\n",
    "city_bounding_box_json = json.loads(city_bounding_box_json_string)\n",
    "city_bounding_box_poly = city_bounding_box_json[\"features\"][0]"
   ]
  },
  {
   "cell_type": "code",
   "execution_count": 4,
   "metadata": {},
   "outputs": [
    {
     "data": {
      "text/plain": [
       "{'type': 'Polygon',\n",
       " 'coordinates': [[[13.746466, 51.178629],\n",
       "   [13.964722, 51.06278],\n",
       "   [13.815186, 50.974527],\n",
       "   [13.572688, 51.0637],\n",
       "   [13.746466, 51.178629]]]}"
      ]
     },
     "execution_count": 4,
     "metadata": {},
     "output_type": "execute_result"
    }
   ],
   "source": [
    "# Valid GeoJSON object\n",
    "city_bounding_box_poly[\"geometry\"]"
   ]
  },
  {
   "cell_type": "markdown",
   "metadata": {},
   "source": [
    "## 2. Polyfill region of Dresden with Hexagons by given resolution"
   ]
  },
  {
   "cell_type": "code",
   "execution_count": 41,
   "metadata": {},
   "outputs": [],
   "source": [
    "# Computing hexagons for a given polygon\n",
    "polygon_obj = city_bounding_box_poly[\"geometry\"] # your geo json object\n",
    "\n",
    "H3_HEXAGON_RESOLUTION_SMALL = 7\n",
    "hexagons_small = h3.polyfill(polygon_obj, res = H3_HEXAGON_RESOLUTION_SMALL, geo_json_conformant = True)\n",
    "H3_HEXAGON_RESOLUTION_BIG = 6\n",
    "hexagons_big = h3.polyfill(polygon_obj, res = H3_HEXAGON_RESOLUTION_BIG, geo_json_conformant = True)"
   ]
  },
  {
   "cell_type": "code",
   "execution_count": 44,
   "metadata": {},
   "outputs": [
    {
     "name": "stdout",
     "output_type": "stream",
     "text": [
      "SMALL HEXAGONS:\n",
      "{'871f1b558ffffff', '871f1b540ffffff', '871f1b569ffffff', '871f1b463ffffff', '871f1b093ffffff', '871f1b46effffff', '871f1b46cffffff', '871f1b0b0ffffff', '871f1b086ffffff', '871f1b54cffffff', '871f1b464ffffff', '871f1b466ffffff', '871f1b541ffffff', '871f1b098ffffff', '871f1b0b2ffffff', '871f1b083ffffff', '871f1b0b1ffffff', '871f1b091ffffff', '871f1b096ffffff', '871f1b54affffff', '871f1b551ffffff', '871f1b555ffffff', '871f1b461ffffff', '871f1b0b4ffffff', '871f1b543ffffff', '871f1b55cffffff', '871f1b56affffff', '871f1b445ffffff', '871f1b469ffffff', '871f1b19affffff', '871f1b54bffffff', '871f1b559ffffff', '871f1b468ffffff', '871f1b090ffffff', '871f1b55dffffff', '871f1b19bffffff', '871f1b09cffffff', '871f1b09dffffff', '871f1b092ffffff', '871f1b09bffffff', '871f1b56dffffff', '871f1b545ffffff', '871f1b465ffffff', '871f1b09effffff', '871f1b09affffff', '871f1b46dffffff', '871f1b19effffff', '871f1b082ffffff', '871f1b542ffffff', '871f1b549ffffff', '871f1b46bffffff', '871f1b080ffffff', '871f1b56bffffff', '871f1b099ffffff', '871f1b46affffff', '871f1b0b3ffffff', '871f1b0b5ffffff', '871f1b462ffffff', '871f1b460ffffff', '871f1b094ffffff', '871f1b568ffffff', '871f1b54effffff', '871f1b548ffffff', '871f1b54dffffff', '871f1b0b6ffffff', '871f1b095ffffff'}\n",
      "\n",
      "BIG HEXAGONS:\n",
      "{'861f1b467ffffff', '861f1b087ffffff', '861f1b09fffffff', '861f1b46fffffff', '861f1b0b7ffffff', '861f1b097ffffff', '861f1b547ffffff', '861f1b54fffffff', '861f1b56fffffff', '861f1b55fffffff'}\n"
     ]
    }
   ],
   "source": [
    "# Returns only the index of each hexagon, not the geometries\n",
    "print(\"SMALL HEXAGONS:\")\n",
    "print(hexagons_small)\n",
    "print()\n",
    "print(\"BIG HEXAGONS:\")\n",
    "print(hexagons_big)"
   ]
  },
  {
   "cell_type": "markdown",
   "metadata": {},
   "source": [
    "## 3. Plot and save the hexagons in a dataframe and csv\n",
    "### 3.1. Convert H3 Indexes to Geometry Objects"
   ]
  },
  {
   "cell_type": "code",
   "execution_count": 45,
   "metadata": {},
   "outputs": [],
   "source": [
    "# Create geo data frame for small hexagons (resolution = 7)\n",
    "df_hexagons_small = geopandas.GeoDataFrame(list(hexagons_small), columns=['h3_hex_small_id'], crs=\"EPSG:4326\")\n",
    "\n",
    "df_hexagons_small['geometry'] = df_hexagons_small[(df_hexagons_small['h3_hex_small_id'].notna())].apply(lambda row: shape({\"type\": \"Polygon\",\n",
    "                                           \"coordinates\": [h3.h3_to_geo_boundary(row[\"h3_hex_small_id\"], geo_json=True)],\n",
    "                                           \"properties\": \"\"\n",
    "                                           }), axis=1)\n",
    "\n",
    "# Create geo data frame for big hexagons (resolution = 6)\n",
    "df_hexagons_big = geopandas.GeoDataFrame(list(hexagons_big), columns=['h3_hex_big_id'], crs=\"EPSG:4326\")\n",
    "\n",
    "df_hexagons_big['geometry'] = df_hexagons_big[(df_hexagons_big['h3_hex_big_id'].notna())].apply(lambda row: shape({\"type\": \"Polygon\",\n",
    "                                           \"coordinates\": [h3.h3_to_geo_boundary(row[\"h3_hex_big_id\"], geo_json=True)],\n",
    "                                           \"properties\": \"\"\n",
    "                                           }), axis=1)"
   ]
  },
  {
   "cell_type": "markdown",
   "metadata": {},
   "source": [
    "### 3.2. Simply plot hexagons and print dataframe"
   ]
  },
  {
   "cell_type": "code",
   "execution_count": 46,
   "metadata": {},
   "outputs": [
    {
     "data": {
      "text/plain": [
       "<matplotlib.axes._subplots.AxesSubplot at 0x14eddda10>"
      ]
     },
     "execution_count": 46,
     "metadata": {},
     "output_type": "execute_result"
    },
    {
     "data": {
      "image/png": "[encoded data removed]",
      "text/plain": [
       "<Figure size 432x288 with 1 Axes>"
      ]
     },
     "metadata": {
      "needs_background": "light"
     },
     "output_type": "display_data"
    }
   ],
   "source": [
    "df_hexagons_small.plot()"
   ]
  },
  {
   "cell_type": "code",
   "execution_count": 48,
   "metadata": {},
   "outputs": [
    {
     "data": {
      "text/html": [
       "<div>\n",
       "<style scoped>\n",
       "    .dataframe tbody tr th:only-of-type {\n",
       "        vertical-align: middle;\n",
       "    }\n",
       "\n",
       "    .dataframe tbody tr th {\n",
       "        vertical-align: top;\n",
       "    }\n",
       "\n",
       "    .dataframe thead th {\n",
       "        text-align: right;\n",
       "    }\n",
       "</style>\n",
       "<table border=\"1\" class=\"dataframe\">\n",
       "  <thead>\n",
       "    <tr style=\"text-align: right;\">\n",
       "      <th></th>\n",
       "      <th>h3_hex_small_id</th>\n",
       "      <th>geometry</th>\n",
       "    </tr>\n",
       "  </thead>\n",
       "  <tbody>\n",
       "    <tr>\n",
       "      <th>0</th>\n",
       "      <td>871f1b558ffffff</td>\n",
       "      <td>POLYGON ((13.64005 51.04486, 13.64087 51.03314...</td>\n",
       "    </tr>\n",
       "    <tr>\n",
       "      <th>1</th>\n",
       "      <td>871f1b540ffffff</td>\n",
       "      <td>POLYGON ((13.61904 51.09652, 13.61986 51.08482...</td>\n",
       "    </tr>\n",
       "    <tr>\n",
       "      <th>2</th>\n",
       "      <td>871f1b569ffffff</td>\n",
       "      <td>POLYGON ((13.72071 51.13774, 13.72152 51.12604...</td>\n",
       "    </tr>\n",
       "    <tr>\n",
       "      <th>3</th>\n",
       "      <td>871f1b463ffffff</td>\n",
       "      <td>POLYGON ((13.74647 51.01578, 13.74726 51.00406...</td>\n",
       "    </tr>\n",
       "    <tr>\n",
       "      <th>4</th>\n",
       "      <td>871f1b093ffffff</td>\n",
       "      <td>POLYGON ((13.81345 51.05495, 13.81423 51.04323...</td>\n",
       "    </tr>\n",
       "    <tr>\n",
       "      <th>...</th>\n",
       "      <td>...</td>\n",
       "      <td>...</td>\n",
       "    </tr>\n",
       "    <tr>\n",
       "      <th>61</th>\n",
       "      <td>871f1b54effffff</td>\n",
       "      <td>POLYGON ((13.67229 51.08203, 13.67310 51.07032...</td>\n",
       "    </tr>\n",
       "    <tr>\n",
       "      <th>62</th>\n",
       "      <td>871f1b548ffffff</td>\n",
       "      <td>POLYGON ((13.70698 51.08406, 13.70778 51.07235...</td>\n",
       "    </tr>\n",
       "    <tr>\n",
       "      <th>63</th>\n",
       "      <td>871f1b54dffffff</td>\n",
       "      <td>POLYGON ((13.72312 51.10263, 13.72392 51.09093...</td>\n",
       "    </tr>\n",
       "    <tr>\n",
       "      <th>64</th>\n",
       "      <td>871f1b0b6ffffff</td>\n",
       "      <td>POLYGON ((13.73928 51.12120, 13.74008 51.10950...</td>\n",
       "    </tr>\n",
       "    <tr>\n",
       "      <th>65</th>\n",
       "      <td>871f1b095ffffff</td>\n",
       "      <td>POLYGON ((13.81109 51.09009, 13.81187 51.07838...</td>\n",
       "    </tr>\n",
       "  </tbody>\n",
       "</table>\n",
       "<p>66 rows × 2 columns</p>\n",
       "</div>"
      ],
      "text/plain": [
       "    h3_hex_small_id                                           geometry\n",
       "0   871f1b558ffffff  POLYGON ((13.64005 51.04486, 13.64087 51.03314...\n",
       "1   871f1b540ffffff  POLYGON ((13.61904 51.09652, 13.61986 51.08482...\n",
       "2   871f1b569ffffff  POLYGON ((13.72071 51.13774, 13.72152 51.12604...\n",
       "3   871f1b463ffffff  POLYGON ((13.74647 51.01578, 13.74726 51.00406...\n",
       "4   871f1b093ffffff  POLYGON ((13.81345 51.05495, 13.81423 51.04323...\n",
       "..              ...                                                ...\n",
       "61  871f1b54effffff  POLYGON ((13.67229 51.08203, 13.67310 51.07032...\n",
       "62  871f1b548ffffff  POLYGON ((13.70698 51.08406, 13.70778 51.07235...\n",
       "63  871f1b54dffffff  POLYGON ((13.72312 51.10263, 13.72392 51.09093...\n",
       "64  871f1b0b6ffffff  POLYGON ((13.73928 51.12120, 13.74008 51.10950...\n",
       "65  871f1b095ffffff  POLYGON ((13.81109 51.09009, 13.81187 51.07838...\n",
       "\n",
       "[66 rows x 2 columns]"
      ]
     },
     "execution_count": 48,
     "metadata": {},
     "output_type": "execute_result"
    }
   ],
   "source": [
    "df_hexagons_small"
   ]
  },
  {
   "cell_type": "code",
   "execution_count": 49,
   "metadata": {},
   "outputs": [
    {
     "data": {
      "text/plain": [
       "<matplotlib.axes._subplots.AxesSubplot at 0x158e6e910>"
      ]
     },
     "execution_count": 49,
     "metadata": {},
     "output_type": "execute_result"
    },
    {
     "data": {
      "image/png": "[encoded data removed]",
      "text/plain": [
       "<Figure size 432x288 with 1 Axes>"
      ]
     },
     "metadata": {
      "needs_background": "light"
     },
     "output_type": "display_data"
    }
   ],
   "source": [
    "df_hexagons_big.plot()"
   ]
  },
  {
   "cell_type": "code",
   "execution_count": 50,
   "metadata": {},
   "outputs": [
    {
     "data": {
      "text/html": [
       "<div>\n",
       "<style scoped>\n",
       "    .dataframe tbody tr th:only-of-type {\n",
       "        vertical-align: middle;\n",
       "    }\n",
       "\n",
       "    .dataframe tbody tr th {\n",
       "        vertical-align: top;\n",
       "    }\n",
       "\n",
       "    .dataframe thead th {\n",
       "        text-align: right;\n",
       "    }\n",
       "</style>\n",
       "<table border=\"1\" class=\"dataframe\">\n",
       "  <thead>\n",
       "    <tr style=\"text-align: right;\">\n",
       "      <th></th>\n",
       "      <th>h3_hex_big_id</th>\n",
       "      <th>geometry</th>\n",
       "    </tr>\n",
       "  </thead>\n",
       "  <tbody>\n",
       "    <tr>\n",
       "      <th>0</th>\n",
       "      <td>861f1b467ffffff</td>\n",
       "      <td>POLYGON ((13.70939233335146 51.04892282240107,...</td>\n",
       "    </tr>\n",
       "    <tr>\n",
       "      <th>1</th>\n",
       "      <td>861f1b087ffffff</td>\n",
       "      <td>POLYGON ((13.84345217144361 51.12720543733009,...</td>\n",
       "    </tr>\n",
       "    <tr>\n",
       "      <th>2</th>\n",
       "      <td>861f1b09fffffff</td>\n",
       "      <td>POLYGON ((13.86432751736583 51.07550117594182,...</td>\n",
       "    </tr>\n",
       "    <tr>\n",
       "      <th>3</th>\n",
       "      <td>861f1b46fffffff</td>\n",
       "      <td>POLYGON ((13.79728558598623 51.03637274669753,...</td>\n",
       "    </tr>\n",
       "    <tr>\n",
       "      <th>4</th>\n",
       "      <td>861f1b0b7ffffff</td>\n",
       "      <td>POLYGON ((13.75543874334306 51.13976093214367,...</td>\n",
       "    </tr>\n",
       "    <tr>\n",
       "      <th>5</th>\n",
       "      <td>861f1b097ffffff</td>\n",
       "      <td>POLYGON ((13.77637694704919 51.08808996190518,...</td>\n",
       "    </tr>\n",
       "    <tr>\n",
       "      <th>6</th>\n",
       "      <td>861f1b547ffffff</td>\n",
       "      <td>POLYGON ((13.60046007155825 51.11305144151748,...</td>\n",
       "    </tr>\n",
       "    <tr>\n",
       "      <th>7</th>\n",
       "      <td>861f1b54fffffff</td>\n",
       "      <td>POLYGON ((13.68842099374826 51.10060671369379,...</td>\n",
       "    </tr>\n",
       "    <tr>\n",
       "      <th>8</th>\n",
       "      <td>861f1b56fffffff</td>\n",
       "      <td>POLYGON ((13.66742002342612 51.15224433237433,...</td>\n",
       "    </tr>\n",
       "    <tr>\n",
       "      <th>9</th>\n",
       "      <td>861f1b55fffffff</td>\n",
       "      <td>POLYGON ((13.62149402016324 51.06140093438403,...</td>\n",
       "    </tr>\n",
       "  </tbody>\n",
       "</table>\n",
       "</div>"
      ],
      "text/plain": [
       "     h3_hex_big_id                                           geometry\n",
       "0  861f1b467ffffff  POLYGON ((13.70939233335146 51.04892282240107,...\n",
       "1  861f1b087ffffff  POLYGON ((13.84345217144361 51.12720543733009,...\n",
       "2  861f1b09fffffff  POLYGON ((13.86432751736583 51.07550117594182,...\n",
       "3  861f1b46fffffff  POLYGON ((13.79728558598623 51.03637274669753,...\n",
       "4  861f1b0b7ffffff  POLYGON ((13.75543874334306 51.13976093214367,...\n",
       "5  861f1b097ffffff  POLYGON ((13.77637694704919 51.08808996190518,...\n",
       "6  861f1b547ffffff  POLYGON ((13.60046007155825 51.11305144151748,...\n",
       "7  861f1b54fffffff  POLYGON ((13.68842099374826 51.10060671369379,...\n",
       "8  861f1b56fffffff  POLYGON ((13.66742002342612 51.15224433237433,...\n",
       "9  861f1b55fffffff  POLYGON ((13.62149402016324 51.06140093438403,..."
      ]
     },
     "execution_count": 50,
     "metadata": {},
     "output_type": "execute_result"
    }
   ],
   "source": [
    "df_hexagons_big"
   ]
  },
  {
   "cell_type": "markdown",
   "metadata": {},
   "source": [
    "### 3.3. Save hexagons as csv"
   ]
  },
  {
   "cell_type": "code",
   "execution_count": 53,
   "metadata": {},
   "outputs": [],
   "source": [
    "df_hexagons_small.to_csv(os.path.join(path_output, \"hexagons-small-dresden.csv\"))"
   ]
  },
  {
   "cell_type": "code",
   "execution_count": 54,
   "metadata": {},
   "outputs": [],
   "source": [
    "df_hexagons_big.to_csv(os.path.join(path_output, \"hexagons-big-dresden.csv\"))"
   ]
  },
  {
   "cell_type": "markdown",
   "metadata": {},
   "source": [
    "## 4. Match corresponding hexagons to start and endpoints of trips"
   ]
  },
  {
   "cell_type": "code",
   "execution_count": 56,
   "metadata": {},
   "outputs": [
    {
     "data": {
      "text/html": [
       "<div>\n",
       "<style scoped>\n",
       "    .dataframe tbody tr th:only-of-type {\n",
       "        vertical-align: middle;\n",
       "    }\n",
       "\n",
       "    .dataframe tbody tr th {\n",
       "        vertical-align: top;\n",
       "    }\n",
       "\n",
       "    .dataframe thead th {\n",
       "        text-align: right;\n",
       "    }\n",
       "</style>\n",
       "<table border=\"1\" class=\"dataframe\">\n",
       "  <thead>\n",
       "    <tr style=\"text-align: right;\">\n",
       "      <th></th>\n",
       "      <th>p_spot_start</th>\n",
       "      <th>b_lock_types_start</th>\n",
       "      <th>p_maintenance_start</th>\n",
       "      <th>p_bike_racks_start</th>\n",
       "      <th>p_place_type_start</th>\n",
       "      <th>p_number_start</th>\n",
       "      <th>p_uid_start</th>\n",
       "      <th>b_number_start</th>\n",
       "      <th>p_free_racks_start</th>\n",
       "      <th>b_boardcomputer_start</th>\n",
       "      <th>...</th>\n",
       "      <th>p_booked_bikes_end</th>\n",
       "      <th>p_name_end</th>\n",
       "      <th>p_lat_end</th>\n",
       "      <th>air_deg</th>\n",
       "      <th>air_hum</th>\n",
       "      <th>rain_mm</th>\n",
       "      <th>rain_yn</th>\n",
       "      <th>sun_hour</th>\n",
       "      <th>wind_ms</th>\n",
       "      <th>trip_duration</th>\n",
       "    </tr>\n",
       "  </thead>\n",
       "  <tbody>\n",
       "    <tr>\n",
       "      <th>0</th>\n",
       "      <td>False</td>\n",
       "      <td>analog_code_lock</td>\n",
       "      <td>False</td>\n",
       "      <td>0</td>\n",
       "      <td>12</td>\n",
       "      <td>0.0</td>\n",
       "      <td>12095573</td>\n",
       "      <td>93771</td>\n",
       "      <td>0</td>\n",
       "      <td>22532</td>\n",
       "      <td>...</td>\n",
       "      <td>0</td>\n",
       "      <td>BIKE 93771</td>\n",
       "      <td>51.046234</td>\n",
       "      <td>-3.3</td>\n",
       "      <td>75.3</td>\n",
       "      <td>0.0</td>\n",
       "      <td>0.0</td>\n",
       "      <td>0.0</td>\n",
       "      <td>4.3</td>\n",
       "      <td>28.0</td>\n",
       "    </tr>\n",
       "    <tr>\n",
       "      <th>1</th>\n",
       "      <td>True</td>\n",
       "      <td>analog_code_lock</td>\n",
       "      <td>False</td>\n",
       "      <td>0</td>\n",
       "      <td>0</td>\n",
       "      <td>4486.0</td>\n",
       "      <td>10299640</td>\n",
       "      <td>93576</td>\n",
       "      <td>0</td>\n",
       "      <td>0</td>\n",
       "      <td>...</td>\n",
       "      <td>0</td>\n",
       "      <td>BIKE 93576</td>\n",
       "      <td>51.049069</td>\n",
       "      <td>-3.3</td>\n",
       "      <td>75.3</td>\n",
       "      <td>0.0</td>\n",
       "      <td>0.0</td>\n",
       "      <td>0.0</td>\n",
       "      <td>4.3</td>\n",
       "      <td>10.0</td>\n",
       "    </tr>\n",
       "    <tr>\n",
       "      <th>2</th>\n",
       "      <td>True</td>\n",
       "      <td>frame_lock</td>\n",
       "      <td>False</td>\n",
       "      <td>0</td>\n",
       "      <td>0</td>\n",
       "      <td>4483.0</td>\n",
       "      <td>10299584</td>\n",
       "      <td>93440</td>\n",
       "      <td>0</td>\n",
       "      <td>7551004130</td>\n",
       "      <td>...</td>\n",
       "      <td>0</td>\n",
       "      <td>Wundtstr. / Zellescher Weg</td>\n",
       "      <td>51.028370</td>\n",
       "      <td>-3.3</td>\n",
       "      <td>75.3</td>\n",
       "      <td>0.0</td>\n",
       "      <td>0.0</td>\n",
       "      <td>0.0</td>\n",
       "      <td>4.3</td>\n",
       "      <td>26.0</td>\n",
       "    </tr>\n",
       "    <tr>\n",
       "      <th>3</th>\n",
       "      <td>False</td>\n",
       "      <td>analog_code_lock</td>\n",
       "      <td>False</td>\n",
       "      <td>0</td>\n",
       "      <td>12</td>\n",
       "      <td>0.0</td>\n",
       "      <td>12098234</td>\n",
       "      <td>93322</td>\n",
       "      <td>0</td>\n",
       "      <td>1265</td>\n",
       "      <td>...</td>\n",
       "      <td>0</td>\n",
       "      <td>BIKE 93322</td>\n",
       "      <td>51.041798</td>\n",
       "      <td>-3.3</td>\n",
       "      <td>75.3</td>\n",
       "      <td>0.0</td>\n",
       "      <td>0.0</td>\n",
       "      <td>0.0</td>\n",
       "      <td>4.3</td>\n",
       "      <td>2.0</td>\n",
       "    </tr>\n",
       "    <tr>\n",
       "      <th>4</th>\n",
       "      <td>True</td>\n",
       "      <td>analog_code_lock</td>\n",
       "      <td>False</td>\n",
       "      <td>0</td>\n",
       "      <td>0</td>\n",
       "      <td>4373.0</td>\n",
       "      <td>264575</td>\n",
       "      <td>93585</td>\n",
       "      <td>0</td>\n",
       "      <td>0</td>\n",
       "      <td>...</td>\n",
       "      <td>0</td>\n",
       "      <td>Friedensstraße/Conradstr.</td>\n",
       "      <td>51.071740</td>\n",
       "      <td>-3.3</td>\n",
       "      <td>75.3</td>\n",
       "      <td>0.0</td>\n",
       "      <td>0.0</td>\n",
       "      <td>0.0</td>\n",
       "      <td>4.3</td>\n",
       "      <td>28.0</td>\n",
       "    </tr>\n",
       "  </tbody>\n",
       "</table>\n",
       "<p>5 rows × 38 columns</p>\n",
       "</div>"
      ],
      "text/plain": [
       "   p_spot_start b_lock_types_start  p_maintenance_start  p_bike_racks_start  \\\n",
       "0         False   analog_code_lock                False                   0   \n",
       "1          True   analog_code_lock                False                   0   \n",
       "2          True         frame_lock                False                   0   \n",
       "3         False   analog_code_lock                False                   0   \n",
       "4          True   analog_code_lock                False                   0   \n",
       "\n",
       "   p_place_type_start  p_number_start  p_uid_start  b_number_start  \\\n",
       "0                  12             0.0     12095573           93771   \n",
       "1                   0          4486.0     10299640           93576   \n",
       "2                   0          4483.0     10299584           93440   \n",
       "3                  12             0.0     12098234           93322   \n",
       "4                   0          4373.0       264575           93585   \n",
       "\n",
       "   p_free_racks_start  b_boardcomputer_start  ... p_booked_bikes_end  \\\n",
       "0                   0                  22532  ...                  0   \n",
       "1                   0                      0  ...                  0   \n",
       "2                   0             7551004130  ...                  0   \n",
       "3                   0                   1265  ...                  0   \n",
       "4                   0                      0  ...                  0   \n",
       "\n",
       "                   p_name_end  p_lat_end  air_deg  air_hum rain_mm  rain_yn  \\\n",
       "0                  BIKE 93771  51.046234     -3.3     75.3     0.0      0.0   \n",
       "1                  BIKE 93576  51.049069     -3.3     75.3     0.0      0.0   \n",
       "2  Wundtstr. / Zellescher Weg  51.028370     -3.3     75.3     0.0      0.0   \n",
       "3                  BIKE 93322  51.041798     -3.3     75.3     0.0      0.0   \n",
       "4   Friedensstraße/Conradstr.  51.071740     -3.3     75.3     0.0      0.0   \n",
       "\n",
       "   sun_hour  wind_ms  trip_duration  \n",
       "0       0.0      4.3           28.0  \n",
       "1       0.0      4.3           10.0  \n",
       "2       0.0      4.3           26.0  \n",
       "3       0.0      4.3            2.0  \n",
       "4       0.0      4.3           28.0  \n",
       "\n",
       "[5 rows x 38 columns]"
      ]
     },
     "execution_count": 56,
     "metadata": {},
     "output_type": "execute_result"
    }
   ],
   "source": [
    "df_trips = pd.read_csv(path_trips, index_col=\"Unnamed: 0\")\n",
    "df_trips.head()"
   ]
  },
  {
   "cell_type": "code",
   "execution_count": 57,
   "metadata": {},
   "outputs": [
    {
     "data": {
      "text/plain": [
       "Index(['p_spot_start', 'b_lock_types_start', 'p_maintenance_start',\n",
       "       'p_bike_racks_start', 'p_place_type_start', 'p_number_start',\n",
       "       'p_uid_start', 'b_number_start', 'p_free_racks_start',\n",
       "       'b_boardcomputer_start', 'datetime_start', 'p_lng_start',\n",
       "       'b_electric_lock_start', 'p_bikes_start', 'p_booked_bikes_start',\n",
       "       'p_name_start', 'b_bike_type_start', 'p_lat_start', 'p_spot_end',\n",
       "       'p_maintenance_end', 'p_bike_racks_end', 'p_place_type_end',\n",
       "       'p_number_end', 'p_uid_end', 'p_free_racks_end', 'datetime_end',\n",
       "       'p_lng_end', 'p_bikes_end', 'p_booked_bikes_end', 'p_name_end',\n",
       "       'p_lat_end', 'air_deg', 'air_hum', 'rain_mm', 'rain_yn', 'sun_hour',\n",
       "       'wind_ms', 'trip_duration'],\n",
       "      dtype='object')"
      ]
     },
     "execution_count": 57,
     "metadata": {},
     "output_type": "execute_result"
    }
   ],
   "source": [
    "df_trips.columns"
   ]
  },
  {
   "cell_type": "code",
   "execution_count": 58,
   "metadata": {
    "scrolled": true
   },
   "outputs": [
    {
     "data": {
      "text/html": [
       "<div>\n",
       "<style scoped>\n",
       "    .dataframe tbody tr th:only-of-type {\n",
       "        vertical-align: middle;\n",
       "    }\n",
       "\n",
       "    .dataframe tbody tr th {\n",
       "        vertical-align: top;\n",
       "    }\n",
       "\n",
       "    .dataframe thead th {\n",
       "        text-align: right;\n",
       "    }\n",
       "</style>\n",
       "<table border=\"1\" class=\"dataframe\">\n",
       "  <thead>\n",
       "    <tr style=\"text-align: right;\">\n",
       "      <th></th>\n",
       "      <th>p_spot_start</th>\n",
       "      <th>b_lock_types_start</th>\n",
       "      <th>p_maintenance_start</th>\n",
       "      <th>p_bike_racks_start</th>\n",
       "      <th>p_place_type_start</th>\n",
       "      <th>p_number_start</th>\n",
       "      <th>p_uid_start</th>\n",
       "      <th>b_number_start</th>\n",
       "      <th>p_free_racks_start</th>\n",
       "      <th>b_boardcomputer_start</th>\n",
       "      <th>...</th>\n",
       "      <th>air_hum</th>\n",
       "      <th>rain_mm</th>\n",
       "      <th>rain_yn</th>\n",
       "      <th>sun_hour</th>\n",
       "      <th>wind_ms</th>\n",
       "      <th>trip_duration</th>\n",
       "      <th>h3_hex_small_id_start</th>\n",
       "      <th>h3_hex_small_id_end</th>\n",
       "      <th>h3_hex_big_id_start</th>\n",
       "      <th>h3_hex_big_id_end</th>\n",
       "    </tr>\n",
       "  </thead>\n",
       "  <tbody>\n",
       "    <tr>\n",
       "      <th>0</th>\n",
       "      <td>False</td>\n",
       "      <td>analog_code_lock</td>\n",
       "      <td>False</td>\n",
       "      <td>0</td>\n",
       "      <td>12</td>\n",
       "      <td>0.0</td>\n",
       "      <td>12095573</td>\n",
       "      <td>93771</td>\n",
       "      <td>0</td>\n",
       "      <td>22532</td>\n",
       "      <td>...</td>\n",
       "      <td>75.3</td>\n",
       "      <td>0.0</td>\n",
       "      <td>0.0</td>\n",
       "      <td>0.0</td>\n",
       "      <td>4.3</td>\n",
       "      <td>28.0</td>\n",
       "      <td>871f1b54bffffff</td>\n",
       "      <td>871f1b559ffffff</td>\n",
       "      <td>861f1b54fffffff</td>\n",
       "      <td>861f1b55fffffff</td>\n",
       "    </tr>\n",
       "    <tr>\n",
       "      <th>1</th>\n",
       "      <td>True</td>\n",
       "      <td>analog_code_lock</td>\n",
       "      <td>False</td>\n",
       "      <td>0</td>\n",
       "      <td>0</td>\n",
       "      <td>4486.0</td>\n",
       "      <td>10299640</td>\n",
       "      <td>93576</td>\n",
       "      <td>0</td>\n",
       "      <td>0</td>\n",
       "      <td>...</td>\n",
       "      <td>75.3</td>\n",
       "      <td>0.0</td>\n",
       "      <td>0.0</td>\n",
       "      <td>0.0</td>\n",
       "      <td>4.3</td>\n",
       "      <td>10.0</td>\n",
       "      <td>871f1b460ffffff</td>\n",
       "      <td>871f1b464ffffff</td>\n",
       "      <td>861f1b467ffffff</td>\n",
       "      <td>861f1b467ffffff</td>\n",
       "    </tr>\n",
       "    <tr>\n",
       "      <th>2</th>\n",
       "      <td>True</td>\n",
       "      <td>frame_lock</td>\n",
       "      <td>False</td>\n",
       "      <td>0</td>\n",
       "      <td>0</td>\n",
       "      <td>4483.0</td>\n",
       "      <td>10299584</td>\n",
       "      <td>93440</td>\n",
       "      <td>0</td>\n",
       "      <td>7551004130</td>\n",
       "      <td>...</td>\n",
       "      <td>75.3</td>\n",
       "      <td>0.0</td>\n",
       "      <td>0.0</td>\n",
       "      <td>0.0</td>\n",
       "      <td>4.3</td>\n",
       "      <td>26.0</td>\n",
       "      <td>871f1b559ffffff</td>\n",
       "      <td>871f1b460ffffff</td>\n",
       "      <td>861f1b55fffffff</td>\n",
       "      <td>861f1b467ffffff</td>\n",
       "    </tr>\n",
       "    <tr>\n",
       "      <th>3</th>\n",
       "      <td>False</td>\n",
       "      <td>analog_code_lock</td>\n",
       "      <td>False</td>\n",
       "      <td>0</td>\n",
       "      <td>12</td>\n",
       "      <td>0.0</td>\n",
       "      <td>12098234</td>\n",
       "      <td>93322</td>\n",
       "      <td>0</td>\n",
       "      <td>1265</td>\n",
       "      <td>...</td>\n",
       "      <td>75.3</td>\n",
       "      <td>0.0</td>\n",
       "      <td>0.0</td>\n",
       "      <td>0.0</td>\n",
       "      <td>4.3</td>\n",
       "      <td>2.0</td>\n",
       "      <td>871f1b559ffffff</td>\n",
       "      <td>871f1b559ffffff</td>\n",
       "      <td>861f1b55fffffff</td>\n",
       "      <td>861f1b55fffffff</td>\n",
       "    </tr>\n",
       "    <tr>\n",
       "      <th>4</th>\n",
       "      <td>True</td>\n",
       "      <td>analog_code_lock</td>\n",
       "      <td>False</td>\n",
       "      <td>0</td>\n",
       "      <td>0</td>\n",
       "      <td>4373.0</td>\n",
       "      <td>264575</td>\n",
       "      <td>93585</td>\n",
       "      <td>0</td>\n",
       "      <td>0</td>\n",
       "      <td>...</td>\n",
       "      <td>75.3</td>\n",
       "      <td>0.0</td>\n",
       "      <td>0.0</td>\n",
       "      <td>0.0</td>\n",
       "      <td>4.3</td>\n",
       "      <td>28.0</td>\n",
       "      <td>871f1b54bffffff</td>\n",
       "      <td>871f1b54bffffff</td>\n",
       "      <td>861f1b54fffffff</td>\n",
       "      <td>861f1b54fffffff</td>\n",
       "    </tr>\n",
       "  </tbody>\n",
       "</table>\n",
       "<p>5 rows × 42 columns</p>\n",
       "</div>"
      ],
      "text/plain": [
       "   p_spot_start b_lock_types_start  p_maintenance_start  p_bike_racks_start  \\\n",
       "0         False   analog_code_lock                False                   0   \n",
       "1          True   analog_code_lock                False                   0   \n",
       "2          True         frame_lock                False                   0   \n",
       "3         False   analog_code_lock                False                   0   \n",
       "4          True   analog_code_lock                False                   0   \n",
       "\n",
       "   p_place_type_start  p_number_start  p_uid_start  b_number_start  \\\n",
       "0                  12             0.0     12095573           93771   \n",
       "1                   0          4486.0     10299640           93576   \n",
       "2                   0          4483.0     10299584           93440   \n",
       "3                  12             0.0     12098234           93322   \n",
       "4                   0          4373.0       264575           93585   \n",
       "\n",
       "   p_free_racks_start  b_boardcomputer_start  ... air_hum  rain_mm  rain_yn  \\\n",
       "0                   0                  22532  ...    75.3      0.0      0.0   \n",
       "1                   0                      0  ...    75.3      0.0      0.0   \n",
       "2                   0             7551004130  ...    75.3      0.0      0.0   \n",
       "3                   0                   1265  ...    75.3      0.0      0.0   \n",
       "4                   0                      0  ...    75.3      0.0      0.0   \n",
       "\n",
       "   sun_hour  wind_ms trip_duration  h3_hex_small_id_start  \\\n",
       "0       0.0      4.3          28.0        871f1b54bffffff   \n",
       "1       0.0      4.3          10.0        871f1b460ffffff   \n",
       "2       0.0      4.3          26.0        871f1b559ffffff   \n",
       "3       0.0      4.3           2.0        871f1b559ffffff   \n",
       "4       0.0      4.3          28.0        871f1b54bffffff   \n",
       "\n",
       "   h3_hex_small_id_end  h3_hex_big_id_start  h3_hex_big_id_end  \n",
       "0      871f1b559ffffff      861f1b54fffffff    861f1b55fffffff  \n",
       "1      871f1b464ffffff      861f1b467ffffff    861f1b467ffffff  \n",
       "2      871f1b460ffffff      861f1b55fffffff    861f1b467ffffff  \n",
       "3      871f1b559ffffff      861f1b55fffffff    861f1b55fffffff  \n",
       "4      871f1b54bffffff      861f1b54fffffff    861f1b54fffffff  \n",
       "\n",
       "[5 rows x 42 columns]"
      ]
     },
     "execution_count": 58,
     "metadata": {},
     "output_type": "execute_result"
    }
   ],
   "source": [
    "# Get the hexagon for a data point\n",
    "# Assume we have a dataframe with a column for latitude and longitude representing \"point data\".\n",
    "\n",
    "# Add hex ids for small hexagons and for start and end point\n",
    "df_trips[\"h3_hex_small_id_start\"] = df_trips.apply(lambda row: h3.geo_to_h3(row[\"p_lat_start\"], row[\"p_lng_start\"], H3_HEXAGON_RESOLUTION_SMALL) if (row['p_lat_start'] and row['p_lng_start']) else 0, axis=1)\n",
    "df_trips[\"h3_hex_small_id_end\"] = df_trips.apply(lambda row: h3.geo_to_h3(row[\"p_lat_end\"], row[\"p_lng_end\"], H3_HEXAGON_RESOLUTION_SMALL) if (row['p_lat_end'] and row['p_lng_end']) else 0, axis=1)\n",
    "\n",
    "# Add hex ids for big hexagons and for start and end point\n",
    "df_trips[\"h3_hex_big_id_start\"] = df_trips.apply(lambda row: h3.geo_to_h3(row[\"p_lat_start\"], row[\"p_lng_start\"], H3_HEXAGON_RESOLUTION_BIG) if (row['p_lat_start'] and row['p_lng_start']) else 0, axis=1)\n",
    "df_trips[\"h3_hex_big_id_end\"] = df_trips.apply(lambda row: h3.geo_to_h3(row[\"p_lat_end\"], row[\"p_lng_end\"], H3_HEXAGON_RESOLUTION_BIG) if (row['p_lat_end'] and row['p_lng_end']) else 0, axis=1)\n",
    "df_trips.head()"
   ]
  },
  {
   "cell_type": "markdown",
   "metadata": {},
   "source": [
    "## 5. Save them into csv file chunks\n",
    "- This has to be done because the file is too big to be uplaoded to Github\n",
    "- But as h3 package is not working on Windows, we have to upload these files so everyone has these information\n",
    "- The next notebook (03_MergeHexagonChunks) can then be run on Windows\n",
    "- It loads the chunks and merges them again, creating a Trips_Hexagons.csv (which is on gitignore)"
   ]
  },
  {
   "cell_type": "code",
   "execution_count": 59,
   "metadata": {},
   "outputs": [],
   "source": [
    "# Save as Trips.csv directly\n",
    "df_trips.to_csv(os.path.join(path_output, \"Trips.csv\"))\n",
    "\n",
    "# Into how many chunks do you want to split the dataframe?\n",
    "number_of_chunks = 5\n",
    "\n",
    "for id, df_chunk in enumerate(np.array_split(df_trips, number_of_chunks)):\n",
    "    df_chunk.to_csv(os.path.join(path_output, \"trips-hexagons\",\"trips-hexagons-{id}.csv\").format(id=id))"
   ]
  },
  {
   "cell_type": "code",
   "execution_count": null,
   "metadata": {},
   "outputs": [],
   "source": []
  }
 ],
 "metadata": {
  "kernelspec": {
   "display_name": "Python 3",
   "language": "python",
   "name": "python3"
  },
  "language_info": {
   "codemirror_mode": {
    "name": "ipython",
    "version": 3
   },
   "file_extension": ".py",
   "mimetype": "text/x-python",
   "name": "python",
   "nbconvert_exporter": "python",
   "pygments_lexer": "ipython3",
   "version": "3.7.6"
  }
 },
 "nbformat": 4,
 "nbformat_minor": 4
}
