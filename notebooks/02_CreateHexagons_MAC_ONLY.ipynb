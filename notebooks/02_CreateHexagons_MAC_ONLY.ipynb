{
 "cells": [
  {
   "cell_type": "markdown",
   "metadata": {},
   "source": [
    "# Create Hexagons\n",
    "\n",
    "#### !!! As this notebook uses h3 package it will NOT WORK ON WINDOWS !!!\n",
    "\n",
    "This notebook creates hexagons lying above the bounding boxes of the city Dresden. For spatial analysis these hexagons are very helpful.\n",
    "\n",
    "### What is done?\n",
    "1. Load GeoJSON of Dresdens bounding box\n",
    "2. Polyfill region of Dresden with Hexagons by given resolution\n",
    "3. Plot and save the hexagons in a dataframe and csv\n",
    "4. Match corresponding hexagons to start and endpoints of trips\n",
    "5. Save them into csv file chunks\n",
    "    - This has to be done because the file is too big to be uplaoded to Github\n",
    "    - But as h3 package is not working on Windows, we have to upload these files so everyone has these information\n",
    "    - The next notebook (03_MergeHexagonChunks) can then be run on Windows\n",
    "    - It loads the chunks and merges them again, creating a Trips_Hexagons.csv (which is on gitignore)\n",
    "\n",
    "### Input\n",
    "\n",
    "- data/output/Trips.csv\n",
    "- data/input/dresden_bounding_box.geojson\n",
    "\n",
    "### Output\n",
    "- data/output/hexagons-dresden.csv\n",
    "- data/output/trips-hexagons/trips-hexagons-{id}.csv\n",
    "    - (Multiple chunkfiles, each with antoher number as id)\n",
    "    \n",
    "---------------------------------------------------------"
   ]
  },
  {
   "cell_type": "markdown",
   "metadata": {},
   "source": [
    "## 0. Pre-Installations of packages\n",
    "Copy one of these lines into the next cell. Beware: pip does not like comments so paste it, run the cell and delete it again!\n",
    "- pip install geopandas\n",
    "- pip install h3\n",
    "- pip install matplotlib\n",
    "- pip install descartes"
   ]
  },
  {
   "cell_type": "code",
   "execution_count": null,
   "metadata": {},
   "outputs": [],
   "source": []
  },
  {
   "cell_type": "code",
   "execution_count": 1,
   "metadata": {},
   "outputs": [],
   "source": [
    "import pandas as pd\n",
    "import geopandas\n",
    "import os\n",
    "import json\n",
    "import numpy as np\n",
    "from h3 import h3\n",
    "from shapely.geometry import shape\n",
    "import matplotlib.pyplot as plt"
   ]
  },
  {
   "cell_type": "code",
   "execution_count": 2,
   "metadata": {},
   "outputs": [
    {
     "name": "stdout",
     "output_type": "stream",
     "text": [
      "Trips path: /home/jovyan/work/notebooks/../data/output/Trips.csv\n",
      "Output path: /home/jovyan/work/notebooks/../data/output\n",
      "GeoJSON path: /home/jovyan/work/notebooks/../data/input/geodata/dresden_bounding_box.geojson\n"
     ]
    }
   ],
   "source": [
    "path_trips=os.path.join(os.getcwd(), '..', 'data', 'output', 'Trips.csv')\n",
    "path_output=os.path.join(os.getcwd(), '..', 'data', 'output')\n",
    "path_geo =os.path.join(os.getcwd(), '..', 'data', 'input', 'geodata', 'dresden_bounding_box.geojson')\n",
    "\n",
    "print(\"Trips path:\", path_trips)\n",
    "print(\"Output path:\", path_output)\n",
    "print(\"GeoJSON path:\", path_geo)"
   ]
  },
  {
   "cell_type": "code",
   "execution_count": null,
   "metadata": {},
   "outputs": [],
   "source": []
  },
  {
   "cell_type": "markdown",
   "metadata": {},
   "source": [
    "## 1. Load GeoJSON of Dresdens bounding box\n",
    "Use Geopandas to read geojson file"
   ]
  },
  {
   "cell_type": "code",
   "execution_count": 3,
   "metadata": {},
   "outputs": [],
   "source": [
    "city_bounding_box = geopandas.read_file(path_geo)\n",
    "city_bounding_box_json_string = city_bounding_box.to_json()\n",
    "city_bounding_box_json = json.loads(city_bounding_box_json_string)\n",
    "city_bounding_box_poly = city_bounding_box_json[\"features\"][0]"
   ]
  },
  {
   "cell_type": "code",
   "execution_count": 4,
   "metadata": {},
   "outputs": [
    {
     "data": {
      "text/plain": [
       "{'type': 'Polygon',\n",
       " 'coordinates': [[[13.746466, 51.178629],\n",
       "   [13.964722, 51.06278],\n",
       "   [13.815186, 50.974527],\n",
       "   [13.572688, 51.0637],\n",
       "   [13.746466, 51.178629]]]}"
      ]
     },
     "execution_count": 4,
     "metadata": {},
     "output_type": "execute_result"
    }
   ],
   "source": [
    "# Valid GeoJSON object\n",
    "city_bounding_box_poly[\"geometry\"]"
   ]
  },
  {
   "cell_type": "markdown",
   "metadata": {},
   "source": [
    "## 2. Polyfill region of Dresden with Hexagons by given resolution"
   ]
  },
  {
   "cell_type": "code",
   "execution_count": 5,
   "metadata": {},
   "outputs": [],
   "source": [
    "# Computing hexagons for a given polygon\n",
    "polygon_obj = city_bounding_box_poly[\"geometry\"] # your geo json object\n",
    "\n",
    "H3_HEXAGON_RESOLUTION_SMALL = 7\n",
    "hexagons_small = h3.polyfill(polygon_obj, res = H3_HEXAGON_RESOLUTION_SMALL, geo_json_conformant = True)\n",
    "H3_HEXAGON_RESOLUTION_BIG = 6\n",
    "hexagons_big = h3.polyfill(polygon_obj, res = H3_HEXAGON_RESOLUTION_BIG, geo_json_conformant = True)"
   ]
  },
  {
   "cell_type": "code",
   "execution_count": 6,
   "metadata": {},
   "outputs": [
    {
     "name": "stdout",
     "output_type": "stream",
     "text": [
      "SMALL HEXAGONS:\n",
      "{'871f1b46affffff', '871f1b465ffffff', '871f1b09dffffff', '871f1b462ffffff', '871f1b541ffffff', '871f1b09cffffff', '871f1b09effffff', '871f1b09affffff', '871f1b0b0ffffff', '871f1b466ffffff', '871f1b551ffffff', '871f1b54affffff', '871f1b54dffffff', '871f1b095ffffff', '871f1b468ffffff', '871f1b555ffffff', '871f1b569ffffff', '871f1b091ffffff', '871f1b460ffffff', '871f1b099ffffff', '871f1b0b5ffffff', '871f1b568ffffff', '871f1b090ffffff', '871f1b55dffffff', '871f1b0b1ffffff', '871f1b54cffffff', '871f1b56bffffff', '871f1b19bffffff', '871f1b461ffffff', '871f1b0b4ffffff', '871f1b542ffffff', '871f1b545ffffff', '871f1b19affffff', '871f1b0b3ffffff', '871f1b558ffffff', '871f1b19effffff', '871f1b549ffffff', '871f1b094ffffff', '871f1b092ffffff', '871f1b086ffffff', '871f1b080ffffff', '871f1b0b6ffffff', '871f1b46bffffff', '871f1b56dffffff', '871f1b46dffffff', '871f1b096ffffff', '871f1b464ffffff', '871f1b469ffffff', '871f1b54effffff', '871f1b083ffffff', '871f1b55cffffff', '871f1b559ffffff', '871f1b56affffff', '871f1b09bffffff', '871f1b540ffffff', '871f1b463ffffff', '871f1b46effffff', '871f1b46cffffff', '871f1b445ffffff', '871f1b54bffffff', '871f1b543ffffff', '871f1b548ffffff', '871f1b0b2ffffff', '871f1b093ffffff', '871f1b082ffffff', '871f1b098ffffff'}\n",
      "\n",
      "BIG HEXAGONS:\n",
      "{'861f1b55fffffff', '861f1b09fffffff', '861f1b547ffffff', '861f1b54fffffff', '861f1b467ffffff', '861f1b087ffffff', '861f1b56fffffff', '861f1b46fffffff', '861f1b097ffffff', '861f1b0b7ffffff'}\n"
     ]
    }
   ],
   "source": [
    "# Returns only the index of each hexagon, not the geometries\n",
    "print(\"SMALL HEXAGONS:\")\n",
    "print(hexagons_small)\n",
    "print()\n",
    "print(\"BIG HEXAGONS:\")\n",
    "print(hexagons_big)"
   ]
  },
  {
   "cell_type": "markdown",
   "metadata": {},
   "source": [
    "## 3. Plot and save the hexagons in a dataframe and csv\n",
    "### 3.1. Convert H3 Indexes to Geometry Objects"
   ]
  },
  {
   "cell_type": "code",
   "execution_count": 7,
   "metadata": {},
   "outputs": [],
   "source": [
    "# Create geo data frame for small hexagons (resolution = 7)\n",
    "df_hexagons_small = geopandas.GeoDataFrame(list(hexagons_small), columns=['h3_hex_small_id'])\n",
    "df_hexagons_small['geometry'] = df_hexagons_small[(df_hexagons_small['h3_hex_small_id'].notna())].apply(lambda row: shape({\"type\": \"Polygon\",\n",
    "                                           \"coordinates\": [h3.h3_to_geo_boundary(row[\"h3_hex_small_id\"], geo_json=True)],\n",
    "                                           \"properties\": \"\"\n",
    "                                           }), axis=1)\n",
    "df_hexagons_small = df_hexagons_small.set_crs('EPSG:4326')\n",
    "\n",
    "# Create geo data frame for big hexagons (resolution = 6)\n",
    "df_hexagons_big = geopandas.GeoDataFrame(list(hexagons_big), columns=['h3_hex_big_id'])\n",
    "df_hexagons_big['geometry'] = df_hexagons_big[(df_hexagons_big['h3_hex_big_id'].notna())].apply(lambda row: shape({\"type\": \"Polygon\",\n",
    "                                           \"coordinates\": [h3.h3_to_geo_boundary(row[\"h3_hex_big_id\"], geo_json=True)],\n",
    "                                           \"properties\": \"\"\n",
    "                                           }), axis=1)\n",
    "df_hexagons_big = df_hexagons_big.set_crs('EPSG:4326')"
   ]
  },
  {
   "cell_type": "markdown",
   "metadata": {},
   "source": [
    "### 3.2. Simply plot hexagons and print dataframe"
   ]
  },
  {
   "cell_type": "code",
   "execution_count": 8,
   "metadata": {},
   "outputs": [
    {
     "data": {
      "text/plain": [
       "<matplotlib.axes._subplots.AxesSubplot at 0x7fe3a56d03a0>"
      ]
     },
     "execution_count": 8,
     "metadata": {},
     "output_type": "execute_result"
    },
    {
     "data": {
      "image/png": "[encoded data removed]",
      "text/plain": [
       "<Figure size 432x288 with 1 Axes>"
      ]
     },
     "metadata": {
      "needs_background": "light"
     },
     "output_type": "display_data"
    }
   ],
   "source": [
    "df_hexagons_small.plot()"
   ]
  },
  {
   "cell_type": "code",
   "execution_count": 9,
   "metadata": {},
   "outputs": [
    {
     "data": {
      "text/html": [
       "<div>\n",
       "<style scoped>\n",
       "    .dataframe tbody tr th:only-of-type {\n",
       "        vertical-align: middle;\n",
       "    }\n",
       "\n",
       "    .dataframe tbody tr th {\n",
       "        vertical-align: top;\n",
       "    }\n",
       "\n",
       "    .dataframe thead th {\n",
       "        text-align: right;\n",
       "    }\n",
       "</style>\n",
       "<table border=\"1\" class=\"dataframe\">\n",
       "  <thead>\n",
       "    <tr style=\"text-align: right;\">\n",
       "      <th></th>\n",
       "      <th>h3_hex_small_id</th>\n",
       "      <th>geometry</th>\n",
       "    </tr>\n",
       "  </thead>\n",
       "  <tbody>\n",
       "    <tr>\n",
       "      <th>0</th>\n",
       "      <td>871f1b46affffff</td>\n",
       "      <td>POLYGON ((13.79965 51.00120, 13.80044 50.98948...</td>\n",
       "    </tr>\n",
       "    <tr>\n",
       "      <th>1</th>\n",
       "      <td>871f1b465ffffff</td>\n",
       "      <td>POLYGON ((13.74407 51.05094, 13.74487 51.03922...</td>\n",
       "    </tr>\n",
       "    <tr>\n",
       "      <th>2</th>\n",
       "      <td>871f1b09dffffff</td>\n",
       "      <td>POLYGON ((13.89904 51.07748, 13.89982 51.06576...</td>\n",
       "    </tr>\n",
       "    <tr>\n",
       "      <th>3</th>\n",
       "      <td>871f1b462ffffff</td>\n",
       "      <td>POLYGON ((13.71180 51.01377, 13.71261 51.00205...</td>\n",
       "    </tr>\n",
       "    <tr>\n",
       "      <th>4</th>\n",
       "      <td>871f1b541ffffff</td>\n",
       "      <td>POLYGON ((13.65373 51.09857, 13.65454 51.08686...</td>\n",
       "    </tr>\n",
       "    <tr>\n",
       "      <th>...</th>\n",
       "      <td>...</td>\n",
       "      <td>...</td>\n",
       "    </tr>\n",
       "    <tr>\n",
       "      <th>61</th>\n",
       "      <td>871f1b548ffffff</td>\n",
       "      <td>POLYGON ((13.70698 51.08406, 13.70778 51.07235...</td>\n",
       "    </tr>\n",
       "    <tr>\n",
       "      <th>62</th>\n",
       "      <td>871f1b0b2ffffff</td>\n",
       "      <td>POLYGON ((13.75783 51.10465, 13.75863 51.09294...</td>\n",
       "    </tr>\n",
       "    <tr>\n",
       "      <th>63</th>\n",
       "      <td>871f1b093ffffff</td>\n",
       "      <td>POLYGON ((13.81345 51.05495, 13.81423 51.04323...</td>\n",
       "    </tr>\n",
       "    <tr>\n",
       "      <th>64</th>\n",
       "      <td>871f1b082ffffff</td>\n",
       "      <td>POLYGON ((13.84580 51.09208, 13.84658 51.08037...</td>\n",
       "    </tr>\n",
       "    <tr>\n",
       "      <th>65</th>\n",
       "      <td>871f1b098ffffff</td>\n",
       "      <td>POLYGON ((13.88285 51.05891, 13.88362 51.04720...</td>\n",
       "    </tr>\n",
       "  </tbody>\n",
       "</table>\n",
       "<p>66 rows × 2 columns</p>\n",
       "</div>"
      ],
      "text/plain": [
       "    h3_hex_small_id                                           geometry\n",
       "0   871f1b46affffff  POLYGON ((13.79965 51.00120, 13.80044 50.98948...\n",
       "1   871f1b465ffffff  POLYGON ((13.74407 51.05094, 13.74487 51.03922...\n",
       "2   871f1b09dffffff  POLYGON ((13.89904 51.07748, 13.89982 51.06576...\n",
       "3   871f1b462ffffff  POLYGON ((13.71180 51.01377, 13.71261 51.00205...\n",
       "4   871f1b541ffffff  POLYGON ((13.65373 51.09857, 13.65454 51.08686...\n",
       "..              ...                                                ...\n",
       "61  871f1b548ffffff  POLYGON ((13.70698 51.08406, 13.70778 51.07235...\n",
       "62  871f1b0b2ffffff  POLYGON ((13.75783 51.10465, 13.75863 51.09294...\n",
       "63  871f1b093ffffff  POLYGON ((13.81345 51.05495, 13.81423 51.04323...\n",
       "64  871f1b082ffffff  POLYGON ((13.84580 51.09208, 13.84658 51.08037...\n",
       "65  871f1b098ffffff  POLYGON ((13.88285 51.05891, 13.88362 51.04720...\n",
       "\n",
       "[66 rows x 2 columns]"
      ]
     },
     "execution_count": 9,
     "metadata": {},
     "output_type": "execute_result"
    }
   ],
   "source": [
    "df_hexagons_small"
   ]
  },
  {
   "cell_type": "code",
   "execution_count": 10,
   "metadata": {},
   "outputs": [
    {
     "data": {
      "text/plain": [
       "<matplotlib.axes._subplots.AxesSubplot at 0x7fe3a36039d0>"
      ]
     },
     "execution_count": 10,
     "metadata": {},
     "output_type": "execute_result"
    },
    {
     "data": {
      "image/png": "[encoded data removed]",
      "text/plain": [
       "<Figure size 432x288 with 1 Axes>"
      ]
     },
     "metadata": {
      "needs_background": "light"
     },
     "output_type": "display_data"
    }
   ],
   "source": [
    "df_hexagons_big.plot()"
   ]
  },
  {
   "cell_type": "code",
   "execution_count": 11,
   "metadata": {},
   "outputs": [
    {
     "data": {
      "text/html": [
       "<div>\n",
       "<style scoped>\n",
       "    .dataframe tbody tr th:only-of-type {\n",
       "        vertical-align: middle;\n",
       "    }\n",
       "\n",
       "    .dataframe tbody tr th {\n",
       "        vertical-align: top;\n",
       "    }\n",
       "\n",
       "    .dataframe thead th {\n",
       "        text-align: right;\n",
       "    }\n",
       "</style>\n",
       "<table border=\"1\" class=\"dataframe\">\n",
       "  <thead>\n",
       "    <tr style=\"text-align: right;\">\n",
       "      <th></th>\n",
       "      <th>h3_hex_big_id</th>\n",
       "      <th>geometry</th>\n",
       "    </tr>\n",
       "  </thead>\n",
       "  <tbody>\n",
       "    <tr>\n",
       "      <th>0</th>\n",
       "      <td>861f1b55fffffff</td>\n",
       "      <td>POLYGON ((13.62149 51.06140, 13.60621 51.03109...</td>\n",
       "    </tr>\n",
       "    <tr>\n",
       "      <th>1</th>\n",
       "      <td>861f1b09fffffff</td>\n",
       "      <td>POLYGON ((13.86433 51.07550, 13.84893 51.04522...</td>\n",
       "    </tr>\n",
       "    <tr>\n",
       "      <th>2</th>\n",
       "      <td>861f1b547ffffff</td>\n",
       "      <td>POLYGON ((13.60046 51.11305, 13.58518 51.08276...</td>\n",
       "    </tr>\n",
       "    <tr>\n",
       "      <th>3</th>\n",
       "      <td>861f1b54fffffff</td>\n",
       "      <td>POLYGON ((13.68842 51.10061, 13.67310 51.07032...</td>\n",
       "    </tr>\n",
       "    <tr>\n",
       "      <th>4</th>\n",
       "      <td>861f1b467ffffff</td>\n",
       "      <td>POLYGON ((13.70939 51.04892, 13.69407 51.01862...</td>\n",
       "    </tr>\n",
       "    <tr>\n",
       "      <th>5</th>\n",
       "      <td>861f1b087ffffff</td>\n",
       "      <td>POLYGON ((13.84345 51.12721, 13.82805 51.09694...</td>\n",
       "    </tr>\n",
       "    <tr>\n",
       "      <th>6</th>\n",
       "      <td>861f1b56fffffff</td>\n",
       "      <td>POLYGON ((13.66742 51.15224, 13.65210 51.12198...</td>\n",
       "    </tr>\n",
       "    <tr>\n",
       "      <th>7</th>\n",
       "      <td>861f1b46fffffff</td>\n",
       "      <td>POLYGON ((13.79729 51.03637, 13.78193 51.00607...</td>\n",
       "    </tr>\n",
       "    <tr>\n",
       "      <th>8</th>\n",
       "      <td>861f1b097ffffff</td>\n",
       "      <td>POLYGON ((13.77638 51.08809, 13.76102 51.05780...</td>\n",
       "    </tr>\n",
       "    <tr>\n",
       "      <th>9</th>\n",
       "      <td>861f1b0b7ffffff</td>\n",
       "      <td>POLYGON ((13.75544 51.13976, 13.74008 51.10950...</td>\n",
       "    </tr>\n",
       "  </tbody>\n",
       "</table>\n",
       "</div>"
      ],
      "text/plain": [
       "     h3_hex_big_id                                           geometry\n",
       "0  861f1b55fffffff  POLYGON ((13.62149 51.06140, 13.60621 51.03109...\n",
       "1  861f1b09fffffff  POLYGON ((13.86433 51.07550, 13.84893 51.04522...\n",
       "2  861f1b547ffffff  POLYGON ((13.60046 51.11305, 13.58518 51.08276...\n",
       "3  861f1b54fffffff  POLYGON ((13.68842 51.10061, 13.67310 51.07032...\n",
       "4  861f1b467ffffff  POLYGON ((13.70939 51.04892, 13.69407 51.01862...\n",
       "5  861f1b087ffffff  POLYGON ((13.84345 51.12721, 13.82805 51.09694...\n",
       "6  861f1b56fffffff  POLYGON ((13.66742 51.15224, 13.65210 51.12198...\n",
       "7  861f1b46fffffff  POLYGON ((13.79729 51.03637, 13.78193 51.00607...\n",
       "8  861f1b097ffffff  POLYGON ((13.77638 51.08809, 13.76102 51.05780...\n",
       "9  861f1b0b7ffffff  POLYGON ((13.75544 51.13976, 13.74008 51.10950..."
      ]
     },
     "execution_count": 11,
     "metadata": {},
     "output_type": "execute_result"
    }
   ],
   "source": [
    "df_hexagons_big"
   ]
  },
  {
   "cell_type": "markdown",
   "metadata": {},
   "source": [
    "### 3.3. Save hexagons as csv"
   ]
  },
  {
   "cell_type": "code",
   "execution_count": 12,
   "metadata": {},
   "outputs": [],
   "source": [
    "df_hexagons_small.to_csv(os.path.join(path_output, \"hexagons-small-dresden.csv\"))"
   ]
  },
  {
   "cell_type": "code",
   "execution_count": 13,
   "metadata": {},
   "outputs": [],
   "source": [
    "df_hexagons_big.to_csv(os.path.join(path_output, \"hexagons-big-dresden.csv\"))"
   ]
  },
  {
   "cell_type": "markdown",
   "metadata": {},
   "source": [
    "## 4. Match corresponding hexagons to start and endpoints of trips"
   ]
  },
  {
   "cell_type": "code",
   "execution_count": 14,
   "metadata": {},
   "outputs": [
    {
     "data": {
      "text/html": [
       "<div>\n",
       "<style scoped>\n",
       "    .dataframe tbody tr th:only-of-type {\n",
       "        vertical-align: middle;\n",
       "    }\n",
       "\n",
       "    .dataframe tbody tr th {\n",
       "        vertical-align: top;\n",
       "    }\n",
       "\n",
       "    .dataframe thead th {\n",
       "        text-align: right;\n",
       "    }\n",
       "</style>\n",
       "<table border=\"1\" class=\"dataframe\">\n",
       "  <thead>\n",
       "    <tr style=\"text-align: right;\">\n",
       "      <th></th>\n",
       "      <th>p_bike_racks_start</th>\n",
       "      <th>p_spot_start</th>\n",
       "      <th>p_booked_bikes_start</th>\n",
       "      <th>p_place_type_start</th>\n",
       "      <th>datetime_start</th>\n",
       "      <th>b_number_start</th>\n",
       "      <th>p_uid_start</th>\n",
       "      <th>p_bikes_start</th>\n",
       "      <th>p_lat_start</th>\n",
       "      <th>b_electric_lock_start</th>\n",
       "      <th>...</th>\n",
       "      <th>day_of_year_end</th>\n",
       "      <th>season</th>\n",
       "      <th>weekend</th>\n",
       "      <th>booking_date_start</th>\n",
       "      <th>trip_duration</th>\n",
       "      <th>idle_time</th>\n",
       "      <th>24_sum</th>\n",
       "      <th>6_sum</th>\n",
       "      <th>2_sum</th>\n",
       "      <th>1_sum</th>\n",
       "    </tr>\n",
       "  </thead>\n",
       "  <tbody>\n",
       "    <tr>\n",
       "      <th>0</th>\n",
       "      <td>0</td>\n",
       "      <td>False</td>\n",
       "      <td>0</td>\n",
       "      <td>12</td>\n",
       "      <td>2019-01-20 00:00:00</td>\n",
       "      <td>93771</td>\n",
       "      <td>12095573</td>\n",
       "      <td>1</td>\n",
       "      <td>51.071262</td>\n",
       "      <td>False</td>\n",
       "      <td>...</td>\n",
       "      <td>20</td>\n",
       "      <td>1</td>\n",
       "      <td>True</td>\n",
       "      <td>2019-01-20 00:00:00</td>\n",
       "      <td>28.0</td>\n",
       "      <td>0.0</td>\n",
       "      <td>265</td>\n",
       "      <td>36</td>\n",
       "      <td>19</td>\n",
       "      <td>8</td>\n",
       "    </tr>\n",
       "    <tr>\n",
       "      <th>1</th>\n",
       "      <td>0</td>\n",
       "      <td>True</td>\n",
       "      <td>0</td>\n",
       "      <td>0</td>\n",
       "      <td>2019-01-20 00:05:00</td>\n",
       "      <td>93576</td>\n",
       "      <td>10299640</td>\n",
       "      <td>5</td>\n",
       "      <td>51.038210</td>\n",
       "      <td>False</td>\n",
       "      <td>...</td>\n",
       "      <td>20</td>\n",
       "      <td>1</td>\n",
       "      <td>True</td>\n",
       "      <td>2019-01-20 00:00:00</td>\n",
       "      <td>10.0</td>\n",
       "      <td>0.0</td>\n",
       "      <td>265</td>\n",
       "      <td>33</td>\n",
       "      <td>17</td>\n",
       "      <td>17</td>\n",
       "    </tr>\n",
       "    <tr>\n",
       "      <th>2</th>\n",
       "      <td>0</td>\n",
       "      <td>True</td>\n",
       "      <td>0</td>\n",
       "      <td>0</td>\n",
       "      <td>2019-01-20 00:07:00</td>\n",
       "      <td>93440</td>\n",
       "      <td>10299584</td>\n",
       "      <td>1</td>\n",
       "      <td>51.042570</td>\n",
       "      <td>True</td>\n",
       "      <td>...</td>\n",
       "      <td>20</td>\n",
       "      <td>1</td>\n",
       "      <td>True</td>\n",
       "      <td>2019-01-20 00:00:00</td>\n",
       "      <td>26.0</td>\n",
       "      <td>0.0</td>\n",
       "      <td>265</td>\n",
       "      <td>33</td>\n",
       "      <td>17</td>\n",
       "      <td>17</td>\n",
       "    </tr>\n",
       "    <tr>\n",
       "      <th>3</th>\n",
       "      <td>0</td>\n",
       "      <td>False</td>\n",
       "      <td>0</td>\n",
       "      <td>12</td>\n",
       "      <td>2019-01-20 00:07:00</td>\n",
       "      <td>93322</td>\n",
       "      <td>12098234</td>\n",
       "      <td>1</td>\n",
       "      <td>51.041798</td>\n",
       "      <td>False</td>\n",
       "      <td>...</td>\n",
       "      <td>20</td>\n",
       "      <td>1</td>\n",
       "      <td>True</td>\n",
       "      <td>2019-01-20 00:00:00</td>\n",
       "      <td>2.0</td>\n",
       "      <td>0.0</td>\n",
       "      <td>265</td>\n",
       "      <td>33</td>\n",
       "      <td>17</td>\n",
       "      <td>17</td>\n",
       "    </tr>\n",
       "    <tr>\n",
       "      <th>4</th>\n",
       "      <td>0</td>\n",
       "      <td>True</td>\n",
       "      <td>0</td>\n",
       "      <td>0</td>\n",
       "      <td>2019-01-20 00:07:00</td>\n",
       "      <td>93585</td>\n",
       "      <td>264575</td>\n",
       "      <td>5</td>\n",
       "      <td>51.071740</td>\n",
       "      <td>False</td>\n",
       "      <td>...</td>\n",
       "      <td>20</td>\n",
       "      <td>1</td>\n",
       "      <td>True</td>\n",
       "      <td>2019-01-20 00:00:00</td>\n",
       "      <td>28.0</td>\n",
       "      <td>0.0</td>\n",
       "      <td>265</td>\n",
       "      <td>33</td>\n",
       "      <td>17</td>\n",
       "      <td>17</td>\n",
       "    </tr>\n",
       "  </tbody>\n",
       "</table>\n",
       "<p>5 rows × 56 columns</p>\n",
       "</div>"
      ],
      "text/plain": [
       "   p_bike_racks_start  p_spot_start  p_booked_bikes_start  p_place_type_start  \\\n",
       "0                   0         False                     0                  12   \n",
       "1                   0          True                     0                   0   \n",
       "2                   0          True                     0                   0   \n",
       "3                   0         False                     0                  12   \n",
       "4                   0          True                     0                   0   \n",
       "\n",
       "        datetime_start  b_number_start  p_uid_start  p_bikes_start  \\\n",
       "0  2019-01-20 00:00:00           93771     12095573              1   \n",
       "1  2019-01-20 00:05:00           93576     10299640              5   \n",
       "2  2019-01-20 00:07:00           93440     10299584              1   \n",
       "3  2019-01-20 00:07:00           93322     12098234              1   \n",
       "4  2019-01-20 00:07:00           93585       264575              5   \n",
       "\n",
       "   p_lat_start  b_electric_lock_start  ...  day_of_year_end season  weekend  \\\n",
       "0    51.071262                  False  ...               20      1     True   \n",
       "1    51.038210                  False  ...               20      1     True   \n",
       "2    51.042570                   True  ...               20      1     True   \n",
       "3    51.041798                  False  ...               20      1     True   \n",
       "4    51.071740                  False  ...               20      1     True   \n",
       "\n",
       "    booking_date_start  trip_duration  idle_time  24_sum  6_sum  2_sum  1_sum  \n",
       "0  2019-01-20 00:00:00           28.0        0.0     265     36     19      8  \n",
       "1  2019-01-20 00:00:00           10.0        0.0     265     33     17     17  \n",
       "2  2019-01-20 00:00:00           26.0        0.0     265     33     17     17  \n",
       "3  2019-01-20 00:00:00            2.0        0.0     265     33     17     17  \n",
       "4  2019-01-20 00:00:00           28.0        0.0     265     33     17     17  \n",
       "\n",
       "[5 rows x 56 columns]"
      ]
     },
     "execution_count": 14,
     "metadata": {},
     "output_type": "execute_result"
    }
   ],
   "source": [
    "df_trips = pd.read_csv(path_trips, index_col=\"Unnamed: 0\")\n",
    "df_trips.head()"
   ]
  },
  {
   "cell_type": "code",
   "execution_count": 15,
   "metadata": {},
   "outputs": [
    {
     "data": {
      "text/plain": [
       "Index(['p_bike_racks_start', 'p_spot_start', 'p_booked_bikes_start',\n",
       "       'p_place_type_start', 'datetime_start', 'b_number_start', 'p_uid_start',\n",
       "       'p_bikes_start', 'p_lat_start', 'b_electric_lock_start',\n",
       "       'b_bike_type_start', 'p_name_start', 'p_free_racks_start',\n",
       "       'b_lock_types_start', 'p_number_start', 'p_lng_start',\n",
       "       'b_boardcomputer_start', 'p_maintenance_start', 'p_bike_racks_end',\n",
       "       'p_spot_end', 'p_booked_bikes_end', 'p_place_type_end', 'datetime_end',\n",
       "       'p_uid_end', 'p_bikes_end', 'p_lat_end', 'p_name_end',\n",
       "       'p_free_racks_end', 'p_number_end', 'p_lng_end', 'p_maintenance_end',\n",
       "       'air_deg', 'air_hum', 'rain_mm', 'rain_yn', 'sun_hour', 'wind_ms',\n",
       "       'month_start', 'month_end', 'day_start', 'day_end', 'day_of_week_start',\n",
       "       'day_of_week_end', 'hour_start', 'hour_end', 'day_of_year_start',\n",
       "       'day_of_year_end', 'season', 'weekend', 'booking_date_start',\n",
       "       'trip_duration', 'idle_time', '24_sum', '6_sum', '2_sum', '1_sum'],\n",
       "      dtype='object')"
      ]
     },
     "execution_count": 15,
     "metadata": {},
     "output_type": "execute_result"
    }
   ],
   "source": [
    "df_trips.columns"
   ]
  },
  {
   "cell_type": "code",
   "execution_count": 16,
   "metadata": {
    "scrolled": true
   },
   "outputs": [
    {
     "data": {
      "text/html": [
       "<div>\n",
       "<style scoped>\n",
       "    .dataframe tbody tr th:only-of-type {\n",
       "        vertical-align: middle;\n",
       "    }\n",
       "\n",
       "    .dataframe tbody tr th {\n",
       "        vertical-align: top;\n",
       "    }\n",
       "\n",
       "    .dataframe thead th {\n",
       "        text-align: right;\n",
       "    }\n",
       "</style>\n",
       "<table border=\"1\" class=\"dataframe\">\n",
       "  <thead>\n",
       "    <tr style=\"text-align: right;\">\n",
       "      <th></th>\n",
       "      <th>p_bike_racks_start</th>\n",
       "      <th>p_spot_start</th>\n",
       "      <th>p_booked_bikes_start</th>\n",
       "      <th>p_place_type_start</th>\n",
       "      <th>datetime_start</th>\n",
       "      <th>b_number_start</th>\n",
       "      <th>p_uid_start</th>\n",
       "      <th>p_bikes_start</th>\n",
       "      <th>p_lat_start</th>\n",
       "      <th>b_electric_lock_start</th>\n",
       "      <th>...</th>\n",
       "      <th>trip_duration</th>\n",
       "      <th>idle_time</th>\n",
       "      <th>24_sum</th>\n",
       "      <th>6_sum</th>\n",
       "      <th>2_sum</th>\n",
       "      <th>1_sum</th>\n",
       "      <th>h3_hex_small_id_start</th>\n",
       "      <th>h3_hex_small_id_end</th>\n",
       "      <th>h3_hex_big_id_start</th>\n",
       "      <th>h3_hex_big_id_end</th>\n",
       "    </tr>\n",
       "  </thead>\n",
       "  <tbody>\n",
       "    <tr>\n",
       "      <th>0</th>\n",
       "      <td>0</td>\n",
       "      <td>False</td>\n",
       "      <td>0</td>\n",
       "      <td>12</td>\n",
       "      <td>2019-01-20 00:00:00</td>\n",
       "      <td>93771</td>\n",
       "      <td>12095573</td>\n",
       "      <td>1</td>\n",
       "      <td>51.071262</td>\n",
       "      <td>False</td>\n",
       "      <td>...</td>\n",
       "      <td>28.0</td>\n",
       "      <td>0.0</td>\n",
       "      <td>265</td>\n",
       "      <td>36</td>\n",
       "      <td>19</td>\n",
       "      <td>8</td>\n",
       "      <td>871f1b54bffffff</td>\n",
       "      <td>871f1b559ffffff</td>\n",
       "      <td>861f1b54fffffff</td>\n",
       "      <td>861f1b55fffffff</td>\n",
       "    </tr>\n",
       "    <tr>\n",
       "      <th>1</th>\n",
       "      <td>0</td>\n",
       "      <td>True</td>\n",
       "      <td>0</td>\n",
       "      <td>0</td>\n",
       "      <td>2019-01-20 00:05:00</td>\n",
       "      <td>93576</td>\n",
       "      <td>10299640</td>\n",
       "      <td>5</td>\n",
       "      <td>51.038210</td>\n",
       "      <td>False</td>\n",
       "      <td>...</td>\n",
       "      <td>10.0</td>\n",
       "      <td>0.0</td>\n",
       "      <td>265</td>\n",
       "      <td>33</td>\n",
       "      <td>17</td>\n",
       "      <td>17</td>\n",
       "      <td>871f1b460ffffff</td>\n",
       "      <td>871f1b464ffffff</td>\n",
       "      <td>861f1b467ffffff</td>\n",
       "      <td>861f1b467ffffff</td>\n",
       "    </tr>\n",
       "    <tr>\n",
       "      <th>2</th>\n",
       "      <td>0</td>\n",
       "      <td>True</td>\n",
       "      <td>0</td>\n",
       "      <td>0</td>\n",
       "      <td>2019-01-20 00:07:00</td>\n",
       "      <td>93440</td>\n",
       "      <td>10299584</td>\n",
       "      <td>1</td>\n",
       "      <td>51.042570</td>\n",
       "      <td>True</td>\n",
       "      <td>...</td>\n",
       "      <td>26.0</td>\n",
       "      <td>0.0</td>\n",
       "      <td>265</td>\n",
       "      <td>33</td>\n",
       "      <td>17</td>\n",
       "      <td>17</td>\n",
       "      <td>871f1b559ffffff</td>\n",
       "      <td>871f1b460ffffff</td>\n",
       "      <td>861f1b55fffffff</td>\n",
       "      <td>861f1b467ffffff</td>\n",
       "    </tr>\n",
       "    <tr>\n",
       "      <th>3</th>\n",
       "      <td>0</td>\n",
       "      <td>False</td>\n",
       "      <td>0</td>\n",
       "      <td>12</td>\n",
       "      <td>2019-01-20 00:07:00</td>\n",
       "      <td>93322</td>\n",
       "      <td>12098234</td>\n",
       "      <td>1</td>\n",
       "      <td>51.041798</td>\n",
       "      <td>False</td>\n",
       "      <td>...</td>\n",
       "      <td>2.0</td>\n",
       "      <td>0.0</td>\n",
       "      <td>265</td>\n",
       "      <td>33</td>\n",
       "      <td>17</td>\n",
       "      <td>17</td>\n",
       "      <td>871f1b559ffffff</td>\n",
       "      <td>871f1b559ffffff</td>\n",
       "      <td>861f1b55fffffff</td>\n",
       "      <td>861f1b55fffffff</td>\n",
       "    </tr>\n",
       "    <tr>\n",
       "      <th>4</th>\n",
       "      <td>0</td>\n",
       "      <td>True</td>\n",
       "      <td>0</td>\n",
       "      <td>0</td>\n",
       "      <td>2019-01-20 00:07:00</td>\n",
       "      <td>93585</td>\n",
       "      <td>264575</td>\n",
       "      <td>5</td>\n",
       "      <td>51.071740</td>\n",
       "      <td>False</td>\n",
       "      <td>...</td>\n",
       "      <td>28.0</td>\n",
       "      <td>0.0</td>\n",
       "      <td>265</td>\n",
       "      <td>33</td>\n",
       "      <td>17</td>\n",
       "      <td>17</td>\n",
       "      <td>871f1b54bffffff</td>\n",
       "      <td>871f1b54bffffff</td>\n",
       "      <td>861f1b54fffffff</td>\n",
       "      <td>861f1b54fffffff</td>\n",
       "    </tr>\n",
       "  </tbody>\n",
       "</table>\n",
       "<p>5 rows × 60 columns</p>\n",
       "</div>"
      ],
      "text/plain": [
       "   p_bike_racks_start  p_spot_start  p_booked_bikes_start  p_place_type_start  \\\n",
       "0                   0         False                     0                  12   \n",
       "1                   0          True                     0                   0   \n",
       "2                   0          True                     0                   0   \n",
       "3                   0         False                     0                  12   \n",
       "4                   0          True                     0                   0   \n",
       "\n",
       "        datetime_start  b_number_start  p_uid_start  p_bikes_start  \\\n",
       "0  2019-01-20 00:00:00           93771     12095573              1   \n",
       "1  2019-01-20 00:05:00           93576     10299640              5   \n",
       "2  2019-01-20 00:07:00           93440     10299584              1   \n",
       "3  2019-01-20 00:07:00           93322     12098234              1   \n",
       "4  2019-01-20 00:07:00           93585       264575              5   \n",
       "\n",
       "   p_lat_start  b_electric_lock_start  ...  trip_duration idle_time  24_sum  \\\n",
       "0    51.071262                  False  ...           28.0       0.0     265   \n",
       "1    51.038210                  False  ...           10.0       0.0     265   \n",
       "2    51.042570                   True  ...           26.0       0.0     265   \n",
       "3    51.041798                  False  ...            2.0       0.0     265   \n",
       "4    51.071740                  False  ...           28.0       0.0     265   \n",
       "\n",
       "  6_sum  2_sum  1_sum  h3_hex_small_id_start  h3_hex_small_id_end  \\\n",
       "0    36     19      8        871f1b54bffffff      871f1b559ffffff   \n",
       "1    33     17     17        871f1b460ffffff      871f1b464ffffff   \n",
       "2    33     17     17        871f1b559ffffff      871f1b460ffffff   \n",
       "3    33     17     17        871f1b559ffffff      871f1b559ffffff   \n",
       "4    33     17     17        871f1b54bffffff      871f1b54bffffff   \n",
       "\n",
       "   h3_hex_big_id_start  h3_hex_big_id_end  \n",
       "0      861f1b54fffffff    861f1b55fffffff  \n",
       "1      861f1b467ffffff    861f1b467ffffff  \n",
       "2      861f1b55fffffff    861f1b467ffffff  \n",
       "3      861f1b55fffffff    861f1b55fffffff  \n",
       "4      861f1b54fffffff    861f1b54fffffff  \n",
       "\n",
       "[5 rows x 60 columns]"
      ]
     },
     "execution_count": 16,
     "metadata": {},
     "output_type": "execute_result"
    }
   ],
   "source": [
    "# Get the hexagon for a data point\n",
    "# Assume we have a dataframe with a column for latitude and longitude representing \"point data\".\n",
    "\n",
    "# Add hex ids for small hexagons and for start and end point\n",
    "df_trips[\"h3_hex_small_id_start\"] = df_trips.apply(lambda row: h3.geo_to_h3(row[\"p_lat_start\"], row[\"p_lng_start\"], H3_HEXAGON_RESOLUTION_SMALL) if (row['p_lat_start'] and row['p_lng_start']) else 0, axis=1)\n",
    "df_trips[\"h3_hex_small_id_end\"] = df_trips.apply(lambda row: h3.geo_to_h3(row[\"p_lat_end\"], row[\"p_lng_end\"], H3_HEXAGON_RESOLUTION_SMALL) if (row['p_lat_end'] and row['p_lng_end']) else 0, axis=1)\n",
    "\n",
    "# Add hex ids for big hexagons and for start and end point\n",
    "df_trips[\"h3_hex_big_id_start\"] = df_trips.apply(lambda row: h3.geo_to_h3(row[\"p_lat_start\"], row[\"p_lng_start\"], H3_HEXAGON_RESOLUTION_BIG) if (row['p_lat_start'] and row['p_lng_start']) else 0, axis=1)\n",
    "df_trips[\"h3_hex_big_id_end\"] = df_trips.apply(lambda row: h3.geo_to_h3(row[\"p_lat_end\"], row[\"p_lng_end\"], H3_HEXAGON_RESOLUTION_BIG) if (row['p_lat_end'] and row['p_lng_end']) else 0, axis=1)\n",
    "df_trips.head()"
   ]
  },
  {
   "cell_type": "markdown",
   "metadata": {},
   "source": [
    "## 5. Save them into csv file chunks\n",
    "- This has to be done because the file is too big to be uplaoded to Github\n",
    "- But as h3 package is not working on Windows, we have to upload these files so everyone has these information\n",
    "- The next notebook (03_MergeHexagonChunks) can then be run on Windows\n",
    "- It loads the chunks and merges them again, creating a Trips_Hexagons.csv (which is on gitignore)"
   ]
  },
  {
   "cell_type": "code",
   "execution_count": 17,
   "metadata": {},
   "outputs": [],
   "source": [
    "# Save as Trips.csv directly\n",
    "df_trips.to_csv(os.path.join(path_output, \"Trips.csv\"))\n",
    "\n",
    "# Into how many chunks do you want to split the dataframe?\n",
    "number_of_chunks = 5\n",
    "\n",
    "for id, df_chunk in enumerate(np.array_split(df_trips, number_of_chunks)):\n",
    "    df_chunk.to_csv(os.path.join(path_output, \"trips-hexagons\",\"trips-hexagons-{id}.csv\").format(id=id))"
   ]
  },
  {
   "cell_type": "code",
   "execution_count": null,
   "metadata": {},
   "outputs": [],
   "source": []
  }
 ],
 "metadata": {
  "kernelspec": {
   "display_name": "Python 3",
   "language": "python",
   "name": "python3"
  },
  "language_info": {
   "codemirror_mode": {
    "name": "ipython",
    "version": 3
   },
   "file_extension": ".py",
   "mimetype": "text/x-python",
   "name": "python",
   "nbconvert_exporter": "python",
   "pygments_lexer": "ipython3",
   "version": "3.8.3"
  }
 },
 "nbformat": 4,
 "nbformat_minor": 4
}
