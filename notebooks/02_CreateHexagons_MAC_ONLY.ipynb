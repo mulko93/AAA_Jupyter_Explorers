{
 "cells": [
  {
   "cell_type": "markdown",
   "metadata": {},
   "source": [
    "# Create Hexagons\n",
    "\n",
    "#### !!! As this notebook uses h3 package it will NOT WORK ON WINDOWS !!!\n",
    "\n",
    "This notebook creates hexagons lying above the bounding boxes of the city Dresden. For spatial analysis these hexagons are very helpful.\n",
    "\n",
    "### What is done?\n",
    "1. Load GeoJSON of Dresdens bounding box\n",
    "2. Polyfill region of Dresden with Hexagons by given resolution\n",
    "3. Plot and save the hexagons in a dataframe and csv\n",
    "4. Match corresponding hexagons to start and endpoints of trips\n",
    "5. Save them into csv file chunks\n",
    "    - This has to be done because the file is too big to be uplaoded to Github\n",
    "    - But as h3 package is not working on Windows, we have to upload these files so everyone has these information\n",
    "    - The next notebook (03_MergeHexagonChunks) can then be run on Windows\n",
    "    - It loads the chunks and merges them again, creating a Trips_Hexagons.csv (which is on gitignore)\n",
    "\n",
    "### Input\n",
    "\n",
    "- data/output/Trips.csv\n",
    "- data/input/dresden_bounding_box.geojson\n",
    "\n",
    "### Output\n",
    "- data/output/hexagons-dresden.csv\n",
    "- data/output/trips-hexagons/trips-hexagons-{id}.csv\n",
    "    - (Multiple chunkfiles, each with antoher number as id)\n",
    "    \n",
    "---------------------------------------------------------"
   ]
  },
  {
   "cell_type": "markdown",
   "metadata": {},
   "source": [
    "## 0. Pre-Installations of packages\n",
    "Copy one of these lines into the next cell. Beware: pip does not like comments so paste it, run the cell and delete it again!\n",
    "- pip install geopandas\n",
    "- pip install h3\n",
    "- pip install matplotlib\n",
    "- pip install descartes"
   ]
  },
  {
   "cell_type": "code",
   "execution_count": 1,
   "metadata": {},
   "outputs": [
    {
     "name": "stdout",
     "output_type": "stream",
     "text": [
      "Collecting geopandas\n",
      "  Downloading geopandas-0.8.1-py2.py3-none-any.whl (962 kB)\n",
      "\u001b[K     |████████████████████████████████| 962 kB 2.8 MB/s eta 0:00:01\n",
      "\u001b[?25hCollecting shapely\n",
      "  Downloading Shapely-1.7.0-cp38-cp38-manylinux1_x86_64.whl (1.8 MB)\n",
      "\u001b[K     |████████████████████████████████| 1.8 MB 12.9 MB/s eta 0:00:01\n",
      "\u001b[?25hCollecting fiona\n",
      "  Downloading Fiona-1.8.13.post1-cp38-cp38-manylinux1_x86_64.whl (14.7 MB)\n",
      "\u001b[K     |████████████████████████████████| 14.7 MB 8.6 MB/s eta 0:00:01     |███████████████████████▎        | 10.7 MB 9.1 MB/s eta 0:00:01\n",
      "\u001b[?25hRequirement already satisfied: pandas>=0.23.0 in /opt/conda/lib/python3.8/site-packages (from geopandas) (1.0.5)\n",
      "Collecting pyproj>=2.2.0\n",
      "  Downloading pyproj-2.6.1.post1-cp38-cp38-manylinux2010_x86_64.whl (10.9 MB)\n",
      "\u001b[K     |████████████████████████████████| 10.9 MB 1.1 MB/s  eta 0:00:01\n",
      "\u001b[?25hCollecting cligj>=0.5\n",
      "  Downloading cligj-0.5.0-py3-none-any.whl (5.7 kB)\n",
      "Requirement already satisfied: six>=1.7 in /opt/conda/lib/python3.8/site-packages (from fiona->geopandas) (1.15.0)\n",
      "Collecting click-plugins>=1.0\n",
      "  Downloading click_plugins-1.1.1-py2.py3-none-any.whl (7.5 kB)\n",
      "Collecting munch\n",
      "  Downloading munch-2.5.0-py2.py3-none-any.whl (10 kB)\n",
      "Requirement already satisfied: attrs>=17 in /opt/conda/lib/python3.8/site-packages (from fiona->geopandas) (19.3.0)\n",
      "Requirement already satisfied: click<8,>=4.0 in /opt/conda/lib/python3.8/site-packages (from fiona->geopandas) (7.1.2)\n",
      "Requirement already satisfied: numpy>=1.13.3 in /opt/conda/lib/python3.8/site-packages (from pandas>=0.23.0->geopandas) (1.18.5)\n",
      "Requirement already satisfied: pytz>=2017.2 in /opt/conda/lib/python3.8/site-packages (from pandas>=0.23.0->geopandas) (2020.1)\n",
      "Requirement already satisfied: python-dateutil>=2.6.1 in /opt/conda/lib/python3.8/site-packages (from pandas>=0.23.0->geopandas) (2.8.1)\n",
      "Installing collected packages: shapely, cligj, click-plugins, munch, fiona, pyproj, geopandas\n",
      "Successfully installed click-plugins-1.1.1 cligj-0.5.0 fiona-1.8.13.post1 geopandas-0.8.1 munch-2.5.0 pyproj-2.6.1.post1 shapely-1.7.0\n",
      "Collecting h3\n",
      "  Downloading h3-3.6.4-cp38-cp38-manylinux2010_x86_64.whl (771 kB)\n",
      "\u001b[K     |████████████████████████████████| 771 kB 2.9 MB/s eta 0:00:01\n",
      "\u001b[?25hInstalling collected packages: h3\n",
      "Successfully installed h3-3.6.4\n",
      "Requirement already satisfied: matplotlib in /opt/conda/lib/python3.8/site-packages (3.2.2)\n",
      "Requirement already satisfied: pyparsing!=2.0.4,!=2.1.2,!=2.1.6,>=2.0.1 in /opt/conda/lib/python3.8/site-packages (from matplotlib) (2.4.7)\n",
      "Requirement already satisfied: cycler>=0.10 in /opt/conda/lib/python3.8/site-packages (from matplotlib) (0.10.0)\n",
      "Requirement already satisfied: numpy>=1.11 in /opt/conda/lib/python3.8/site-packages (from matplotlib) (1.18.5)\n",
      "Requirement already satisfied: python-dateutil>=2.1 in /opt/conda/lib/python3.8/site-packages (from matplotlib) (2.8.1)\n",
      "Requirement already satisfied: kiwisolver>=1.0.1 in /opt/conda/lib/python3.8/site-packages (from matplotlib) (1.2.0)\n",
      "Requirement already satisfied: six in /opt/conda/lib/python3.8/site-packages (from cycler>=0.10->matplotlib) (1.15.0)\n",
      "Collecting descartes\n",
      "  Downloading descartes-1.1.0-py3-none-any.whl (5.8 kB)\n",
      "Requirement already satisfied: matplotlib in /opt/conda/lib/python3.8/site-packages (from descartes) (3.2.2)\n",
      "Requirement already satisfied: kiwisolver>=1.0.1 in /opt/conda/lib/python3.8/site-packages (from matplotlib->descartes) (1.2.0)\n",
      "Requirement already satisfied: cycler>=0.10 in /opt/conda/lib/python3.8/site-packages (from matplotlib->descartes) (0.10.0)\n",
      "Requirement already satisfied: pyparsing!=2.0.4,!=2.1.2,!=2.1.6,>=2.0.1 in /opt/conda/lib/python3.8/site-packages (from matplotlib->descartes) (2.4.7)\n",
      "Requirement already satisfied: numpy>=1.11 in /opt/conda/lib/python3.8/site-packages (from matplotlib->descartes) (1.18.5)\n",
      "Requirement already satisfied: python-dateutil>=2.1 in /opt/conda/lib/python3.8/site-packages (from matplotlib->descartes) (2.8.1)\n",
      "Requirement already satisfied: six in /opt/conda/lib/python3.8/site-packages (from cycler>=0.10->matplotlib->descartes) (1.15.0)\n",
      "Installing collected packages: descartes\n",
      "Successfully installed descartes-1.1.0\n"
     ]
    }
   ],
   "source": [
    "!pip install geopandas\n",
    "!pip install h3\n",
    "!pip install matplotlib\n",
    "!pip install descartes"
   ]
  },
  {
   "cell_type": "code",
   "execution_count": 2,
   "metadata": {},
   "outputs": [],
   "source": [
    "import pandas as pd\n",
    "import geopandas\n",
    "import os\n",
    "import json\n",
    "import numpy as np\n",
    "from h3 import h3\n",
    "from shapely.geometry import shape\n",
    "import matplotlib.pyplot as plt"
   ]
  },
  {
   "cell_type": "code",
   "execution_count": 3,
   "metadata": {},
   "outputs": [
    {
     "name": "stdout",
     "output_type": "stream",
     "text": [
      "Trips path: /home/jovyan/work/notebooks/../data/output/Trips.csv\n",
      "Output path: /home/jovyan/work/notebooks/../data/output\n",
      "GeoJSON path: /home/jovyan/work/notebooks/../data/input/geodata/dresden_bounding_box.geojson\n"
     ]
    }
   ],
   "source": [
    "path_trips=os.path.join(os.getcwd(), '..', 'data', 'output', 'Trips.csv')\n",
    "path_output=os.path.join(os.getcwd(), '..', 'data', 'output')\n",
    "path_geo =os.path.join(os.getcwd(), '..', 'data', 'input', 'geodata', 'dresden_bounding_box.geojson')\n",
    "\n",
    "print(\"Trips path:\", path_trips)\n",
    "print(\"Output path:\", path_output)\n",
    "print(\"GeoJSON path:\", path_geo)"
   ]
  },
  {
   "cell_type": "code",
   "execution_count": null,
   "metadata": {},
   "outputs": [],
   "source": []
  },
  {
   "cell_type": "markdown",
   "metadata": {},
   "source": [
    "## 1. Load GeoJSON of Dresdens bounding box\n",
    "Use Geopandas to read geojson file"
   ]
  },
  {
   "cell_type": "code",
   "execution_count": 4,
   "metadata": {},
   "outputs": [],
   "source": [
    "city_bounding_box = geopandas.read_file(path_geo)\n",
    "city_bounding_box_json_string = city_bounding_box.to_json()\n",
    "city_bounding_box_json = json.loads(city_bounding_box_json_string)\n",
    "city_bounding_box_poly = city_bounding_box_json[\"features\"][0]"
   ]
  },
  {
   "cell_type": "code",
   "execution_count": 5,
   "metadata": {},
   "outputs": [
    {
     "data": {
      "text/plain": [
       "{'type': 'Polygon',\n",
       " 'coordinates': [[[13.746466, 51.178629],\n",
       "   [13.964722, 51.06278],\n",
       "   [13.815186, 50.974527],\n",
       "   [13.572688, 51.0637],\n",
       "   [13.746466, 51.178629]]]}"
      ]
     },
     "execution_count": 5,
     "metadata": {},
     "output_type": "execute_result"
    }
   ],
   "source": [
    "# Valid GeoJSON object\n",
    "city_bounding_box_poly[\"geometry\"]"
   ]
  },
  {
   "cell_type": "markdown",
   "metadata": {},
   "source": [
    "## 2. Polyfill region of Dresden with Hexagons by given resolution"
   ]
  },
  {
   "cell_type": "code",
   "execution_count": 6,
   "metadata": {},
   "outputs": [],
   "source": [
    "# Computing hexagons for a given polygon\n",
    "polygon_obj = city_bounding_box_poly[\"geometry\"] # your geo json object\n",
    "\n",
    "H3_HEXAGON_RESOLUTION_SMALL = 8\n",
    "hexagons_small = h3.polyfill(polygon_obj, res = H3_HEXAGON_RESOLUTION_SMALL, geo_json_conformant = True)\n",
    "H3_HEXAGON_RESOLUTION_BIG = 6\n",
    "hexagons_big = h3.polyfill(polygon_obj, res = H3_HEXAGON_RESOLUTION_BIG, geo_json_conformant = True)"
   ]
  },
  {
   "cell_type": "code",
   "execution_count": 7,
   "metadata": {},
   "outputs": [
    {
     "name": "stdout",
     "output_type": "stream",
     "text": [
      "SMALL HEXAGONS:\n",
      "{'881f1b5493fffff', '881f1b56bdfffff', '881f1b46b9fffff', '881f1b0921fffff', '881f1b5483fffff', '881f1b549bfffff', '881f1b0805fffff', '881f1b0b53fffff', '881f1b54ebfffff', '881f1b55d7fffff', '881f1b5435fffff', '881f1b5699fffff', '881f1b0b31fffff', '881f1b724dfffff', '881f1b5419fffff', '881f1b56d3fffff', '881f1b0b21fffff', '881f1b5557fffff', '881f1b0823fffff', '881f1b0829fffff', '881f1b0b61fffff', '881f1b0945fffff', '881f1b4633fffff', '881f1b0b6dfffff', '881f1b5453fffff', '881f1b09cdfffff', '881f1b0981fffff', '881f1b5405fffff', '881f1b444bfffff', '881f1b0925fffff', '881f1b09a5fffff', '881f1b46a1fffff', '881f1b56a5fffff', '881f1b092bfffff', '881f1b4647fffff', '881f1b54d5fffff', '881f1b0b65fffff', '881f1b09d1fffff', '881f1b4689fffff', '881f1b19a9fffff', '881f1b558bfffff', '881f1b56abfffff', '881f1b4413fffff', '881f1b09adfffff', '881f1b0999fffff', '881f1b5455fffff', '881f1b5487fffff', '881f1b56d5fffff', '881f1b4611fffff', '881f1b09ddfffff', '881f1b0931fffff', '881f1b55d1fffff', '881f1b0b67fffff', '881f1b4451fffff', '881f1b0951fffff', '881f1b0801fffff', '881f1b086dfffff', '881f1b54c5fffff', '881f1b09cbfffff', '881f1b5583fffff', '881f1b0987fffff', '881f1b465dfffff', '881f1b0869fffff', '881f1b5411fffff', '881f1b54dbfffff', '881f1b09edfffff', '881f1b461bfffff', '881f1b46dbfffff', '881f1b4631fffff', '881f1b4617fffff', '881f1b0b59fffff', '881f1b0b15fffff', '881f1b19ebfffff', '881f1b09b5fffff', '881f1b0943fffff', '881f1b092dfffff', '881f1b090dfffff', '881f1b4663fffff', '881f1b4457fffff', '881f1b55c7fffff', '881f1b4621fffff', '881f1b55c1fffff', '881f1b19abfffff', '881f1b55c9fffff', '881f1b0861fffff', '881f1b543dfffff', '881f1b0b17fffff', '881f1b4635fffff', '881f1b0927fffff', '881f1b0919fffff', '881f1b559dfffff', '881f1b4681fffff', '881f1b0b29fffff', '881f1b54e1fffff', '881f1b095bfffff', '881f1b5595fffff', '881f1b5587fffff', '881f1b0b05fffff', '881f1b5401fffff', '881f1b093dfffff', '881f1b4609fffff', '881f1b4637fffff', '881f1b54bbfffff', '881f1b46adfffff', '881f1b4613fffff', '881f1b19e7fffff', '881f1b46bbfffff', '881f1b0b3bfffff', '881f1b46e1fffff', '881f1b463dfffff', '881f1b098bfffff', '881f1b4667fffff', '881f1b4629fffff', '881f1b4641fffff', '881f1b4683fffff', '881f1b54b7fffff', '881f1b46c5fffff', '881f1b094dfffff', '881f1b1985fffff', '881f1b56a7fffff', '881f1b551bfffff', '881f1b56b9fffff', '881f1b4659fffff', '881f1b4601fffff', '881f1b460bfffff', '881f1b0837fffff', '881f1b0b45fffff', '881f1b5427fffff', '881f1b0b07fffff', '881f1b54cdfffff', '881f1b5551fffff', '881f1b09e7fffff', '881f1b54e7fffff', '881f1b543bfffff', '881f1b5511fffff', '881f1b4661fffff', '881f1b086bfffff', '881f1b4619fffff', '881f1b5681fffff', '881f1b468bfffff', '881f1b09bbfffff', '881f1b469dfffff', '881f1b4651fffff', '881f1b5689fffff', '881f1b0985fffff', '881f1b56dbfffff', '881f1b5485fffff', '881f1b09c1fffff', '881f1b0b5dfffff', '881f1b0b55fffff', '881f1b55cbfffff', '881f1b0991fffff', '881f1b5581fffff', '881f1b54edfffff', '881f1b5513fffff', '881f1b4607fffff', '881f1b56b7fffff', '881f1b7349fffff', '881f1b56b1fffff', '881f1b0b35fffff', '881f1b56c3fffff', '881f1b0825fffff', '881f1b5599fffff', '881f1b0831fffff', '881f1b54d9fffff', '881f1b5497fffff', '881f1b19b5fffff', '881f1b0983fffff', '881f1b0939fffff', '881f1b09c7fffff', '881f1b0967fffff', '881f1b55b9fffff', '881f1b4453fffff', '881f1b080dfffff', '881f1b0997fffff', '881f1b0917fffff', '881f1b0b41fffff', '881f1b0b01fffff', '881f1b56d1fffff', '881f1b0865fffff', '881f1b5555fffff', '881f1b5429fffff', '881f1b46e3fffff', '881f1b1987fffff', '881f1b19adfffff', '881f1b0b09fffff', '881f1b0b63fffff', '881f1b5495fffff', '881f1b54c7fffff', '881f1b464bfffff', '881f1b55d3fffff', '881f1b54d1fffff', '881f1b094bfffff', '881f1b08a5fffff', '881f1b54d3fffff', '881f1b0b19fffff', '881f1b09d9fffff', '881f1b569bfffff', '881f1b0947fffff', '881f1b462bfffff', '881f1b0b39fffff', '881f1b54e5fffff', '881f1b5451fffff', '881f1b09e3fffff', '881f1b46c3fffff', '881f1b4665fffff', '881f1b5467fffff', '881f1b4685fffff', '881f1b5431fffff', '881f1b56b5fffff', '881f1b0b03fffff', '881f1b55d9fffff', '881f1b54e3fffff', '881f1b4669fffff', '881f1b5519fffff', '881f1b5697fffff', '881f1b54a5fffff', '881f1b56e3fffff', '881f1b5439fffff', '881f1b55bbfffff', '881f1b4697fffff', '881f1b19a5fffff', '881f1b0909fffff', '881f1b091dfffff', '881f1b5683fffff', '881f1b0949fffff', '881f1b55c5fffff', '881f1b54a9fffff', '881f1b4643fffff', '881f1b0941fffff', '881f1b5457fffff', '881f1b0905fffff', '881f1b56a1fffff', '881f1b09a1fffff', '881f1b0b13fffff', '881f1b0937fffff', '881f1b5597fffff', '881f1b460dfffff', '881f1b0807fffff', '881f1b0933fffff', '881f1b09a7fffff', '881f1b568bfffff', '881f1b0863fffff', '881f1b5413fffff', '881f1b46edfffff', '881f1b09a3fffff', '881f1b5687fffff', '881f1b46cbfffff', '881f1b08a7fffff', '881f1b549dfffff', '881f1b4695fffff', '881f1b5437fffff', '881f1b0913fffff', '881f1b56a3fffff', '881f1b54a1fffff', '881f1b5489fffff', '881f1b0b0dfffff', '881f1b0b51fffff', '881f1b4603fffff', '881f1b734dfffff', '881f1b462dfffff', '881f1b09bdfffff', '881f1b0901fffff', '881f1b0847fffff', '881f1b4649fffff', '881f1b0b23fffff', '881f1b468dfffff', '881f1b09abfffff', '881f1b0b27fffff', '881f1b46b1fffff', '881f1b0845fffff', '881f1b0993fffff', '881f1b55dbfffff', '881f1b095dfffff', '881f1b466bfffff', '881f1b0969fffff', '881f1b5593fffff', '881f1b5591fffff', '881f1b56c7fffff', '881f1b5695fffff', '881f1b0b6bfffff', '881f1b46ebfffff', '881f1b0b1dfffff', '881f1b0961fffff', '881f1b441bfffff', '881f1b19b7fffff', '881f1b4653fffff', '881f1b461dfffff', '881f1b46d7fffff', '881f1b5417fffff', '881f1b5421fffff', '881f1b0833fffff', '881f1b558dfffff', '881f1b0b49fffff', '881f1b19b1fffff', '881f1b4693fffff', '881f1b096dfffff', '881f1b0b37fffff', '881f1b54cbfffff', '881f1b0b1bfffff', '881f1b08adfffff', '881f1b46e7fffff', '881f1b4655fffff', '881f1b0911fffff', '881f1b084dfffff', '881f1b0955fffff', '881f1b0b2dfffff', '881f1b54a7fffff', '881f1b090bfffff', '881f1b09d5fffff', '881f1b0907fffff', '881f1b09a9fffff', '881f1b0b47fffff', '881f1b44c9fffff', '881f1b541dfffff', '881f1b09e9fffff', '881f1b46bdfffff', '881f1b19e1fffff', '881f1b0923fffff', '881f1b559bfffff', '881f1b4645fffff', '881f1b55ddfffff', '881f1b5423fffff', '881f1b540dfffff', '881f1b56adfffff', '881f1b099bfffff', '881f1b0b33fffff', '881f1b4419fffff', '881f1b54ddfffff', '881f1b46e5fffff', '881f1b54d7fffff', '881f1b09c9fffff', '881f1b0835fffff', '881f1b56ddfffff', '881f1b09e1fffff', '881f1b445dfffff', '881f1b55cdfffff', '881f1b54c9fffff', '881f1b46c1fffff', '881f1b5463fffff', '881f1b5691fffff', '881f1b54c3fffff', '881f1b5693fffff', '881f1b5433fffff', '881f1b46cdfffff', '881f1b19a7fffff', '881f1b548dfffff', '881f1b568dfffff', '881f1b4691fffff', '881f1b46c7fffff', '881f1b5403fffff', '881f1b0867fffff', '881f1b0b0bfffff', '881f1b5553fffff', '881f1b098dfffff', '881f1b54adfffff', '881f1b466dfffff', '881f1b555bfffff', '881f1b55ebfffff', '881f1b083dfffff', '881f1b46a7fffff', '881f1b46a9fffff', '881f1b09dbfffff', '881f1b46d9fffff', '881f1b54b3fffff', '881f1b5685fffff', '881f1b0839fffff', '881f1b0957fffff', '881f1b0903fffff', '881f1b0929fffff', '881f1b19e3fffff', '881f1b0b3dfffff', '881f1b093bfffff', '881f1b0935fffff', '881f1b46d5fffff', '881f1b55c3fffff', '881f1b0b43fffff', '881f1b54b9fffff', '881f1b09e5fffff', '881f1b5409fffff', '881f1b5499fffff', '881f1b542bfffff', '881f1b540bfffff', '881f1b46d3fffff', '881f1b54abfffff', '881f1b09b1fffff', '881f1b55b3fffff', '881f1b4623fffff', '881f1b54bdfffff', '881f1b46b5fffff', '881f1b0821fffff', '881f1b548bfffff', '881f1b4615fffff', '881f1b0b57fffff', '881f1b46a3fffff', '881f1b09ebfffff', '881f1b56d7fffff', '881f1b46ddfffff', '881f1b56a9fffff', '881f1b09c5fffff', '881f1b0b11fffff', '881f1b46abfffff', '881f1b542dfffff', '881f1b19bdfffff', '881f1b082bfffff', '881f1b0b2bfffff', '881f1b545bfffff', '881f1b19a1fffff', '881f1b0989fffff', '881f1b44cdfffff', '881f1b09c3fffff', '881f1b0963fffff', '881f1b5491fffff', '881f1b4639fffff', '881f1b0959fffff', '881f1b4605fffff', '881f1b09b9fffff', '881f1b4657fffff', '881f1b56b3fffff', '881f1b5589fffff', '881f1b463bfffff', '881f1b54e9fffff', '881f1b198dfffff', '881f1b54c1fffff', '881f1b541bfffff', '881f1b46a5fffff', '881f1b55d5fffff', '881f1b5407fffff', '881f1b09d3fffff', '881f1b54b5fffff', '881f1b54b1fffff', '881f1b54a3fffff', '881f1b5481fffff', '881f1b46e9fffff', '881f1b4687fffff', '881f1b46d1fffff', '881f1b099dfffff', '881f1b0995fffff', '881f1b082dfffff', '881f1b4459fffff', '881f1b0915fffff', '881f1b5415fffff', '881f1b465bfffff', '881f1b0b25fffff', '881f1b5425fffff', '881f1b096bfffff', '881f1b19a3fffff', '881f1b46c9fffff', '881f1b445bfffff', '881f1b56d9fffff', '881f1b0953fffff', '881f1b0827fffff', '881f1b0965fffff', '881f1b0b4dfffff', '881f1b091bfffff', '881f1b09d7fffff', '881f1b464dfffff', '881f1b0b69fffff', '881f1b469bfffff', '881f1b569dfffff', '881f1b4699fffff', '881f1b56bbfffff', '881f1b56e7fffff', '881f1b19e5fffff', '881f1b0b4bfffff'}\n",
      "\n",
      "BIG HEXAGONS:\n",
      "{'861f1b54fffffff', '861f1b467ffffff', '861f1b56fffffff', '861f1b097ffffff', '861f1b547ffffff', '861f1b46fffffff', '861f1b0b7ffffff', '861f1b087ffffff', '861f1b09fffffff', '861f1b55fffffff'}\n"
     ]
    }
   ],
   "source": [
    "# Returns only the index of each hexagon, not the geometries\n",
    "print(\"SMALL HEXAGONS:\")\n",
    "print(hexagons_small)\n",
    "print()\n",
    "print(\"BIG HEXAGONS:\")\n",
    "print(hexagons_big)"
   ]
  },
  {
   "cell_type": "code",
   "execution_count": 8,
   "metadata": {},
   "outputs": [
    {
     "data": {
      "text/plain": [
       "465"
      ]
     },
     "execution_count": 8,
     "metadata": {},
     "output_type": "execute_result"
    }
   ],
   "source": [
    "len(hexagons_small)"
   ]
  },
  {
   "cell_type": "markdown",
   "metadata": {},
   "source": [
    "## 3. Plot and save the hexagons in a dataframe and csv\n",
    "### 3.1. Convert H3 Indexes to Geometry Objects"
   ]
  },
  {
   "cell_type": "code",
   "execution_count": 9,
   "metadata": {},
   "outputs": [],
   "source": [
    "# Create geo data frame for small hexagons (resolution = 7)\n",
    "gdf_hexagons_small = geopandas.GeoDataFrame(list(hexagons_small), columns=['h3_hex_small_id'])\n",
    "gdf_hexagons_small['geometry'] = gdf_hexagons_small[(gdf_hexagons_small['h3_hex_small_id'].notna())].apply(lambda row: shape({\"type\": \"Polygon\",\n",
    "                                           \"coordinates\": [h3.h3_to_geo_boundary(row[\"h3_hex_small_id\"], geo_json=True)],\n",
    "                                           \"properties\": \"\"\n",
    "                                           }), axis=1)\n",
    "gdf_hexagons_small = gdf_hexagons_small.set_crs('EPSG:4326')\n",
    "\n",
    "# Create geo data frame for big hexagons (resolution = 6)\n",
    "gdf_hexagons_big = geopandas.GeoDataFrame(list(hexagons_big), columns=['h3_hex_big_id'])\n",
    "gdf_hexagons_big['geometry'] = gdf_hexagons_big[(gdf_hexagons_big['h3_hex_big_id'].notna())].apply(lambda row: shape({\"type\": \"Polygon\",\n",
    "                                           \"coordinates\": [h3.h3_to_geo_boundary(row[\"h3_hex_big_id\"], geo_json=True)],\n",
    "                                           \"properties\": \"\"\n",
    "                                           }), axis=1)\n",
    "gdf_hexagons_big = gdf_hexagons_big.set_crs('EPSG:4326')"
   ]
  },
  {
   "cell_type": "markdown",
   "metadata": {},
   "source": [
    "### 3.2. Simply plot hexagons and print dataframe"
   ]
  },
  {
   "cell_type": "code",
   "execution_count": 10,
   "metadata": {},
   "outputs": [
    {
     "data": {
      "text/plain": [
       "<matplotlib.axes._subplots.AxesSubplot at 0x7fdfd53f67c0>"
      ]
     },
     "execution_count": 10,
     "metadata": {},
     "output_type": "execute_result"
    },
    {
     "data": {
      "image/png": "[encoded data removed]",
      "text/plain": [
       "<Figure size 432x288 with 1 Axes>"
      ]
     },
     "metadata": {
      "needs_background": "light"
     },
     "output_type": "display_data"
    }
   ],
   "source": [
    "gdf_hexagons_small.plot()"
   ]
  },
  {
   "cell_type": "code",
   "execution_count": 11,
   "metadata": {},
   "outputs": [
    {
     "data": {
      "text/html": [
       "<div>\n",
       "<style scoped>\n",
       "    .dataframe tbody tr th:only-of-type {\n",
       "        vertical-align: middle;\n",
       "    }\n",
       "\n",
       "    .dataframe tbody tr th {\n",
       "        vertical-align: top;\n",
       "    }\n",
       "\n",
       "    .dataframe thead th {\n",
       "        text-align: right;\n",
       "    }\n",
       "</style>\n",
       "<table border=\"1\" class=\"dataframe\">\n",
       "  <thead>\n",
       "    <tr style=\"text-align: right;\">\n",
       "      <th></th>\n",
       "      <th>h3_hex_small_id</th>\n",
       "      <th>geometry</th>\n",
       "    </tr>\n",
       "  </thead>\n",
       "  <tbody>\n",
       "    <tr>\n",
       "      <th>0</th>\n",
       "      <td>881f1b5493fffff</td>\n",
       "      <td>POLYGON ((13.76680 51.08250, 13.76461 51.07817...</td>\n",
       "    </tr>\n",
       "    <tr>\n",
       "      <th>1</th>\n",
       "      <td>881f1b56bdfffff</td>\n",
       "      <td>POLYGON ((13.70456 51.11918, 13.70237 51.11485...</td>\n",
       "    </tr>\n",
       "    <tr>\n",
       "      <th>2</th>\n",
       "      <td>881f1b46b9fffff</td>\n",
       "      <td>POLYGON ((13.84389 51.00879, 13.84170 51.00446...</td>\n",
       "    </tr>\n",
       "    <tr>\n",
       "      <th>3</th>\n",
       "      <td>881f1b0921fffff</td>\n",
       "      <td>POLYGON ((13.79131 51.05115, 13.78912 51.04683...</td>\n",
       "    </tr>\n",
       "    <tr>\n",
       "      <th>4</th>\n",
       "      <td>881f1b5483fffff</td>\n",
       "      <td>POLYGON ((13.73210 51.08049, 13.72991 51.07616...</td>\n",
       "    </tr>\n",
       "    <tr>\n",
       "      <th>...</th>\n",
       "      <td>...</td>\n",
       "      <td>...</td>\n",
       "    </tr>\n",
       "    <tr>\n",
       "      <th>460</th>\n",
       "      <td>881f1b4699fffff</td>\n",
       "      <td>POLYGON ((13.86006 51.02736, 13.85786 51.02304...</td>\n",
       "    </tr>\n",
       "    <tr>\n",
       "      <th>461</th>\n",
       "      <td>881f1b56bbfffff</td>\n",
       "      <td>POLYGON ((13.72671 51.12299, 13.72451 51.11866...</td>\n",
       "    </tr>\n",
       "    <tr>\n",
       "      <th>462</th>\n",
       "      <td>881f1b56e7fffff</td>\n",
       "      <td>POLYGON ((13.66685 51.12452, 13.66467 51.12020...</td>\n",
       "    </tr>\n",
       "    <tr>\n",
       "      <th>463</th>\n",
       "      <td>881f1b19e5fffff</td>\n",
       "      <td>POLYGON ((13.72130 51.16546, 13.71911 51.16114...</td>\n",
       "    </tr>\n",
       "    <tr>\n",
       "      <th>464</th>\n",
       "      <td>881f1b0b4bfffff</td>\n",
       "      <td>POLYGON ((13.77759 51.14356, 13.77540 51.13924...</td>\n",
       "    </tr>\n",
       "  </tbody>\n",
       "</table>\n",
       "<p>465 rows × 2 columns</p>\n",
       "</div>"
      ],
      "text/plain": [
       "     h3_hex_small_id                                           geometry\n",
       "0    881f1b5493fffff  POLYGON ((13.76680 51.08250, 13.76461 51.07817...\n",
       "1    881f1b56bdfffff  POLYGON ((13.70456 51.11918, 13.70237 51.11485...\n",
       "2    881f1b46b9fffff  POLYGON ((13.84389 51.00879, 13.84170 51.00446...\n",
       "3    881f1b0921fffff  POLYGON ((13.79131 51.05115, 13.78912 51.04683...\n",
       "4    881f1b5483fffff  POLYGON ((13.73210 51.08049, 13.72991 51.07616...\n",
       "..               ...                                                ...\n",
       "460  881f1b4699fffff  POLYGON ((13.86006 51.02736, 13.85786 51.02304...\n",
       "461  881f1b56bbfffff  POLYGON ((13.72671 51.12299, 13.72451 51.11866...\n",
       "462  881f1b56e7fffff  POLYGON ((13.66685 51.12452, 13.66467 51.12020...\n",
       "463  881f1b19e5fffff  POLYGON ((13.72130 51.16546, 13.71911 51.16114...\n",
       "464  881f1b0b4bfffff  POLYGON ((13.77759 51.14356, 13.77540 51.13924...\n",
       "\n",
       "[465 rows x 2 columns]"
      ]
     },
     "execution_count": 11,
     "metadata": {},
     "output_type": "execute_result"
    }
   ],
   "source": [
    "gdf_hexagons_small"
   ]
  },
  {
   "cell_type": "code",
   "execution_count": 12,
   "metadata": {},
   "outputs": [
    {
     "data": {
      "text/plain": [
       "<matplotlib.axes._subplots.AxesSubplot at 0x7fdfd4ff9c10>"
      ]
     },
     "execution_count": 12,
     "metadata": {},
     "output_type": "execute_result"
    },
    {
     "data": {
      "image/png": "[encoded data removed]",
      "text/plain": [
       "<Figure size 432x288 with 1 Axes>"
      ]
     },
     "metadata": {
      "needs_background": "light"
     },
     "output_type": "display_data"
    }
   ],
   "source": [
    "gdf_hexagons_big.plot()"
   ]
  },
  {
   "cell_type": "code",
   "execution_count": 13,
   "metadata": {},
   "outputs": [
    {
     "data": {
      "text/html": [
       "<div>\n",
       "<style scoped>\n",
       "    .dataframe tbody tr th:only-of-type {\n",
       "        vertical-align: middle;\n",
       "    }\n",
       "\n",
       "    .dataframe tbody tr th {\n",
       "        vertical-align: top;\n",
       "    }\n",
       "\n",
       "    .dataframe thead th {\n",
       "        text-align: right;\n",
       "    }\n",
       "</style>\n",
       "<table border=\"1\" class=\"dataframe\">\n",
       "  <thead>\n",
       "    <tr style=\"text-align: right;\">\n",
       "      <th></th>\n",
       "      <th>h3_hex_big_id</th>\n",
       "      <th>geometry</th>\n",
       "    </tr>\n",
       "  </thead>\n",
       "  <tbody>\n",
       "    <tr>\n",
       "      <th>0</th>\n",
       "      <td>861f1b54fffffff</td>\n",
       "      <td>POLYGON ((13.68842 51.10061, 13.67310 51.07032...</td>\n",
       "    </tr>\n",
       "    <tr>\n",
       "      <th>1</th>\n",
       "      <td>861f1b467ffffff</td>\n",
       "      <td>POLYGON ((13.70939 51.04892, 13.69407 51.01862...</td>\n",
       "    </tr>\n",
       "    <tr>\n",
       "      <th>2</th>\n",
       "      <td>861f1b56fffffff</td>\n",
       "      <td>POLYGON ((13.66742 51.15224, 13.65210 51.12198...</td>\n",
       "    </tr>\n",
       "    <tr>\n",
       "      <th>3</th>\n",
       "      <td>861f1b097ffffff</td>\n",
       "      <td>POLYGON ((13.77638 51.08809, 13.76102 51.05780...</td>\n",
       "    </tr>\n",
       "    <tr>\n",
       "      <th>4</th>\n",
       "      <td>861f1b547ffffff</td>\n",
       "      <td>POLYGON ((13.60046 51.11305, 13.58518 51.08276...</td>\n",
       "    </tr>\n",
       "    <tr>\n",
       "      <th>5</th>\n",
       "      <td>861f1b46fffffff</td>\n",
       "      <td>POLYGON ((13.79729 51.03637, 13.78193 51.00607...</td>\n",
       "    </tr>\n",
       "    <tr>\n",
       "      <th>6</th>\n",
       "      <td>861f1b0b7ffffff</td>\n",
       "      <td>POLYGON ((13.75544 51.13976, 13.74008 51.10950...</td>\n",
       "    </tr>\n",
       "    <tr>\n",
       "      <th>7</th>\n",
       "      <td>861f1b087ffffff</td>\n",
       "      <td>POLYGON ((13.84345 51.12721, 13.82805 51.09694...</td>\n",
       "    </tr>\n",
       "    <tr>\n",
       "      <th>8</th>\n",
       "      <td>861f1b09fffffff</td>\n",
       "      <td>POLYGON ((13.86433 51.07550, 13.84893 51.04522...</td>\n",
       "    </tr>\n",
       "    <tr>\n",
       "      <th>9</th>\n",
       "      <td>861f1b55fffffff</td>\n",
       "      <td>POLYGON ((13.62149 51.06140, 13.60621 51.03109...</td>\n",
       "    </tr>\n",
       "  </tbody>\n",
       "</table>\n",
       "</div>"
      ],
      "text/plain": [
       "     h3_hex_big_id                                           geometry\n",
       "0  861f1b54fffffff  POLYGON ((13.68842 51.10061, 13.67310 51.07032...\n",
       "1  861f1b467ffffff  POLYGON ((13.70939 51.04892, 13.69407 51.01862...\n",
       "2  861f1b56fffffff  POLYGON ((13.66742 51.15224, 13.65210 51.12198...\n",
       "3  861f1b097ffffff  POLYGON ((13.77638 51.08809, 13.76102 51.05780...\n",
       "4  861f1b547ffffff  POLYGON ((13.60046 51.11305, 13.58518 51.08276...\n",
       "5  861f1b46fffffff  POLYGON ((13.79729 51.03637, 13.78193 51.00607...\n",
       "6  861f1b0b7ffffff  POLYGON ((13.75544 51.13976, 13.74008 51.10950...\n",
       "7  861f1b087ffffff  POLYGON ((13.84345 51.12721, 13.82805 51.09694...\n",
       "8  861f1b09fffffff  POLYGON ((13.86433 51.07550, 13.84893 51.04522...\n",
       "9  861f1b55fffffff  POLYGON ((13.62149 51.06140, 13.60621 51.03109..."
      ]
     },
     "execution_count": 13,
     "metadata": {},
     "output_type": "execute_result"
    }
   ],
   "source": [
    "gdf_hexagons_big"
   ]
  },
  {
   "cell_type": "markdown",
   "metadata": {},
   "source": [
    "### 3.3. Save hexagons as csv"
   ]
  },
  {
   "cell_type": "code",
   "execution_count": 21,
   "metadata": {},
   "outputs": [],
   "source": [
    "gdf_hexagons_small.to_file(os.path.join(path_output, \"hexagons-small-dresden.geojson\"), driver='GeoJSON')\n",
    "gdf_hexagons_small.to_csv(os.path.join(path_output, \"hexagons-small-dresden.csv\"))"
   ]
  },
  {
   "cell_type": "code",
   "execution_count": 22,
   "metadata": {},
   "outputs": [],
   "source": [
    "gdf_hexagons_big.to_file(os.path.join(path_output, \"hexagons-big-dresden.geojson\"), driver='GeoJSON')\n",
    "gdf_hexagons_big.to_csv(os.path.join(path_output, \"hexagons-big-dresden.csv\"))"
   ]
  },
  {
   "cell_type": "markdown",
   "metadata": {},
   "source": [
    "## 4. Match corresponding hexagons to start and endpoints of trips"
   ]
  },
  {
   "cell_type": "code",
   "execution_count": 16,
   "metadata": {},
   "outputs": [
    {
     "data": {
      "text/html": [
       "<div>\n",
       "<style scoped>\n",
       "    .dataframe tbody tr th:only-of-type {\n",
       "        vertical-align: middle;\n",
       "    }\n",
       "\n",
       "    .dataframe tbody tr th {\n",
       "        vertical-align: top;\n",
       "    }\n",
       "\n",
       "    .dataframe thead th {\n",
       "        text-align: right;\n",
       "    }\n",
       "</style>\n",
       "<table border=\"1\" class=\"dataframe\">\n",
       "  <thead>\n",
       "    <tr style=\"text-align: right;\">\n",
       "      <th></th>\n",
       "      <th>p_bike_racks_start</th>\n",
       "      <th>p_spot_start</th>\n",
       "      <th>p_booked_bikes_start</th>\n",
       "      <th>p_place_type_start</th>\n",
       "      <th>datetime_start</th>\n",
       "      <th>b_number_start</th>\n",
       "      <th>p_uid_start</th>\n",
       "      <th>p_bikes_start</th>\n",
       "      <th>p_lat_start</th>\n",
       "      <th>b_electric_lock_start</th>\n",
       "      <th>...</th>\n",
       "      <th>day_of_week_end</th>\n",
       "      <th>hour_start</th>\n",
       "      <th>hour_end</th>\n",
       "      <th>day_of_year_start</th>\n",
       "      <th>day_of_year_end</th>\n",
       "      <th>season</th>\n",
       "      <th>weekend</th>\n",
       "      <th>booking_date_start</th>\n",
       "      <th>trip_duration</th>\n",
       "      <th>idle_time</th>\n",
       "    </tr>\n",
       "  </thead>\n",
       "  <tbody>\n",
       "    <tr>\n",
       "      <th>0</th>\n",
       "      <td>0</td>\n",
       "      <td>False</td>\n",
       "      <td>0</td>\n",
       "      <td>12</td>\n",
       "      <td>2019-01-20 00:00:00</td>\n",
       "      <td>93771</td>\n",
       "      <td>12095573</td>\n",
       "      <td>1</td>\n",
       "      <td>51.071262</td>\n",
       "      <td>False</td>\n",
       "      <td>...</td>\n",
       "      <td>6</td>\n",
       "      <td>0</td>\n",
       "      <td>0</td>\n",
       "      <td>20</td>\n",
       "      <td>20</td>\n",
       "      <td>1</td>\n",
       "      <td>True</td>\n",
       "      <td>2019-01-20 00:00:00</td>\n",
       "      <td>28.0</td>\n",
       "      <td>0.0</td>\n",
       "    </tr>\n",
       "    <tr>\n",
       "      <th>1</th>\n",
       "      <td>0</td>\n",
       "      <td>True</td>\n",
       "      <td>0</td>\n",
       "      <td>0</td>\n",
       "      <td>2019-01-20 00:05:00</td>\n",
       "      <td>93576</td>\n",
       "      <td>10299640</td>\n",
       "      <td>5</td>\n",
       "      <td>51.038210</td>\n",
       "      <td>False</td>\n",
       "      <td>...</td>\n",
       "      <td>6</td>\n",
       "      <td>0</td>\n",
       "      <td>0</td>\n",
       "      <td>20</td>\n",
       "      <td>20</td>\n",
       "      <td>1</td>\n",
       "      <td>True</td>\n",
       "      <td>2019-01-20 00:00:00</td>\n",
       "      <td>10.0</td>\n",
       "      <td>0.0</td>\n",
       "    </tr>\n",
       "    <tr>\n",
       "      <th>2</th>\n",
       "      <td>0</td>\n",
       "      <td>True</td>\n",
       "      <td>0</td>\n",
       "      <td>0</td>\n",
       "      <td>2019-01-20 00:07:00</td>\n",
       "      <td>93440</td>\n",
       "      <td>10299584</td>\n",
       "      <td>1</td>\n",
       "      <td>51.042570</td>\n",
       "      <td>True</td>\n",
       "      <td>...</td>\n",
       "      <td>6</td>\n",
       "      <td>0</td>\n",
       "      <td>0</td>\n",
       "      <td>20</td>\n",
       "      <td>20</td>\n",
       "      <td>1</td>\n",
       "      <td>True</td>\n",
       "      <td>2019-01-20 00:00:00</td>\n",
       "      <td>26.0</td>\n",
       "      <td>0.0</td>\n",
       "    </tr>\n",
       "    <tr>\n",
       "      <th>3</th>\n",
       "      <td>0</td>\n",
       "      <td>False</td>\n",
       "      <td>0</td>\n",
       "      <td>12</td>\n",
       "      <td>2019-01-20 00:07:00</td>\n",
       "      <td>93322</td>\n",
       "      <td>12098234</td>\n",
       "      <td>1</td>\n",
       "      <td>51.041798</td>\n",
       "      <td>False</td>\n",
       "      <td>...</td>\n",
       "      <td>6</td>\n",
       "      <td>0</td>\n",
       "      <td>0</td>\n",
       "      <td>20</td>\n",
       "      <td>20</td>\n",
       "      <td>1</td>\n",
       "      <td>True</td>\n",
       "      <td>2019-01-20 00:00:00</td>\n",
       "      <td>2.0</td>\n",
       "      <td>0.0</td>\n",
       "    </tr>\n",
       "    <tr>\n",
       "      <th>4</th>\n",
       "      <td>0</td>\n",
       "      <td>True</td>\n",
       "      <td>0</td>\n",
       "      <td>0</td>\n",
       "      <td>2019-01-20 00:07:00</td>\n",
       "      <td>93585</td>\n",
       "      <td>264575</td>\n",
       "      <td>5</td>\n",
       "      <td>51.071740</td>\n",
       "      <td>False</td>\n",
       "      <td>...</td>\n",
       "      <td>6</td>\n",
       "      <td>0</td>\n",
       "      <td>0</td>\n",
       "      <td>20</td>\n",
       "      <td>20</td>\n",
       "      <td>1</td>\n",
       "      <td>True</td>\n",
       "      <td>2019-01-20 00:00:00</td>\n",
       "      <td>28.0</td>\n",
       "      <td>0.0</td>\n",
       "    </tr>\n",
       "  </tbody>\n",
       "</table>\n",
       "<p>5 rows × 52 columns</p>\n",
       "</div>"
      ],
      "text/plain": [
       "   p_bike_racks_start  p_spot_start  p_booked_bikes_start  p_place_type_start  \\\n",
       "0                   0         False                     0                  12   \n",
       "1                   0          True                     0                   0   \n",
       "2                   0          True                     0                   0   \n",
       "3                   0         False                     0                  12   \n",
       "4                   0          True                     0                   0   \n",
       "\n",
       "        datetime_start  b_number_start  p_uid_start  p_bikes_start  \\\n",
       "0  2019-01-20 00:00:00           93771     12095573              1   \n",
       "1  2019-01-20 00:05:00           93576     10299640              5   \n",
       "2  2019-01-20 00:07:00           93440     10299584              1   \n",
       "3  2019-01-20 00:07:00           93322     12098234              1   \n",
       "4  2019-01-20 00:07:00           93585       264575              5   \n",
       "\n",
       "   p_lat_start  b_electric_lock_start  ...  day_of_week_end hour_start  \\\n",
       "0    51.071262                  False  ...                6          0   \n",
       "1    51.038210                  False  ...                6          0   \n",
       "2    51.042570                   True  ...                6          0   \n",
       "3    51.041798                  False  ...                6          0   \n",
       "4    51.071740                  False  ...                6          0   \n",
       "\n",
       "   hour_end day_of_year_start  day_of_year_end  season  weekend  \\\n",
       "0         0                20               20       1     True   \n",
       "1         0                20               20       1     True   \n",
       "2         0                20               20       1     True   \n",
       "3         0                20               20       1     True   \n",
       "4         0                20               20       1     True   \n",
       "\n",
       "    booking_date_start  trip_duration  idle_time  \n",
       "0  2019-01-20 00:00:00           28.0        0.0  \n",
       "1  2019-01-20 00:00:00           10.0        0.0  \n",
       "2  2019-01-20 00:00:00           26.0        0.0  \n",
       "3  2019-01-20 00:00:00            2.0        0.0  \n",
       "4  2019-01-20 00:00:00           28.0        0.0  \n",
       "\n",
       "[5 rows x 52 columns]"
      ]
     },
     "execution_count": 16,
     "metadata": {},
     "output_type": "execute_result"
    }
   ],
   "source": [
    "df_trips = pd.read_csv(path_trips, index_col=\"Unnamed: 0\")\n",
    "df_trips.head()"
   ]
  },
  {
   "cell_type": "code",
   "execution_count": 17,
   "metadata": {},
   "outputs": [
    {
     "data": {
      "text/plain": [
       "Index(['p_bike_racks_start', 'p_spot_start', 'p_booked_bikes_start',\n",
       "       'p_place_type_start', 'datetime_start', 'b_number_start', 'p_uid_start',\n",
       "       'p_bikes_start', 'p_lat_start', 'b_electric_lock_start',\n",
       "       'b_bike_type_start', 'p_name_start', 'p_free_racks_start',\n",
       "       'b_lock_types_start', 'p_number_start', 'p_lng_start',\n",
       "       'b_boardcomputer_start', 'p_maintenance_start', 'p_bike_racks_end',\n",
       "       'p_spot_end', 'p_booked_bikes_end', 'p_place_type_end', 'datetime_end',\n",
       "       'p_uid_end', 'p_bikes_end', 'p_lat_end', 'p_name_end',\n",
       "       'p_free_racks_end', 'p_number_end', 'p_lng_end', 'p_maintenance_end',\n",
       "       'air_deg', 'air_hum', 'rain_mm', 'rain_yn', 'sun_hour', 'wind_ms',\n",
       "       'month_start', 'month_end', 'day_start', 'day_end', 'day_of_week_start',\n",
       "       'day_of_week_end', 'hour_start', 'hour_end', 'day_of_year_start',\n",
       "       'day_of_year_end', 'season', 'weekend', 'booking_date_start',\n",
       "       'trip_duration', 'idle_time'],\n",
       "      dtype='object')"
      ]
     },
     "execution_count": 17,
     "metadata": {},
     "output_type": "execute_result"
    }
   ],
   "source": [
    "df_trips.columns"
   ]
  },
  {
   "cell_type": "code",
   "execution_count": 18,
   "metadata": {
    "scrolled": true
   },
   "outputs": [
    {
     "data": {
      "text/html": [
       "<div>\n",
       "<style scoped>\n",
       "    .dataframe tbody tr th:only-of-type {\n",
       "        vertical-align: middle;\n",
       "    }\n",
       "\n",
       "    .dataframe tbody tr th {\n",
       "        vertical-align: top;\n",
       "    }\n",
       "\n",
       "    .dataframe thead th {\n",
       "        text-align: right;\n",
       "    }\n",
       "</style>\n",
       "<table border=\"1\" class=\"dataframe\">\n",
       "  <thead>\n",
       "    <tr style=\"text-align: right;\">\n",
       "      <th></th>\n",
       "      <th>p_bike_racks_start</th>\n",
       "      <th>p_spot_start</th>\n",
       "      <th>p_booked_bikes_start</th>\n",
       "      <th>p_place_type_start</th>\n",
       "      <th>datetime_start</th>\n",
       "      <th>b_number_start</th>\n",
       "      <th>p_uid_start</th>\n",
       "      <th>p_bikes_start</th>\n",
       "      <th>p_lat_start</th>\n",
       "      <th>b_electric_lock_start</th>\n",
       "      <th>...</th>\n",
       "      <th>day_of_year_end</th>\n",
       "      <th>season</th>\n",
       "      <th>weekend</th>\n",
       "      <th>booking_date_start</th>\n",
       "      <th>trip_duration</th>\n",
       "      <th>idle_time</th>\n",
       "      <th>h3_hex_small_id_start</th>\n",
       "      <th>h3_hex_small_id_end</th>\n",
       "      <th>h3_hex_big_id_start</th>\n",
       "      <th>h3_hex_big_id_end</th>\n",
       "    </tr>\n",
       "  </thead>\n",
       "  <tbody>\n",
       "    <tr>\n",
       "      <th>0</th>\n",
       "      <td>0</td>\n",
       "      <td>False</td>\n",
       "      <td>0</td>\n",
       "      <td>12</td>\n",
       "      <td>2019-01-20 00:00:00</td>\n",
       "      <td>93771</td>\n",
       "      <td>12095573</td>\n",
       "      <td>1</td>\n",
       "      <td>51.071262</td>\n",
       "      <td>False</td>\n",
       "      <td>...</td>\n",
       "      <td>20</td>\n",
       "      <td>1</td>\n",
       "      <td>True</td>\n",
       "      <td>2019-01-20 00:00:00</td>\n",
       "      <td>28.0</td>\n",
       "      <td>0.0</td>\n",
       "      <td>881f1b54bbfffff</td>\n",
       "      <td>881f1b5599fffff</td>\n",
       "      <td>861f1b54fffffff</td>\n",
       "      <td>861f1b55fffffff</td>\n",
       "    </tr>\n",
       "    <tr>\n",
       "      <th>1</th>\n",
       "      <td>0</td>\n",
       "      <td>True</td>\n",
       "      <td>0</td>\n",
       "      <td>0</td>\n",
       "      <td>2019-01-20 00:05:00</td>\n",
       "      <td>93576</td>\n",
       "      <td>10299640</td>\n",
       "      <td>5</td>\n",
       "      <td>51.038210</td>\n",
       "      <td>False</td>\n",
       "      <td>...</td>\n",
       "      <td>20</td>\n",
       "      <td>1</td>\n",
       "      <td>True</td>\n",
       "      <td>2019-01-20 00:00:00</td>\n",
       "      <td>10.0</td>\n",
       "      <td>0.0</td>\n",
       "      <td>881f1b4609fffff</td>\n",
       "      <td>881f1b465dfffff</td>\n",
       "      <td>861f1b467ffffff</td>\n",
       "      <td>861f1b467ffffff</td>\n",
       "    </tr>\n",
       "    <tr>\n",
       "      <th>2</th>\n",
       "      <td>0</td>\n",
       "      <td>True</td>\n",
       "      <td>0</td>\n",
       "      <td>0</td>\n",
       "      <td>2019-01-20 00:07:00</td>\n",
       "      <td>93440</td>\n",
       "      <td>10299584</td>\n",
       "      <td>1</td>\n",
       "      <td>51.042570</td>\n",
       "      <td>True</td>\n",
       "      <td>...</td>\n",
       "      <td>20</td>\n",
       "      <td>1</td>\n",
       "      <td>True</td>\n",
       "      <td>2019-01-20 00:00:00</td>\n",
       "      <td>26.0</td>\n",
       "      <td>0.0</td>\n",
       "      <td>881f1b5591fffff</td>\n",
       "      <td>881f1b4601fffff</td>\n",
       "      <td>861f1b55fffffff</td>\n",
       "      <td>861f1b467ffffff</td>\n",
       "    </tr>\n",
       "    <tr>\n",
       "      <th>3</th>\n",
       "      <td>0</td>\n",
       "      <td>False</td>\n",
       "      <td>0</td>\n",
       "      <td>12</td>\n",
       "      <td>2019-01-20 00:07:00</td>\n",
       "      <td>93322</td>\n",
       "      <td>12098234</td>\n",
       "      <td>1</td>\n",
       "      <td>51.041798</td>\n",
       "      <td>False</td>\n",
       "      <td>...</td>\n",
       "      <td>20</td>\n",
       "      <td>1</td>\n",
       "      <td>True</td>\n",
       "      <td>2019-01-20 00:00:00</td>\n",
       "      <td>2.0</td>\n",
       "      <td>0.0</td>\n",
       "      <td>881f1b5591fffff</td>\n",
       "      <td>881f1b5591fffff</td>\n",
       "      <td>861f1b55fffffff</td>\n",
       "      <td>861f1b55fffffff</td>\n",
       "    </tr>\n",
       "    <tr>\n",
       "      <th>4</th>\n",
       "      <td>0</td>\n",
       "      <td>True</td>\n",
       "      <td>0</td>\n",
       "      <td>0</td>\n",
       "      <td>2019-01-20 00:07:00</td>\n",
       "      <td>93585</td>\n",
       "      <td>264575</td>\n",
       "      <td>5</td>\n",
       "      <td>51.071740</td>\n",
       "      <td>False</td>\n",
       "      <td>...</td>\n",
       "      <td>20</td>\n",
       "      <td>1</td>\n",
       "      <td>True</td>\n",
       "      <td>2019-01-20 00:00:00</td>\n",
       "      <td>28.0</td>\n",
       "      <td>0.0</td>\n",
       "      <td>881f1b54b9fffff</td>\n",
       "      <td>881f1b54b9fffff</td>\n",
       "      <td>861f1b54fffffff</td>\n",
       "      <td>861f1b54fffffff</td>\n",
       "    </tr>\n",
       "  </tbody>\n",
       "</table>\n",
       "<p>5 rows × 56 columns</p>\n",
       "</div>"
      ],
      "text/plain": [
       "   p_bike_racks_start  p_spot_start  p_booked_bikes_start  p_place_type_start  \\\n",
       "0                   0         False                     0                  12   \n",
       "1                   0          True                     0                   0   \n",
       "2                   0          True                     0                   0   \n",
       "3                   0         False                     0                  12   \n",
       "4                   0          True                     0                   0   \n",
       "\n",
       "        datetime_start  b_number_start  p_uid_start  p_bikes_start  \\\n",
       "0  2019-01-20 00:00:00           93771     12095573              1   \n",
       "1  2019-01-20 00:05:00           93576     10299640              5   \n",
       "2  2019-01-20 00:07:00           93440     10299584              1   \n",
       "3  2019-01-20 00:07:00           93322     12098234              1   \n",
       "4  2019-01-20 00:07:00           93585       264575              5   \n",
       "\n",
       "   p_lat_start  b_electric_lock_start  ...  day_of_year_end season  weekend  \\\n",
       "0    51.071262                  False  ...               20      1     True   \n",
       "1    51.038210                  False  ...               20      1     True   \n",
       "2    51.042570                   True  ...               20      1     True   \n",
       "3    51.041798                  False  ...               20      1     True   \n",
       "4    51.071740                  False  ...               20      1     True   \n",
       "\n",
       "    booking_date_start  trip_duration  idle_time  h3_hex_small_id_start  \\\n",
       "0  2019-01-20 00:00:00           28.0        0.0        881f1b54bbfffff   \n",
       "1  2019-01-20 00:00:00           10.0        0.0        881f1b4609fffff   \n",
       "2  2019-01-20 00:00:00           26.0        0.0        881f1b5591fffff   \n",
       "3  2019-01-20 00:00:00            2.0        0.0        881f1b5591fffff   \n",
       "4  2019-01-20 00:00:00           28.0        0.0        881f1b54b9fffff   \n",
       "\n",
       "   h3_hex_small_id_end  h3_hex_big_id_start  h3_hex_big_id_end  \n",
       "0      881f1b5599fffff      861f1b54fffffff    861f1b55fffffff  \n",
       "1      881f1b465dfffff      861f1b467ffffff    861f1b467ffffff  \n",
       "2      881f1b4601fffff      861f1b55fffffff    861f1b467ffffff  \n",
       "3      881f1b5591fffff      861f1b55fffffff    861f1b55fffffff  \n",
       "4      881f1b54b9fffff      861f1b54fffffff    861f1b54fffffff  \n",
       "\n",
       "[5 rows x 56 columns]"
      ]
     },
     "execution_count": 18,
     "metadata": {},
     "output_type": "execute_result"
    }
   ],
   "source": [
    "# Get the hexagon for a data point\n",
    "# Assume we have a dataframe with a column for latitude and longitude representing \"point data\".\n",
    "\n",
    "# Add hex ids for small hexagons and for start and end point\n",
    "df_trips[\"h3_hex_small_id_start\"] = df_trips.apply(lambda row: h3.geo_to_h3(row[\"p_lat_start\"], row[\"p_lng_start\"], H3_HEXAGON_RESOLUTION_SMALL) if (row['p_lat_start'] and row['p_lng_start']) else 0, axis=1)\n",
    "df_trips[\"h3_hex_small_id_end\"] = df_trips.apply(lambda row: h3.geo_to_h3(row[\"p_lat_end\"], row[\"p_lng_end\"], H3_HEXAGON_RESOLUTION_SMALL) if (row['p_lat_end'] and row['p_lng_end']) else 0, axis=1)\n",
    "\n",
    "# Add hex ids for big hexagons and for start and end point\n",
    "df_trips[\"h3_hex_big_id_start\"] = df_trips.apply(lambda row: h3.geo_to_h3(row[\"p_lat_start\"], row[\"p_lng_start\"], H3_HEXAGON_RESOLUTION_BIG) if (row['p_lat_start'] and row['p_lng_start']) else 0, axis=1)\n",
    "df_trips[\"h3_hex_big_id_end\"] = df_trips.apply(lambda row: h3.geo_to_h3(row[\"p_lat_end\"], row[\"p_lng_end\"], H3_HEXAGON_RESOLUTION_BIG) if (row['p_lat_end'] and row['p_lng_end']) else 0, axis=1)\n",
    "df_trips.head()"
   ]
  },
  {
   "cell_type": "markdown",
   "metadata": {},
   "source": [
    "## 5. Save them into csv file chunks\n",
    "- This has to be done because the file is too big to be uplaoded to Github\n",
    "- But as h3 package is not working on Windows, we have to upload these files so everyone has these information\n",
    "- The next notebook (03_MergeHexagonChunks) can then be run on Windows\n",
    "- It loads the chunks and merges them again, creating a Trips_Hexagons.csv (which is on gitignore)"
   ]
  },
  {
   "cell_type": "code",
   "execution_count": 19,
   "metadata": {},
   "outputs": [],
   "source": [
    "# Save as Trips.csv directly\n",
    "df_trips.to_csv(os.path.join(path_output, \"Trips.csv\"))"
   ]
  },
  {
   "cell_type": "code",
   "execution_count": 20,
   "metadata": {},
   "outputs": [],
   "source": [
    "# Into how many chunks do you want to split the dataframe?\n",
    "number_of_chunks = 5\n",
    "\n",
    "for id, df_chunk in enumerate(np.array_split(df_trips, number_of_chunks)):\n",
    "    df_chunk.to_csv(os.path.join(path_output, \"trips-hexagons\",\"trips-hexagons-{id}.csv\").format(id=id))"
   ]
  },
  {
   "cell_type": "code",
   "execution_count": null,
   "metadata": {},
   "outputs": [],
   "source": []
  }
 ],
 "metadata": {
  "kernelspec": {
   "display_name": "Python 3",
   "language": "python",
   "name": "python3"
  },
  "language_info": {
   "codemirror_mode": {
    "name": "ipython",
    "version": 3
   },
   "file_extension": ".py",
   "mimetype": "text/x-python",
   "name": "python",
   "nbconvert_exporter": "python",
   "pygments_lexer": "ipython3",
   "version": "3.8.3"
  }
 },
 "nbformat": 4,
 "nbformat_minor": 4
}
