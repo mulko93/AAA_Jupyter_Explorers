{
 "cells": [
  {
   "cell_type": "code",
   "execution_count": 54,
   "metadata": {},
   "outputs": [],
   "source": [
    "import os\n",
    "import pandas as pd\n",
    "import glob"
   ]
  },
  {
   "cell_type": "code",
   "execution_count": 55,
   "metadata": {},
   "outputs": [],
   "source": [
    "path=os.path.join(os.getcwd(), '../data/input/dresden/2019/')"
   ]
  },
  {
   "cell_type": "markdown",
   "metadata": {},
   "source": [
    "## Read Data"
   ]
  },
  {
   "cell_type": "code",
   "execution_count": 56,
   "metadata": {},
   "outputs": [],
   "source": [
    "directors = glob.glob(path+\"*\")\n",
    "\n",
    "all_files = []\n",
    "for director in directors:\n",
    "    all_files=all_files+glob.glob(director+\"/*.csv\")\n",
    "    \n",
    "li = []\n",
    "\n",
    "for filename in all_files:\n",
    "    df_read = pd.read_csv(filename, index_col=None, header=0)\n",
    "    li.append(df_read)\n",
    "\n",
    "df = pd.concat(li, axis=0, ignore_index=True)"
   ]
  },
  {
   "cell_type": "markdown",
   "metadata": {},
   "source": [
    "## Form Data"
   ]
  },
  {
   "cell_type": "code",
   "execution_count": 57,
   "metadata": {},
   "outputs": [
    {
     "data": {
      "text/plain": [
       "0"
      ]
     },
     "execution_count": 57,
     "metadata": {},
     "output_type": "execute_result"
    }
   ],
   "source": [
    "# No Duplicates\n",
    "len(df)-len(df.drop_duplicates(subset=df.columns.difference([\"p_lat\", \"p_lng\"])))"
   ]
  },
  {
   "cell_type": "code",
   "execution_count": 58,
   "metadata": {},
   "outputs": [
    {
     "name": "stdout",
     "output_type": "stream",
     "text": [
      "Starts: 565996\n",
      "Ends: 550350\n",
      "Difference: 15646\n"
     ]
    }
   ],
   "source": [
    "print(\"Starts:\", len(df[df[\"trip\"]==\"start\"]))\n",
    "print(\"Ends:\", len(df[df[\"trip\"]==\"end\"]))\n",
    "print(\"Difference:\", len(df[df[\"trip\"]==\"start\"])-len(df[df[\"trip\"]==\"end\"]))"
   ]
  },
  {
   "cell_type": "code",
   "execution_count": 59,
   "metadata": {},
   "outputs": [
    {
     "name": "stdout",
     "output_type": "stream",
     "text": [
      "Dropped 290120 first and last Values\n"
     ]
    }
   ],
   "source": [
    "# df_2: start and end of trips\n",
    "df_2 = df[(df[\"trip\"]==\"start\") | (df[\"trip\"]==\"end\")]\n",
    "print(\"Dropped\", len(df)-len(df_2), \"first and last Values\")"
   ]
  },
  {
   "cell_type": "code",
   "execution_count": 60,
   "metadata": {},
   "outputs": [
    {
     "data": {
      "text/html": [
       "<div>\n",
       "<style scoped>\n",
       "    .dataframe tbody tr th:only-of-type {\n",
       "        vertical-align: middle;\n",
       "    }\n",
       "\n",
       "    .dataframe tbody tr th {\n",
       "        vertical-align: top;\n",
       "    }\n",
       "\n",
       "    .dataframe thead th {\n",
       "        text-align: right;\n",
       "    }\n",
       "</style>\n",
       "<table border=\"1\" class=\"dataframe\">\n",
       "  <thead>\n",
       "    <tr style=\"text-align: right;\">\n",
       "      <th></th>\n",
       "      <th>b_number</th>\n",
       "      <th>datetime</th>\n",
       "      <th>trip</th>\n",
       "    </tr>\n",
       "  </thead>\n",
       "  <tbody>\n",
       "    <tr>\n",
       "      <th>669292</th>\n",
       "      <td>93554</td>\n",
       "      <td>2019-07-05 13:37:00</td>\n",
       "      <td>start</td>\n",
       "    </tr>\n",
       "    <tr>\n",
       "      <th>669293</th>\n",
       "      <td>93554</td>\n",
       "      <td>2019-07-05 13:46:00</td>\n",
       "      <td>end</td>\n",
       "    </tr>\n",
       "    <tr>\n",
       "      <th>669294</th>\n",
       "      <td>93554</td>\n",
       "      <td>2019-07-05 14:20:00</td>\n",
       "      <td>start</td>\n",
       "    </tr>\n",
       "    <tr>\n",
       "      <th>669295</th>\n",
       "      <td>93554</td>\n",
       "      <td>2019-07-05 14:35:00</td>\n",
       "      <td>end</td>\n",
       "    </tr>\n",
       "    <tr>\n",
       "      <th>669296</th>\n",
       "      <td>93554</td>\n",
       "      <td>2019-07-05 16:44:00</td>\n",
       "      <td>start</td>\n",
       "    </tr>\n",
       "    <tr>\n",
       "      <th>669297</th>\n",
       "      <td>93554</td>\n",
       "      <td>2019-07-05 16:51:00</td>\n",
       "      <td>start</td>\n",
       "    </tr>\n",
       "    <tr>\n",
       "      <th>669298</th>\n",
       "      <td>93554</td>\n",
       "      <td>2019-07-05 17:29:00</td>\n",
       "      <td>end</td>\n",
       "    </tr>\n",
       "    <tr>\n",
       "      <th>669299</th>\n",
       "      <td>93554</td>\n",
       "      <td>2019-07-05 18:48:00</td>\n",
       "      <td>start</td>\n",
       "    </tr>\n",
       "    <tr>\n",
       "      <th>669300</th>\n",
       "      <td>93554</td>\n",
       "      <td>2019-07-05 19:18:00</td>\n",
       "      <td>end</td>\n",
       "    </tr>\n",
       "    <tr>\n",
       "      <th>669301</th>\n",
       "      <td>93554</td>\n",
       "      <td>2019-07-05 20:20:00</td>\n",
       "      <td>start</td>\n",
       "    </tr>\n",
       "    <tr>\n",
       "      <th>669302</th>\n",
       "      <td>93554</td>\n",
       "      <td>2019-07-05 20:26:00</td>\n",
       "      <td>end</td>\n",
       "    </tr>\n",
       "    <tr>\n",
       "      <th>673707</th>\n",
       "      <td>93554</td>\n",
       "      <td>2019-07-06 06:02:00</td>\n",
       "      <td>start</td>\n",
       "    </tr>\n",
       "    <tr>\n",
       "      <th>673708</th>\n",
       "      <td>93554</td>\n",
       "      <td>2019-07-06 06:09:00</td>\n",
       "      <td>end</td>\n",
       "    </tr>\n",
       "    <tr>\n",
       "      <th>673709</th>\n",
       "      <td>93554</td>\n",
       "      <td>2019-07-06 07:09:00</td>\n",
       "      <td>start</td>\n",
       "    </tr>\n",
       "    <tr>\n",
       "      <th>673710</th>\n",
       "      <td>93554</td>\n",
       "      <td>2019-07-06 11:31:00</td>\n",
       "      <td>start</td>\n",
       "    </tr>\n",
       "    <tr>\n",
       "      <th>673711</th>\n",
       "      <td>93554</td>\n",
       "      <td>2019-07-06 13:25:00</td>\n",
       "      <td>end</td>\n",
       "    </tr>\n",
       "    <tr>\n",
       "      <th>673712</th>\n",
       "      <td>93554</td>\n",
       "      <td>2019-07-06 13:49:00</td>\n",
       "      <td>start</td>\n",
       "    </tr>\n",
       "    <tr>\n",
       "      <th>673713</th>\n",
       "      <td>93554</td>\n",
       "      <td>2019-07-06 13:55:00</td>\n",
       "      <td>end</td>\n",
       "    </tr>\n",
       "    <tr>\n",
       "      <th>673714</th>\n",
       "      <td>93554</td>\n",
       "      <td>2019-07-06 14:54:00</td>\n",
       "      <td>start</td>\n",
       "    </tr>\n",
       "    <tr>\n",
       "      <th>673715</th>\n",
       "      <td>93554</td>\n",
       "      <td>2019-07-06 15:13:00</td>\n",
       "      <td>end</td>\n",
       "    </tr>\n",
       "  </tbody>\n",
       "</table>\n",
       "</div>"
      ],
      "text/plain": [
       "        b_number             datetime   trip\n",
       "669292     93554  2019-07-05 13:37:00  start\n",
       "669293     93554  2019-07-05 13:46:00    end\n",
       "669294     93554  2019-07-05 14:20:00  start\n",
       "669295     93554  2019-07-05 14:35:00    end\n",
       "669296     93554  2019-07-05 16:44:00  start\n",
       "669297     93554  2019-07-05 16:51:00  start\n",
       "669298     93554  2019-07-05 17:29:00    end\n",
       "669299     93554  2019-07-05 18:48:00  start\n",
       "669300     93554  2019-07-05 19:18:00    end\n",
       "669301     93554  2019-07-05 20:20:00  start\n",
       "669302     93554  2019-07-05 20:26:00    end\n",
       "673707     93554  2019-07-06 06:02:00  start\n",
       "673708     93554  2019-07-06 06:09:00    end\n",
       "673709     93554  2019-07-06 07:09:00  start\n",
       "673710     93554  2019-07-06 11:31:00  start\n",
       "673711     93554  2019-07-06 13:25:00    end\n",
       "673712     93554  2019-07-06 13:49:00  start\n",
       "673713     93554  2019-07-06 13:55:00    end\n",
       "673714     93554  2019-07-06 14:54:00  start\n",
       "673715     93554  2019-07-06 15:13:00    end"
      ]
     },
     "execution_count": 60,
     "metadata": {},
     "output_type": "execute_result"
    }
   ],
   "source": [
    "# df_3: start and end of trips sorted by b_number and datetime\n",
    "df_3=df_2.sort_values([\"b_number\", \"datetime\"])\n",
    "df_3[[\"b_number\", \"datetime\", \"trip\"]].iloc[500010:500030] # two examples for multiple starts"
   ]
  },
  {
   "cell_type": "code",
   "execution_count": 61,
   "metadata": {},
   "outputs": [],
   "source": [
    "# sr_1: True if after start entry comes end entry else False\n",
    "sr_1 = (df_3['trip'] != df_3['trip'].shift())\n",
    "df_3[\"valid_start\"]=sr_1\n",
    "\n",
    "# sr_2: \n",
    "#sr_2 = (df_3['trip'] != df_3['trip'].shift(-1))\n",
    "#df_3['valid_end'] = sr_2\n"
   ]
  },
  {
   "cell_type": "code",
   "execution_count": 70,
   "metadata": {},
   "outputs": [
    {
     "name": "stdout",
     "output_type": "stream",
     "text": [
      "Deleted entries 15646\n",
      "Correct entries 1100700\n"
     ]
    }
   ],
   "source": [
    "# df_4: start and end of trips sorted by b_number and datetime only valid starts\n",
    "df_4=df_3[df_3[\"valid_start\"]==True]\n",
    "print(\"Deleted entries\", len(df_3)-len(df_4))\n",
    "print(\"Correct entries\", len(df_4))"
   ]
  },
  {
   "cell_type": "code",
   "execution_count": 71,
   "metadata": {},
   "outputs": [
    {
     "name": "stdout",
     "output_type": "stream",
     "text": [
      "Entries where Bike X ends with an end and bike Y starts with an end\n"
     ]
    },
    {
     "data": {
      "text/html": [
       "<div>\n",
       "<style scoped>\n",
       "    .dataframe tbody tr th:only-of-type {\n",
       "        vertical-align: middle;\n",
       "    }\n",
       "\n",
       "    .dataframe tbody tr th {\n",
       "        vertical-align: top;\n",
       "    }\n",
       "\n",
       "    .dataframe thead th {\n",
       "        text-align: right;\n",
       "    }\n",
       "</style>\n",
       "<table border=\"1\" class=\"dataframe\">\n",
       "  <thead>\n",
       "    <tr style=\"text-align: right;\">\n",
       "      <th></th>\n",
       "      <th>trip</th>\n",
       "    </tr>\n",
       "  </thead>\n",
       "  <tbody>\n",
       "  </tbody>\n",
       "</table>\n",
       "</div>"
      ],
      "text/plain": [
       "Empty DataFrame\n",
       "Columns: [trip]\n",
       "Index: []"
      ]
     },
     "execution_count": 71,
     "metadata": {},
     "output_type": "execute_result"
    }
   ],
   "source": [
    "# Tests if there are values with two ends after each other\n",
    "test = df_4[\"trip\"] != df_4[\"trip\"].shift(-1)\n",
    "print(\"Entries where Bike X ends with an end and bike Y starts with an end\")\n",
    "pd.DataFrame(test)[pd.DataFrame(test)[\"trip\"]==False]"
   ]
  },
  {
   "cell_type": "code",
   "execution_count": 72,
   "metadata": {},
   "outputs": [],
   "source": [
    "df_starts = df_4[df_4[\"trip\"]==\"start\"].reset_index(drop=True)\n",
    "df_ends = df_4[df_4[\"trip\"]==\"end\"].reset_index(drop=True)\n",
    "\n"
   ]
  },
  {
   "cell_type": "code",
   "execution_count": 73,
   "metadata": {},
   "outputs": [
    {
     "name": "stdout",
     "output_type": "stream",
     "text": [
      "   b_number             datetime   trip\n",
      "0     11225  2019-04-29 06:31:00  start\n",
      "1     11225  2019-04-29 11:27:00  start\n",
      "2     11225  2019-04-29 11:58:00  start\n",
      "3     11225  2019-04-29 12:22:00  start\n",
      "4     11225  2019-04-29 13:00:00  start \n",
      "\n",
      "   b_number             datetime trip\n",
      "0     11225  2019-04-29 06:35:00  end\n",
      "1     11225  2019-04-29 11:33:00  end\n",
      "2     11225  2019-04-29 12:03:00  end\n",
      "3     11225  2019-04-29 12:39:00  end\n",
      "4     11225  2019-04-29 13:14:00  end\n"
     ]
    }
   ],
   "source": [
    "print(df_starts.head()[[\"b_number\", \"datetime\", \"trip\"]], \"\\n\")\n",
    "print(df_ends.head()[[\"b_number\", \"datetime\", \"trip\"]])"
   ]
  },
  {
   "cell_type": "code",
   "execution_count": 74,
   "metadata": {},
   "outputs": [
    {
     "data": {
      "text/html": [
       "<div>\n",
       "<style scoped>\n",
       "    .dataframe tbody tr th:only-of-type {\n",
       "        vertical-align: middle;\n",
       "    }\n",
       "\n",
       "    .dataframe tbody tr th {\n",
       "        vertical-align: top;\n",
       "    }\n",
       "\n",
       "    .dataframe thead th {\n",
       "        text-align: right;\n",
       "    }\n",
       "</style>\n",
       "<table border=\"1\" class=\"dataframe\">\n",
       "  <thead>\n",
       "    <tr style=\"text-align: right;\">\n",
       "      <th></th>\n",
       "      <th>p_rack_locks_start</th>\n",
       "      <th>p_bike_racks_start</th>\n",
       "      <th>b_state_start</th>\n",
       "      <th>p_spot_start</th>\n",
       "      <th>b_active_start</th>\n",
       "      <th>p_booked_bikes_start</th>\n",
       "      <th>p_place_type_start</th>\n",
       "      <th>datetime_start</th>\n",
       "      <th>b_number_start</th>\n",
       "      <th>trip_start</th>\n",
       "      <th>...</th>\n",
       "      <th>b_pedelec_battery_end</th>\n",
       "      <th>p_lng_end</th>\n",
       "      <th>b_boardcomputer_end</th>\n",
       "      <th>p_maintenance_end</th>\n",
       "      <th>p_terminal_type_end</th>\n",
       "      <th>p_bike_end</th>\n",
       "      <th>p_bike_types_end</th>\n",
       "      <th>b_battery_pack_end</th>\n",
       "      <th>p_special_racks_end</th>\n",
       "      <th>p_free_special_racks_end</th>\n",
       "    </tr>\n",
       "  </thead>\n",
       "  <tbody>\n",
       "    <tr>\n",
       "      <th>0</th>\n",
       "      <td>False</td>\n",
       "      <td>0</td>\n",
       "      <td>ok</td>\n",
       "      <td>True</td>\n",
       "      <td>True</td>\n",
       "      <td>0</td>\n",
       "      <td>0</td>\n",
       "      <td>2019-04-29 06:31:00</td>\n",
       "      <td>11225</td>\n",
       "      <td>start</td>\n",
       "      <td>...</td>\n",
       "      <td>NaN</td>\n",
       "      <td>13.769281</td>\n",
       "      <td>22919</td>\n",
       "      <td>False</td>\n",
       "      <td>NaN</td>\n",
       "      <td>False</td>\n",
       "      <td>{\"15\": 1}</td>\n",
       "      <td>NaN</td>\n",
       "      <td>0.0</td>\n",
       "      <td>0.0</td>\n",
       "    </tr>\n",
       "    <tr>\n",
       "      <th>1</th>\n",
       "      <td>False</td>\n",
       "      <td>0</td>\n",
       "      <td>ok</td>\n",
       "      <td>False</td>\n",
       "      <td>True</td>\n",
       "      <td>0</td>\n",
       "      <td>12</td>\n",
       "      <td>2019-04-29 11:27:00</td>\n",
       "      <td>11225</td>\n",
       "      <td>start</td>\n",
       "      <td>...</td>\n",
       "      <td>NaN</td>\n",
       "      <td>8.770495</td>\n",
       "      <td>22919</td>\n",
       "      <td>False</td>\n",
       "      <td>NaN</td>\n",
       "      <td>True</td>\n",
       "      <td>{\"15\": 1}</td>\n",
       "      <td>NaN</td>\n",
       "      <td>0.0</td>\n",
       "      <td>0.0</td>\n",
       "    </tr>\n",
       "    <tr>\n",
       "      <th>2</th>\n",
       "      <td>False</td>\n",
       "      <td>0</td>\n",
       "      <td>ok</td>\n",
       "      <td>False</td>\n",
       "      <td>True</td>\n",
       "      <td>0</td>\n",
       "      <td>12</td>\n",
       "      <td>2019-04-29 11:58:00</td>\n",
       "      <td>11225</td>\n",
       "      <td>start</td>\n",
       "      <td>...</td>\n",
       "      <td>NaN</td>\n",
       "      <td>8.772863</td>\n",
       "      <td>22919</td>\n",
       "      <td>False</td>\n",
       "      <td>NaN</td>\n",
       "      <td>True</td>\n",
       "      <td>{\"15\": 1}</td>\n",
       "      <td>NaN</td>\n",
       "      <td>0.0</td>\n",
       "      <td>0.0</td>\n",
       "    </tr>\n",
       "    <tr>\n",
       "      <th>3</th>\n",
       "      <td>False</td>\n",
       "      <td>0</td>\n",
       "      <td>ok</td>\n",
       "      <td>False</td>\n",
       "      <td>True</td>\n",
       "      <td>0</td>\n",
       "      <td>12</td>\n",
       "      <td>2019-04-29 12:22:00</td>\n",
       "      <td>11225</td>\n",
       "      <td>start</td>\n",
       "      <td>...</td>\n",
       "      <td>NaN</td>\n",
       "      <td>8.774550</td>\n",
       "      <td>22919</td>\n",
       "      <td>False</td>\n",
       "      <td>NaN</td>\n",
       "      <td>True</td>\n",
       "      <td>{\"15\": 1}</td>\n",
       "      <td>NaN</td>\n",
       "      <td>0.0</td>\n",
       "      <td>0.0</td>\n",
       "    </tr>\n",
       "    <tr>\n",
       "      <th>4</th>\n",
       "      <td>False</td>\n",
       "      <td>0</td>\n",
       "      <td>ok</td>\n",
       "      <td>False</td>\n",
       "      <td>True</td>\n",
       "      <td>0</td>\n",
       "      <td>12</td>\n",
       "      <td>2019-04-29 13:00:00</td>\n",
       "      <td>11225</td>\n",
       "      <td>start</td>\n",
       "      <td>...</td>\n",
       "      <td>NaN</td>\n",
       "      <td>8.763238</td>\n",
       "      <td>22919</td>\n",
       "      <td>False</td>\n",
       "      <td>NaN</td>\n",
       "      <td>True</td>\n",
       "      <td>{\"15\": 1}</td>\n",
       "      <td>NaN</td>\n",
       "      <td>0.0</td>\n",
       "      <td>0.0</td>\n",
       "    </tr>\n",
       "  </tbody>\n",
       "</table>\n",
       "<p>5 rows × 62 columns</p>\n",
       "</div>"
      ],
      "text/plain": [
       "   p_rack_locks_start  p_bike_racks_start b_state_start  p_spot_start  \\\n",
       "0               False                   0            ok          True   \n",
       "1               False                   0            ok         False   \n",
       "2               False                   0            ok         False   \n",
       "3               False                   0            ok         False   \n",
       "4               False                   0            ok         False   \n",
       "\n",
       "   b_active_start  p_booked_bikes_start  p_place_type_start  \\\n",
       "0            True                     0                   0   \n",
       "1            True                     0                  12   \n",
       "2            True                     0                  12   \n",
       "3            True                     0                  12   \n",
       "4            True                     0                  12   \n",
       "\n",
       "        datetime_start  b_number_start trip_start  ...  b_pedelec_battery_end  \\\n",
       "0  2019-04-29 06:31:00           11225      start  ...                    NaN   \n",
       "1  2019-04-29 11:27:00           11225      start  ...                    NaN   \n",
       "2  2019-04-29 11:58:00           11225      start  ...                    NaN   \n",
       "3  2019-04-29 12:22:00           11225      start  ...                    NaN   \n",
       "4  2019-04-29 13:00:00           11225      start  ...                    NaN   \n",
       "\n",
       "   p_lng_end  b_boardcomputer_end  p_maintenance_end  p_terminal_type_end  \\\n",
       "0  13.769281                22919              False                  NaN   \n",
       "1   8.770495                22919              False                  NaN   \n",
       "2   8.772863                22919              False                  NaN   \n",
       "3   8.774550                22919              False                  NaN   \n",
       "4   8.763238                22919              False                  NaN   \n",
       "\n",
       "  p_bike_end  p_bike_types_end b_battery_pack_end p_special_racks_end  \\\n",
       "0      False         {\"15\": 1}                NaN                 0.0   \n",
       "1       True         {\"15\": 1}                NaN                 0.0   \n",
       "2       True         {\"15\": 1}                NaN                 0.0   \n",
       "3       True         {\"15\": 1}                NaN                 0.0   \n",
       "4       True         {\"15\": 1}                NaN                 0.0   \n",
       "\n",
       "  p_free_special_racks_end  \n",
       "0                      0.0  \n",
       "1                      0.0  \n",
       "2                      0.0  \n",
       "3                      0.0  \n",
       "4                      0.0  \n",
       "\n",
       "[5 rows x 62 columns]"
      ]
     },
     "execution_count": 74,
     "metadata": {},
     "output_type": "execute_result"
    }
   ],
   "source": [
    "df_merged = df_starts.merge(df_ends, left_on=df_starts.index, right_on=df_ends.index, suffixes=(\"_start\", \"_end\"))\n",
    "df_merged.drop([\"key_0\", \"valid_start_start\", \"valid_start_end\"], axis=1, inplace=True)\n",
    "df_merged.head()"
   ]
  },
  {
   "cell_type": "code",
   "execution_count": null,
   "metadata": {},
   "outputs": [],
   "source": []
  },
  {
   "cell_type": "code",
   "execution_count": null,
   "metadata": {},
   "outputs": [],
   "source": []
  },
  {
   "cell_type": "code",
   "execution_count": null,
   "metadata": {},
   "outputs": [],
   "source": []
  }
 ],
 "metadata": {
  "kernelspec": {
   "display_name": "PDS20",
   "language": "python",
   "name": "pds20"
  },
  "language_info": {
   "codemirror_mode": {
    "name": "ipython",
    "version": 3
   },
   "file_extension": ".py",
   "mimetype": "text/x-python",
   "name": "python",
   "nbconvert_exporter": "python",
   "pygments_lexer": "ipython3",
   "version": "3.7.7"
  }
 },
 "nbformat": 4,
 "nbformat_minor": 4
}
