{
 "cells": [
  {
   "cell_type": "code",
   "execution_count": 1,
   "metadata": {},
   "outputs": [],
   "source": [
    "import os\n",
    "import pandas as pd\n",
    "import glob"
   ]
  },
  {
   "cell_type": "code",
   "execution_count": 2,
   "metadata": {},
   "outputs": [],
   "source": [
    "path_input=os.path.join(os.getcwd(), '../data/input/dresden/2019/')\n",
    "path_output_weather = os.path.join(os.getcwd(), '../data/output/weather/')\n",
    "path_output=os.path.join(os.getcwd(), '../data/output/')"
   ]
  },
  {
   "cell_type": "markdown",
   "metadata": {},
   "source": [
    "## Read Data"
   ]
  },
  {
   "cell_type": "code",
   "execution_count": 3,
   "metadata": {},
   "outputs": [],
   "source": [
    "directors = glob.glob(path_input+\"*\")\n",
    "\n",
    "all_files = []\n",
    "for director in directors:\n",
    "    all_files=all_files+glob.glob(director+\"/*.csv\")\n",
    "    \n",
    "li = []\n",
    "\n",
    "for filename in all_files:\n",
    "    df_read = pd.read_csv(filename, index_col=None, header=0)\n",
    "    li.append(df_read)\n",
    "\n",
    "df = pd.concat(li, axis=0, ignore_index=True)"
   ]
  },
  {
   "cell_type": "markdown",
   "metadata": {},
   "source": [
    "## Drop Columns"
   ]
  },
  {
   "cell_type": "code",
   "execution_count": 4,
   "metadata": {},
   "outputs": [
    {
     "data": {
      "text/html": [
       "<div>\n",
       "<style scoped>\n",
       "    .dataframe tbody tr th:only-of-type {\n",
       "        vertical-align: middle;\n",
       "    }\n",
       "\n",
       "    .dataframe tbody tr th {\n",
       "        vertical-align: top;\n",
       "    }\n",
       "\n",
       "    .dataframe thead th {\n",
       "        text-align: right;\n",
       "    }\n",
       "</style>\n",
       "<table border=\"1\" class=\"dataframe\">\n",
       "  <thead>\n",
       "    <tr style=\"text-align: right;\">\n",
       "      <th></th>\n",
       "      <th>p_bike_racks</th>\n",
       "      <th>p_spot</th>\n",
       "      <th>p_booked_bikes</th>\n",
       "      <th>p_place_type</th>\n",
       "      <th>datetime</th>\n",
       "      <th>b_number</th>\n",
       "      <th>trip</th>\n",
       "      <th>p_uid</th>\n",
       "      <th>p_bikes</th>\n",
       "      <th>p_lat</th>\n",
       "      <th>...</th>\n",
       "      <th>p_free_racks</th>\n",
       "      <th>p_address</th>\n",
       "      <th>b_lock_types</th>\n",
       "      <th>p_number</th>\n",
       "      <th>b_pedelec_battery</th>\n",
       "      <th>p_lng</th>\n",
       "      <th>b_boardcomputer</th>\n",
       "      <th>p_maintenance</th>\n",
       "      <th>p_terminal_type</th>\n",
       "      <th>p_bike_types</th>\n",
       "    </tr>\n",
       "  </thead>\n",
       "  <tbody>\n",
       "    <tr>\n",
       "      <th>0</th>\n",
       "      <td>0</td>\n",
       "      <td>True</td>\n",
       "      <td>0</td>\n",
       "      <td>0</td>\n",
       "      <td>2019-01-20 00:00:00</td>\n",
       "      <td>93716</td>\n",
       "      <td>first</td>\n",
       "      <td>264546</td>\n",
       "      <td>3</td>\n",
       "      <td>51.033548</td>\n",
       "      <td>...</td>\n",
       "      <td>0</td>\n",
       "      <td>NaN</td>\n",
       "      <td>analog_code_lock</td>\n",
       "      <td>4346.0</td>\n",
       "      <td>0.0</td>\n",
       "      <td>13.748800</td>\n",
       "      <td>0</td>\n",
       "      <td>False</td>\n",
       "      <td>NaN</td>\n",
       "      <td>{\"undefined\": 2, \"15\": 1}</td>\n",
       "    </tr>\n",
       "    <tr>\n",
       "      <th>1</th>\n",
       "      <td>0</td>\n",
       "      <td>True</td>\n",
       "      <td>0</td>\n",
       "      <td>0</td>\n",
       "      <td>2019-01-20 09:40:00</td>\n",
       "      <td>93716</td>\n",
       "      <td>start</td>\n",
       "      <td>264546</td>\n",
       "      <td>3</td>\n",
       "      <td>51.033548</td>\n",
       "      <td>...</td>\n",
       "      <td>0</td>\n",
       "      <td>NaN</td>\n",
       "      <td>analog_code_lock</td>\n",
       "      <td>4346.0</td>\n",
       "      <td>0.0</td>\n",
       "      <td>13.748800</td>\n",
       "      <td>0</td>\n",
       "      <td>False</td>\n",
       "      <td>NaN</td>\n",
       "      <td>{\"undefined\": 2, \"15\": 1}</td>\n",
       "    </tr>\n",
       "    <tr>\n",
       "      <th>2</th>\n",
       "      <td>0</td>\n",
       "      <td>True</td>\n",
       "      <td>0</td>\n",
       "      <td>0</td>\n",
       "      <td>2019-01-20 09:58:00</td>\n",
       "      <td>93716</td>\n",
       "      <td>end</td>\n",
       "      <td>264595</td>\n",
       "      <td>2</td>\n",
       "      <td>51.058771</td>\n",
       "      <td>...</td>\n",
       "      <td>0</td>\n",
       "      <td>NaN</td>\n",
       "      <td>analog_code_lock</td>\n",
       "      <td>4389.0</td>\n",
       "      <td>0.0</td>\n",
       "      <td>13.769281</td>\n",
       "      <td>0</td>\n",
       "      <td>False</td>\n",
       "      <td>NaN</td>\n",
       "      <td>{\"15\": 2}</td>\n",
       "    </tr>\n",
       "    <tr>\n",
       "      <th>3</th>\n",
       "      <td>0</td>\n",
       "      <td>True</td>\n",
       "      <td>0</td>\n",
       "      <td>0</td>\n",
       "      <td>2019-01-20 17:36:00</td>\n",
       "      <td>93716</td>\n",
       "      <td>start</td>\n",
       "      <td>264595</td>\n",
       "      <td>3</td>\n",
       "      <td>51.058771</td>\n",
       "      <td>...</td>\n",
       "      <td>0</td>\n",
       "      <td>NaN</td>\n",
       "      <td>analog_code_lock</td>\n",
       "      <td>4389.0</td>\n",
       "      <td>0.0</td>\n",
       "      <td>13.769281</td>\n",
       "      <td>0</td>\n",
       "      <td>False</td>\n",
       "      <td>NaN</td>\n",
       "      <td>{\"15\": 3}</td>\n",
       "    </tr>\n",
       "    <tr>\n",
       "      <th>4</th>\n",
       "      <td>0</td>\n",
       "      <td>True</td>\n",
       "      <td>0</td>\n",
       "      <td>0</td>\n",
       "      <td>2019-01-20 19:39:00</td>\n",
       "      <td>93716</td>\n",
       "      <td>end</td>\n",
       "      <td>100894</td>\n",
       "      <td>1</td>\n",
       "      <td>51.067153</td>\n",
       "      <td>...</td>\n",
       "      <td>0</td>\n",
       "      <td>NaN</td>\n",
       "      <td>analog_code_lock</td>\n",
       "      <td>4361.0</td>\n",
       "      <td>0.0</td>\n",
       "      <td>13.776480</td>\n",
       "      <td>0</td>\n",
       "      <td>False</td>\n",
       "      <td>NaN</td>\n",
       "      <td>{\"15\": 1}</td>\n",
       "    </tr>\n",
       "  </tbody>\n",
       "</table>\n",
       "<p>5 rows × 23 columns</p>\n",
       "</div>"
      ],
      "text/plain": [
       "   p_bike_racks  p_spot  p_booked_bikes  p_place_type             datetime  \\\n",
       "0             0    True               0             0  2019-01-20 00:00:00   \n",
       "1             0    True               0             0  2019-01-20 09:40:00   \n",
       "2             0    True               0             0  2019-01-20 09:58:00   \n",
       "3             0    True               0             0  2019-01-20 17:36:00   \n",
       "4             0    True               0             0  2019-01-20 19:39:00   \n",
       "\n",
       "   b_number   trip   p_uid  p_bikes      p_lat  ...  p_free_racks  p_address  \\\n",
       "0     93716  first  264546        3  51.033548  ...             0        NaN   \n",
       "1     93716  start  264546        3  51.033548  ...             0        NaN   \n",
       "2     93716    end  264595        2  51.058771  ...             0        NaN   \n",
       "3     93716  start  264595        3  51.058771  ...             0        NaN   \n",
       "4     93716    end  100894        1  51.067153  ...             0        NaN   \n",
       "\n",
       "       b_lock_types  p_number b_pedelec_battery      p_lng  b_boardcomputer  \\\n",
       "0  analog_code_lock    4346.0               0.0  13.748800                0   \n",
       "1  analog_code_lock    4346.0               0.0  13.748800                0   \n",
       "2  analog_code_lock    4389.0               0.0  13.769281                0   \n",
       "3  analog_code_lock    4389.0               0.0  13.769281                0   \n",
       "4  analog_code_lock    4361.0               0.0  13.776480                0   \n",
       "\n",
       "   p_maintenance  p_terminal_type               p_bike_types  \n",
       "0          False              NaN  {\"undefined\": 2, \"15\": 1}  \n",
       "1          False              NaN  {\"undefined\": 2, \"15\": 1}  \n",
       "2          False              NaN                  {\"15\": 2}  \n",
       "3          False              NaN                  {\"15\": 3}  \n",
       "4          False              NaN                  {\"15\": 1}  \n",
       "\n",
       "[5 rows x 23 columns]"
      ]
     },
     "execution_count": 4,
     "metadata": {},
     "output_type": "execute_result"
    }
   ],
   "source": [
    "#Columns including single value\n",
    "#The following columns only included one value (or NaN values)\n",
    "#city : ['dresden']\n",
    "#p_rack_locks : [False]\n",
    "#b_state : ['ok']\n",
    "#b_active : [ True]\n",
    "#b_battery_pack : [nan '{\"percentage\": 0}']\n",
    "#p_special_racks : [nan 0.]\n",
    "#p_free_special_racks : [nan 0.]\n",
    "\n",
    "#Columns which highly correlate\n",
    "\n",
    "#The following columns highly correlate - meaning they are complementary booleans or if one is high, the other is too\n",
    "\n",
    "#p_bike [corr(p_spot)=-0.999501, complementary boolean to p_spot]\n",
    "\n",
    "df_cleaned = df.drop([\"city\", \n",
    "                      \"p_bike\", \n",
    "                      \"p_rack_locks\", \n",
    "                      \"b_active\", \n",
    "                      \"b_state\", \n",
    "                      \"b_battery_pack\", \n",
    "                      \"p_rack_locks\", \n",
    "                      \"p_special_racks\", \n",
    "                      \"p_free_special_racks\"], axis=1)\n",
    "df_cleaned.head()"
   ]
  },
  {
   "cell_type": "code",
   "execution_count": null,
   "metadata": {},
   "outputs": [],
   "source": []
  },
  {
   "cell_type": "markdown",
   "metadata": {},
   "source": [
    "## Create Trips"
   ]
  },
  {
   "cell_type": "code",
   "execution_count": 5,
   "metadata": {},
   "outputs": [
    {
     "data": {
      "text/plain": [
       "0"
      ]
     },
     "execution_count": 5,
     "metadata": {},
     "output_type": "execute_result"
    }
   ],
   "source": [
    "# No Duplicates\n",
    "len(df_cleaned)-len(df_cleaned.drop_duplicates(subset=df_cleaned.columns.difference([\"p_lat\", \"p_lng\"])))"
   ]
  },
  {
   "cell_type": "code",
   "execution_count": 6,
   "metadata": {},
   "outputs": [
    {
     "name": "stdout",
     "output_type": "stream",
     "text": [
      "Starts: 565996\n",
      "Ends: 550350\n",
      "Difference: 15646\n"
     ]
    }
   ],
   "source": [
    "print(\"Starts:\", len(df_cleaned[df_cleaned[\"trip\"]==\"start\"]))\n",
    "print(\"Ends:\", len(df_cleaned[df_cleaned[\"trip\"]==\"end\"]))\n",
    "print(\"Difference:\", len(df_cleaned[df_cleaned[\"trip\"]==\"start\"])-len(df_cleaned[df_cleaned[\"trip\"]==\"end\"]))"
   ]
  },
  {
   "cell_type": "code",
   "execution_count": 7,
   "metadata": {},
   "outputs": [
    {
     "name": "stdout",
     "output_type": "stream",
     "text": [
      "Dropped 290120 first and last Values\n"
     ]
    }
   ],
   "source": [
    "# df_2: start and end of trips\n",
    "df_2 = df_cleaned[(df_cleaned[\"trip\"]==\"start\") | (df_cleaned[\"trip\"]==\"end\")]\n",
    "print(\"Dropped\", len(df_cleaned)-len(df_2), \"first and last Values\")"
   ]
  },
  {
   "cell_type": "code",
   "execution_count": 8,
   "metadata": {},
   "outputs": [
    {
     "data": {
      "text/html": [
       "<div>\n",
       "<style scoped>\n",
       "    .dataframe tbody tr th:only-of-type {\n",
       "        vertical-align: middle;\n",
       "    }\n",
       "\n",
       "    .dataframe tbody tr th {\n",
       "        vertical-align: top;\n",
       "    }\n",
       "\n",
       "    .dataframe thead th {\n",
       "        text-align: right;\n",
       "    }\n",
       "</style>\n",
       "<table border=\"1\" class=\"dataframe\">\n",
       "  <thead>\n",
       "    <tr style=\"text-align: right;\">\n",
       "      <th></th>\n",
       "      <th>b_number</th>\n",
       "      <th>datetime</th>\n",
       "      <th>trip</th>\n",
       "    </tr>\n",
       "  </thead>\n",
       "  <tbody>\n",
       "    <tr>\n",
       "      <th>669292</th>\n",
       "      <td>93554</td>\n",
       "      <td>2019-07-05 13:37:00</td>\n",
       "      <td>start</td>\n",
       "    </tr>\n",
       "    <tr>\n",
       "      <th>669293</th>\n",
       "      <td>93554</td>\n",
       "      <td>2019-07-05 13:46:00</td>\n",
       "      <td>end</td>\n",
       "    </tr>\n",
       "    <tr>\n",
       "      <th>669294</th>\n",
       "      <td>93554</td>\n",
       "      <td>2019-07-05 14:20:00</td>\n",
       "      <td>start</td>\n",
       "    </tr>\n",
       "    <tr>\n",
       "      <th>669295</th>\n",
       "      <td>93554</td>\n",
       "      <td>2019-07-05 14:35:00</td>\n",
       "      <td>end</td>\n",
       "    </tr>\n",
       "    <tr>\n",
       "      <th>669296</th>\n",
       "      <td>93554</td>\n",
       "      <td>2019-07-05 16:44:00</td>\n",
       "      <td>start</td>\n",
       "    </tr>\n",
       "    <tr>\n",
       "      <th>669297</th>\n",
       "      <td>93554</td>\n",
       "      <td>2019-07-05 16:51:00</td>\n",
       "      <td>start</td>\n",
       "    </tr>\n",
       "    <tr>\n",
       "      <th>669298</th>\n",
       "      <td>93554</td>\n",
       "      <td>2019-07-05 17:29:00</td>\n",
       "      <td>end</td>\n",
       "    </tr>\n",
       "    <tr>\n",
       "      <th>669299</th>\n",
       "      <td>93554</td>\n",
       "      <td>2019-07-05 18:48:00</td>\n",
       "      <td>start</td>\n",
       "    </tr>\n",
       "    <tr>\n",
       "      <th>669300</th>\n",
       "      <td>93554</td>\n",
       "      <td>2019-07-05 19:18:00</td>\n",
       "      <td>end</td>\n",
       "    </tr>\n",
       "    <tr>\n",
       "      <th>669301</th>\n",
       "      <td>93554</td>\n",
       "      <td>2019-07-05 20:20:00</td>\n",
       "      <td>start</td>\n",
       "    </tr>\n",
       "    <tr>\n",
       "      <th>669302</th>\n",
       "      <td>93554</td>\n",
       "      <td>2019-07-05 20:26:00</td>\n",
       "      <td>end</td>\n",
       "    </tr>\n",
       "    <tr>\n",
       "      <th>673707</th>\n",
       "      <td>93554</td>\n",
       "      <td>2019-07-06 06:02:00</td>\n",
       "      <td>start</td>\n",
       "    </tr>\n",
       "    <tr>\n",
       "      <th>673708</th>\n",
       "      <td>93554</td>\n",
       "      <td>2019-07-06 06:09:00</td>\n",
       "      <td>end</td>\n",
       "    </tr>\n",
       "    <tr>\n",
       "      <th>673709</th>\n",
       "      <td>93554</td>\n",
       "      <td>2019-07-06 07:09:00</td>\n",
       "      <td>start</td>\n",
       "    </tr>\n",
       "    <tr>\n",
       "      <th>673710</th>\n",
       "      <td>93554</td>\n",
       "      <td>2019-07-06 11:31:00</td>\n",
       "      <td>start</td>\n",
       "    </tr>\n",
       "    <tr>\n",
       "      <th>673711</th>\n",
       "      <td>93554</td>\n",
       "      <td>2019-07-06 13:25:00</td>\n",
       "      <td>end</td>\n",
       "    </tr>\n",
       "    <tr>\n",
       "      <th>673712</th>\n",
       "      <td>93554</td>\n",
       "      <td>2019-07-06 13:49:00</td>\n",
       "      <td>start</td>\n",
       "    </tr>\n",
       "    <tr>\n",
       "      <th>673713</th>\n",
       "      <td>93554</td>\n",
       "      <td>2019-07-06 13:55:00</td>\n",
       "      <td>end</td>\n",
       "    </tr>\n",
       "    <tr>\n",
       "      <th>673714</th>\n",
       "      <td>93554</td>\n",
       "      <td>2019-07-06 14:54:00</td>\n",
       "      <td>start</td>\n",
       "    </tr>\n",
       "    <tr>\n",
       "      <th>673715</th>\n",
       "      <td>93554</td>\n",
       "      <td>2019-07-06 15:13:00</td>\n",
       "      <td>end</td>\n",
       "    </tr>\n",
       "  </tbody>\n",
       "</table>\n",
       "</div>"
      ],
      "text/plain": [
       "        b_number             datetime   trip\n",
       "669292     93554  2019-07-05 13:37:00  start\n",
       "669293     93554  2019-07-05 13:46:00    end\n",
       "669294     93554  2019-07-05 14:20:00  start\n",
       "669295     93554  2019-07-05 14:35:00    end\n",
       "669296     93554  2019-07-05 16:44:00  start\n",
       "669297     93554  2019-07-05 16:51:00  start\n",
       "669298     93554  2019-07-05 17:29:00    end\n",
       "669299     93554  2019-07-05 18:48:00  start\n",
       "669300     93554  2019-07-05 19:18:00    end\n",
       "669301     93554  2019-07-05 20:20:00  start\n",
       "669302     93554  2019-07-05 20:26:00    end\n",
       "673707     93554  2019-07-06 06:02:00  start\n",
       "673708     93554  2019-07-06 06:09:00    end\n",
       "673709     93554  2019-07-06 07:09:00  start\n",
       "673710     93554  2019-07-06 11:31:00  start\n",
       "673711     93554  2019-07-06 13:25:00    end\n",
       "673712     93554  2019-07-06 13:49:00  start\n",
       "673713     93554  2019-07-06 13:55:00    end\n",
       "673714     93554  2019-07-06 14:54:00  start\n",
       "673715     93554  2019-07-06 15:13:00    end"
      ]
     },
     "execution_count": 8,
     "metadata": {},
     "output_type": "execute_result"
    }
   ],
   "source": [
    "# df_3: start and end of trips sorted by b_number and datetime\n",
    "df_3=df_2.sort_values([\"b_number\", \"datetime\"])\n",
    "df_3[[\"b_number\", \"datetime\", \"trip\"]].iloc[500010:500030] # two examples for multiple starts"
   ]
  },
  {
   "cell_type": "code",
   "execution_count": 9,
   "metadata": {},
   "outputs": [],
   "source": [
    "# sr_1: True if after start entry comes end entry else False\n",
    "sr_1 = (df_3['trip'] != df_3['trip'].shift())\n",
    "df_3[\"valid_start\"]=sr_1\n",
    "\n",
    "# sr_2: \n",
    "#sr_2 = (df_3['trip'] != df_3['trip'].shift(-1))\n",
    "#df_3['valid_end'] = sr_2\n"
   ]
  },
  {
   "cell_type": "code",
   "execution_count": 10,
   "metadata": {},
   "outputs": [
    {
     "name": "stdout",
     "output_type": "stream",
     "text": [
      "Deleted entries 15646\n",
      "Correct entries 1100700\n"
     ]
    }
   ],
   "source": [
    "# df_4: start and end of trips sorted by b_number and datetime only valid starts\n",
    "df_4=df_3[df_3[\"valid_start\"]==True]\n",
    "print(\"Deleted entries\", len(df_3)-len(df_4))\n",
    "print(\"Correct entries\", len(df_4))"
   ]
  },
  {
   "cell_type": "code",
   "execution_count": 11,
   "metadata": {},
   "outputs": [
    {
     "name": "stdout",
     "output_type": "stream",
     "text": [
      "Entries where Bike X ends with an end and bike Y starts with an end\n"
     ]
    },
    {
     "data": {
      "text/html": [
       "<div>\n",
       "<style scoped>\n",
       "    .dataframe tbody tr th:only-of-type {\n",
       "        vertical-align: middle;\n",
       "    }\n",
       "\n",
       "    .dataframe tbody tr th {\n",
       "        vertical-align: top;\n",
       "    }\n",
       "\n",
       "    .dataframe thead th {\n",
       "        text-align: right;\n",
       "    }\n",
       "</style>\n",
       "<table border=\"1\" class=\"dataframe\">\n",
       "  <thead>\n",
       "    <tr style=\"text-align: right;\">\n",
       "      <th></th>\n",
       "      <th>trip</th>\n",
       "    </tr>\n",
       "  </thead>\n",
       "  <tbody>\n",
       "  </tbody>\n",
       "</table>\n",
       "</div>"
      ],
      "text/plain": [
       "Empty DataFrame\n",
       "Columns: [trip]\n",
       "Index: []"
      ]
     },
     "execution_count": 11,
     "metadata": {},
     "output_type": "execute_result"
    }
   ],
   "source": [
    "# Tests if there are values with two ends after each other\n",
    "test = df_4[\"trip\"] != df_4[\"trip\"].shift(-1)\n",
    "print(\"Entries where Bike X ends with an end and bike Y starts with an end\")\n",
    "pd.DataFrame(test)[pd.DataFrame(test)[\"trip\"]==False]"
   ]
  },
  {
   "cell_type": "code",
   "execution_count": 12,
   "metadata": {},
   "outputs": [],
   "source": [
    "df_starts = df_4[df_4[\"trip\"]==\"start\"].reset_index(drop=True)\n",
    "df_ends = df_4[df_4[\"trip\"]==\"end\"].reset_index(drop=True)\n",
    "\n"
   ]
  },
  {
   "cell_type": "code",
   "execution_count": 13,
   "metadata": {},
   "outputs": [
    {
     "name": "stdout",
     "output_type": "stream",
     "text": [
      "   b_number             datetime   trip\n",
      "0     11225  2019-04-29 06:31:00  start\n",
      "1     11225  2019-04-29 11:27:00  start\n",
      "2     11225  2019-04-29 11:58:00  start\n",
      "3     11225  2019-04-29 12:22:00  start\n",
      "4     11225  2019-04-29 13:00:00  start \n",
      "\n",
      "   b_number             datetime trip\n",
      "0     11225  2019-04-29 06:35:00  end\n",
      "1     11225  2019-04-29 11:33:00  end\n",
      "2     11225  2019-04-29 12:03:00  end\n",
      "3     11225  2019-04-29 12:39:00  end\n",
      "4     11225  2019-04-29 13:14:00  end\n"
     ]
    }
   ],
   "source": [
    "print(df_starts.head()[[\"b_number\", \"datetime\", \"trip\"]], \"\\n\")\n",
    "print(df_ends.head()[[\"b_number\", \"datetime\", \"trip\"]])"
   ]
  },
  {
   "cell_type": "code",
   "execution_count": 14,
   "metadata": {},
   "outputs": [
    {
     "data": {
      "text/html": [
       "<div>\n",
       "<style scoped>\n",
       "    .dataframe tbody tr th:only-of-type {\n",
       "        vertical-align: middle;\n",
       "    }\n",
       "\n",
       "    .dataframe tbody tr th {\n",
       "        vertical-align: top;\n",
       "    }\n",
       "\n",
       "    .dataframe thead th {\n",
       "        text-align: right;\n",
       "    }\n",
       "</style>\n",
       "<table border=\"1\" class=\"dataframe\">\n",
       "  <thead>\n",
       "    <tr style=\"text-align: right;\">\n",
       "      <th></th>\n",
       "      <th>p_bike_racks_start</th>\n",
       "      <th>p_spot_start</th>\n",
       "      <th>p_booked_bikes_start</th>\n",
       "      <th>p_place_type_start</th>\n",
       "      <th>datetime_start</th>\n",
       "      <th>b_number_start</th>\n",
       "      <th>p_uid_start</th>\n",
       "      <th>p_bikes_start</th>\n",
       "      <th>p_lat_start</th>\n",
       "      <th>b_electric_lock_start</th>\n",
       "      <th>...</th>\n",
       "      <th>p_bikes_end</th>\n",
       "      <th>p_lat_end</th>\n",
       "      <th>p_name_end</th>\n",
       "      <th>p_free_racks_end</th>\n",
       "      <th>p_address_end</th>\n",
       "      <th>p_number_end</th>\n",
       "      <th>p_lng_end</th>\n",
       "      <th>p_maintenance_end</th>\n",
       "      <th>p_terminal_type_end</th>\n",
       "      <th>p_bike_types_end</th>\n",
       "    </tr>\n",
       "  </thead>\n",
       "  <tbody>\n",
       "    <tr>\n",
       "      <th>0</th>\n",
       "      <td>0</td>\n",
       "      <td>True</td>\n",
       "      <td>0</td>\n",
       "      <td>0</td>\n",
       "      <td>2019-04-29 06:31:00</td>\n",
       "      <td>11225</td>\n",
       "      <td>264595</td>\n",
       "      <td>1</td>\n",
       "      <td>51.058771</td>\n",
       "      <td>True</td>\n",
       "      <td>...</td>\n",
       "      <td>1</td>\n",
       "      <td>51.058771</td>\n",
       "      <td>Gutenbergstraße</td>\n",
       "      <td>0</td>\n",
       "      <td>NaN</td>\n",
       "      <td>4389.0</td>\n",
       "      <td>13.769281</td>\n",
       "      <td>False</td>\n",
       "      <td>NaN</td>\n",
       "      <td>{\"15\": 1}</td>\n",
       "    </tr>\n",
       "    <tr>\n",
       "      <th>1</th>\n",
       "      <td>0</td>\n",
       "      <td>False</td>\n",
       "      <td>0</td>\n",
       "      <td>12</td>\n",
       "      <td>2019-04-29 11:27:00</td>\n",
       "      <td>11225</td>\n",
       "      <td>15109859</td>\n",
       "      <td>1</td>\n",
       "      <td>50.806704</td>\n",
       "      <td>True</td>\n",
       "      <td>...</td>\n",
       "      <td>1</td>\n",
       "      <td>50.813655</td>\n",
       "      <td>BIKE 11225</td>\n",
       "      <td>0</td>\n",
       "      <td>NaN</td>\n",
       "      <td>0.0</td>\n",
       "      <td>8.770495</td>\n",
       "      <td>False</td>\n",
       "      <td>NaN</td>\n",
       "      <td>{\"15\": 1}</td>\n",
       "    </tr>\n",
       "    <tr>\n",
       "      <th>2</th>\n",
       "      <td>0</td>\n",
       "      <td>False</td>\n",
       "      <td>0</td>\n",
       "      <td>12</td>\n",
       "      <td>2019-04-29 11:58:00</td>\n",
       "      <td>11225</td>\n",
       "      <td>15117356</td>\n",
       "      <td>1</td>\n",
       "      <td>50.813655</td>\n",
       "      <td>True</td>\n",
       "      <td>...</td>\n",
       "      <td>1</td>\n",
       "      <td>50.808976</td>\n",
       "      <td>BIKE 11225</td>\n",
       "      <td>0</td>\n",
       "      <td>NaN</td>\n",
       "      <td>0.0</td>\n",
       "      <td>8.772863</td>\n",
       "      <td>False</td>\n",
       "      <td>NaN</td>\n",
       "      <td>{\"15\": 1}</td>\n",
       "    </tr>\n",
       "    <tr>\n",
       "      <th>3</th>\n",
       "      <td>0</td>\n",
       "      <td>False</td>\n",
       "      <td>0</td>\n",
       "      <td>12</td>\n",
       "      <td>2019-04-29 12:22:00</td>\n",
       "      <td>11225</td>\n",
       "      <td>15118389</td>\n",
       "      <td>1</td>\n",
       "      <td>50.808976</td>\n",
       "      <td>True</td>\n",
       "      <td>...</td>\n",
       "      <td>1</td>\n",
       "      <td>50.822621</td>\n",
       "      <td>BIKE 11225</td>\n",
       "      <td>0</td>\n",
       "      <td>NaN</td>\n",
       "      <td>0.0</td>\n",
       "      <td>8.774550</td>\n",
       "      <td>False</td>\n",
       "      <td>NaN</td>\n",
       "      <td>{\"15\": 1}</td>\n",
       "    </tr>\n",
       "    <tr>\n",
       "      <th>4</th>\n",
       "      <td>0</td>\n",
       "      <td>False</td>\n",
       "      <td>0</td>\n",
       "      <td>12</td>\n",
       "      <td>2019-04-29 13:00:00</td>\n",
       "      <td>11225</td>\n",
       "      <td>15119670</td>\n",
       "      <td>1</td>\n",
       "      <td>50.822621</td>\n",
       "      <td>True</td>\n",
       "      <td>...</td>\n",
       "      <td>1</td>\n",
       "      <td>50.813241</td>\n",
       "      <td>BIKE 11225</td>\n",
       "      <td>0</td>\n",
       "      <td>NaN</td>\n",
       "      <td>0.0</td>\n",
       "      <td>8.763238</td>\n",
       "      <td>False</td>\n",
       "      <td>NaN</td>\n",
       "      <td>{\"15\": 1}</td>\n",
       "    </tr>\n",
       "  </tbody>\n",
       "</table>\n",
       "<p>5 rows × 38 columns</p>\n",
       "</div>"
      ],
      "text/plain": [
       "   p_bike_racks_start  p_spot_start  p_booked_bikes_start  p_place_type_start  \\\n",
       "0                   0          True                     0                   0   \n",
       "1                   0         False                     0                  12   \n",
       "2                   0         False                     0                  12   \n",
       "3                   0         False                     0                  12   \n",
       "4                   0         False                     0                  12   \n",
       "\n",
       "        datetime_start  b_number_start  p_uid_start  p_bikes_start  \\\n",
       "0  2019-04-29 06:31:00           11225       264595              1   \n",
       "1  2019-04-29 11:27:00           11225     15109859              1   \n",
       "2  2019-04-29 11:58:00           11225     15117356              1   \n",
       "3  2019-04-29 12:22:00           11225     15118389              1   \n",
       "4  2019-04-29 13:00:00           11225     15119670              1   \n",
       "\n",
       "   p_lat_start  b_electric_lock_start  ...  p_bikes_end  p_lat_end  \\\n",
       "0    51.058771                   True  ...            1  51.058771   \n",
       "1    50.806704                   True  ...            1  50.813655   \n",
       "2    50.813655                   True  ...            1  50.808976   \n",
       "3    50.808976                   True  ...            1  50.822621   \n",
       "4    50.822621                   True  ...            1  50.813241   \n",
       "\n",
       "        p_name_end p_free_racks_end p_address_end  p_number_end  p_lng_end  \\\n",
       "0  Gutenbergstraße                0           NaN        4389.0  13.769281   \n",
       "1       BIKE 11225                0           NaN           0.0   8.770495   \n",
       "2       BIKE 11225                0           NaN           0.0   8.772863   \n",
       "3       BIKE 11225                0           NaN           0.0   8.774550   \n",
       "4       BIKE 11225                0           NaN           0.0   8.763238   \n",
       "\n",
       "   p_maintenance_end  p_terminal_type_end  p_bike_types_end  \n",
       "0              False                  NaN         {\"15\": 1}  \n",
       "1              False                  NaN         {\"15\": 1}  \n",
       "2              False                  NaN         {\"15\": 1}  \n",
       "3              False                  NaN         {\"15\": 1}  \n",
       "4              False                  NaN         {\"15\": 1}  \n",
       "\n",
       "[5 rows x 38 columns]"
      ]
     },
     "execution_count": 14,
     "metadata": {},
     "output_type": "execute_result"
    }
   ],
   "source": [
    "df_merged = df_starts.merge(df_ends, left_on=df_starts.index, right_on=df_ends.index, suffixes=(\"_start\", \"_end\"))\n",
    "df_merged.drop([\"key_0\", \n",
    "                \"valid_start_start\", \n",
    "                \"valid_start_end\", \n",
    "                \"trip_start\", \n",
    "                \"trip_end\", \n",
    "                \"b_number_end\", \n",
    "                \"b_boardcomputer_end\", \n",
    "                \"b_pedelec_battery_end\", \n",
    "                \"b_lock_types_end\", \n",
    "                \"b_bike_type_end\", \n",
    "                \"b_electric_lock_end\"], axis=1, inplace=True)\n",
    "df_merged.head()"
   ]
  },
  {
   "cell_type": "markdown",
   "metadata": {},
   "source": [
    "## Merge Trips with Weather data"
   ]
  },
  {
   "cell_type": "code",
   "execution_count": 15,
   "metadata": {},
   "outputs": [],
   "source": [
    "df_dwd=pd.read_csv(os.path.join(path_output_weather, \"DWD.csv\"))\n",
    "df_dwd['MESS_DATUM'] = pd.to_datetime(df_dwd['MESS_DATUM'].astype(str), format=\"%Y-%m-%d %H:%M:%S\", errors='coerce')\n",
    "\n",
    "df_merged[\"datetime_start\"] = pd.to_datetime(df_merged[\"datetime_start\"].astype(str), format=\"%Y-%m-%d %H:%M:%S\", errors=\"coerce\")"
   ]
  },
  {
   "cell_type": "code",
   "execution_count": 16,
   "metadata": {},
   "outputs": [],
   "source": [
    "df_full = pd.merge_asof(df_merged.sort_values('datetime_start'), \n",
    "                        df_dwd, left_on='datetime_start', \n",
    "                        right_on='MESS_DATUM', \n",
    "                        tolerance=pd.Timedelta('30 min'),\n",
    "                        allow_exact_matches=True, direction='nearest')"
   ]
  },
  {
   "cell_type": "code",
   "execution_count": 17,
   "metadata": {},
   "outputs": [
    {
     "data": {
      "text/html": [
       "<div>\n",
       "<style scoped>\n",
       "    .dataframe tbody tr th:only-of-type {\n",
       "        vertical-align: middle;\n",
       "    }\n",
       "\n",
       "    .dataframe tbody tr th {\n",
       "        vertical-align: top;\n",
       "    }\n",
       "\n",
       "    .dataframe thead th {\n",
       "        text-align: right;\n",
       "    }\n",
       "</style>\n",
       "<table border=\"1\" class=\"dataframe\">\n",
       "  <thead>\n",
       "    <tr style=\"text-align: right;\">\n",
       "      <th></th>\n",
       "      <th>p_bike_racks_start</th>\n",
       "      <th>p_spot_start</th>\n",
       "      <th>p_booked_bikes_start</th>\n",
       "      <th>p_place_type_start</th>\n",
       "      <th>datetime_start</th>\n",
       "      <th>b_number_start</th>\n",
       "      <th>p_uid_start</th>\n",
       "      <th>p_bikes_start</th>\n",
       "      <th>p_lat_start</th>\n",
       "      <th>b_electric_lock_start</th>\n",
       "      <th>...</th>\n",
       "      <th>p_terminal_type_end</th>\n",
       "      <th>p_bike_types_end</th>\n",
       "      <th>Unnamed: 0</th>\n",
       "      <th>MESS_DATUM</th>\n",
       "      <th>air_deg</th>\n",
       "      <th>air_hum</th>\n",
       "      <th>rain_mm</th>\n",
       "      <th>rain_yn</th>\n",
       "      <th>sun_hour</th>\n",
       "      <th>wind_ms</th>\n",
       "    </tr>\n",
       "  </thead>\n",
       "  <tbody>\n",
       "    <tr>\n",
       "      <th>0</th>\n",
       "      <td>0</td>\n",
       "      <td>False</td>\n",
       "      <td>0</td>\n",
       "      <td>12</td>\n",
       "      <td>2019-01-20 00:00:00</td>\n",
       "      <td>93771</td>\n",
       "      <td>12095573</td>\n",
       "      <td>1</td>\n",
       "      <td>51.071262</td>\n",
       "      <td>False</td>\n",
       "      <td>...</td>\n",
       "      <td>NaN</td>\n",
       "      <td>{\"15\": 1}</td>\n",
       "      <td>1752</td>\n",
       "      <td>2019-01-20</td>\n",
       "      <td>-3.3</td>\n",
       "      <td>75.3</td>\n",
       "      <td>0.0</td>\n",
       "      <td>0.0</td>\n",
       "      <td>0.0</td>\n",
       "      <td>4.3</td>\n",
       "    </tr>\n",
       "    <tr>\n",
       "      <th>1</th>\n",
       "      <td>0</td>\n",
       "      <td>True</td>\n",
       "      <td>0</td>\n",
       "      <td>0</td>\n",
       "      <td>2019-01-20 00:05:00</td>\n",
       "      <td>93576</td>\n",
       "      <td>10299640</td>\n",
       "      <td>5</td>\n",
       "      <td>51.038210</td>\n",
       "      <td>False</td>\n",
       "      <td>...</td>\n",
       "      <td>NaN</td>\n",
       "      <td>{\"15\": 1}</td>\n",
       "      <td>1752</td>\n",
       "      <td>2019-01-20</td>\n",
       "      <td>-3.3</td>\n",
       "      <td>75.3</td>\n",
       "      <td>0.0</td>\n",
       "      <td>0.0</td>\n",
       "      <td>0.0</td>\n",
       "      <td>4.3</td>\n",
       "    </tr>\n",
       "    <tr>\n",
       "      <th>2</th>\n",
       "      <td>0</td>\n",
       "      <td>True</td>\n",
       "      <td>0</td>\n",
       "      <td>0</td>\n",
       "      <td>2019-01-20 00:07:00</td>\n",
       "      <td>93440</td>\n",
       "      <td>10299584</td>\n",
       "      <td>1</td>\n",
       "      <td>51.042570</td>\n",
       "      <td>True</td>\n",
       "      <td>...</td>\n",
       "      <td>free</td>\n",
       "      <td>{\"undefined\": 1, \"15\": 2}</td>\n",
       "      <td>1752</td>\n",
       "      <td>2019-01-20</td>\n",
       "      <td>-3.3</td>\n",
       "      <td>75.3</td>\n",
       "      <td>0.0</td>\n",
       "      <td>0.0</td>\n",
       "      <td>0.0</td>\n",
       "      <td>4.3</td>\n",
       "    </tr>\n",
       "    <tr>\n",
       "      <th>3</th>\n",
       "      <td>0</td>\n",
       "      <td>True</td>\n",
       "      <td>0</td>\n",
       "      <td>0</td>\n",
       "      <td>2019-01-20 00:07:00</td>\n",
       "      <td>93585</td>\n",
       "      <td>264575</td>\n",
       "      <td>5</td>\n",
       "      <td>51.071740</td>\n",
       "      <td>False</td>\n",
       "      <td>...</td>\n",
       "      <td>NaN</td>\n",
       "      <td>{\"undefined\": 3, \"15\": 2}</td>\n",
       "      <td>1752</td>\n",
       "      <td>2019-01-20</td>\n",
       "      <td>-3.3</td>\n",
       "      <td>75.3</td>\n",
       "      <td>0.0</td>\n",
       "      <td>0.0</td>\n",
       "      <td>0.0</td>\n",
       "      <td>4.3</td>\n",
       "    </tr>\n",
       "    <tr>\n",
       "      <th>4</th>\n",
       "      <td>0</td>\n",
       "      <td>False</td>\n",
       "      <td>0</td>\n",
       "      <td>12</td>\n",
       "      <td>2019-01-20 00:07:00</td>\n",
       "      <td>93322</td>\n",
       "      <td>12098234</td>\n",
       "      <td>1</td>\n",
       "      <td>51.041798</td>\n",
       "      <td>False</td>\n",
       "      <td>...</td>\n",
       "      <td>NaN</td>\n",
       "      <td>{\"undefined\": 1}</td>\n",
       "      <td>1752</td>\n",
       "      <td>2019-01-20</td>\n",
       "      <td>-3.3</td>\n",
       "      <td>75.3</td>\n",
       "      <td>0.0</td>\n",
       "      <td>0.0</td>\n",
       "      <td>0.0</td>\n",
       "      <td>4.3</td>\n",
       "    </tr>\n",
       "  </tbody>\n",
       "</table>\n",
       "<p>5 rows × 46 columns</p>\n",
       "</div>"
      ],
      "text/plain": [
       "   p_bike_racks_start  p_spot_start  p_booked_bikes_start  p_place_type_start  \\\n",
       "0                   0         False                     0                  12   \n",
       "1                   0          True                     0                   0   \n",
       "2                   0          True                     0                   0   \n",
       "3                   0          True                     0                   0   \n",
       "4                   0         False                     0                  12   \n",
       "\n",
       "       datetime_start  b_number_start  p_uid_start  p_bikes_start  \\\n",
       "0 2019-01-20 00:00:00           93771     12095573              1   \n",
       "1 2019-01-20 00:05:00           93576     10299640              5   \n",
       "2 2019-01-20 00:07:00           93440     10299584              1   \n",
       "3 2019-01-20 00:07:00           93585       264575              5   \n",
       "4 2019-01-20 00:07:00           93322     12098234              1   \n",
       "\n",
       "   p_lat_start  b_electric_lock_start  ...  p_terminal_type_end  \\\n",
       "0    51.071262                  False  ...                  NaN   \n",
       "1    51.038210                  False  ...                  NaN   \n",
       "2    51.042570                   True  ...                 free   \n",
       "3    51.071740                  False  ...                  NaN   \n",
       "4    51.041798                  False  ...                  NaN   \n",
       "\n",
       "            p_bike_types_end  Unnamed: 0 MESS_DATUM air_deg  air_hum  rain_mm  \\\n",
       "0                  {\"15\": 1}        1752 2019-01-20    -3.3     75.3      0.0   \n",
       "1                  {\"15\": 1}        1752 2019-01-20    -3.3     75.3      0.0   \n",
       "2  {\"undefined\": 1, \"15\": 2}        1752 2019-01-20    -3.3     75.3      0.0   \n",
       "3  {\"undefined\": 3, \"15\": 2}        1752 2019-01-20    -3.3     75.3      0.0   \n",
       "4           {\"undefined\": 1}        1752 2019-01-20    -3.3     75.3      0.0   \n",
       "\n",
       "   rain_yn  sun_hour  wind_ms  \n",
       "0      0.0       0.0      4.3  \n",
       "1      0.0       0.0      4.3  \n",
       "2      0.0       0.0      4.3  \n",
       "3      0.0       0.0      4.3  \n",
       "4      0.0       0.0      4.3  \n",
       "\n",
       "[5 rows x 46 columns]"
      ]
     },
     "execution_count": 17,
     "metadata": {},
     "output_type": "execute_result"
    }
   ],
   "source": [
    "df_full.head(5)"
   ]
  },
  {
   "cell_type": "code",
   "execution_count": 18,
   "metadata": {},
   "outputs": [],
   "source": [
    "df_full.drop(\"Unnamed: 0\", inplace=True, axis=1)"
   ]
  },
  {
   "cell_type": "code",
   "execution_count": 19,
   "metadata": {},
   "outputs": [],
   "source": [
    "# cast start&end times to datetimes\n",
    "df_full['datetime_start'] = pd.to_datetime(df_full['datetime_start'])\n",
    "df_full['datetime_end'] = pd.to_datetime(df_full['datetime_end'])\n",
    "# calculate trip duration\n",
    "df_full['trip_duration'] = ((df_full['datetime_end'] - df_full['datetime_start']).dt.total_seconds() / 60.0).round(2)"
   ]
  },
  {
   "cell_type": "code",
   "execution_count": 20,
   "metadata": {},
   "outputs": [],
   "source": [
    "df_full.to_csv(os.path.join(path_output, \"Trips.csv\"))"
   ]
  },
  {
   "cell_type": "code",
   "execution_count": 21,
   "metadata": {},
   "outputs": [
    {
     "data": {
      "text/html": [
       "<div>\n",
       "<style scoped>\n",
       "    .dataframe tbody tr th:only-of-type {\n",
       "        vertical-align: middle;\n",
       "    }\n",
       "\n",
       "    .dataframe tbody tr th {\n",
       "        vertical-align: top;\n",
       "    }\n",
       "\n",
       "    .dataframe thead th {\n",
       "        text-align: right;\n",
       "    }\n",
       "</style>\n",
       "<table border=\"1\" class=\"dataframe\">\n",
       "  <thead>\n",
       "    <tr style=\"text-align: right;\">\n",
       "      <th></th>\n",
       "      <th>p_bike_racks_start</th>\n",
       "      <th>p_spot_start</th>\n",
       "      <th>p_booked_bikes_start</th>\n",
       "      <th>p_place_type_start</th>\n",
       "      <th>datetime_start</th>\n",
       "      <th>b_number_start</th>\n",
       "      <th>p_uid_start</th>\n",
       "      <th>p_bikes_start</th>\n",
       "      <th>p_lat_start</th>\n",
       "      <th>b_electric_lock_start</th>\n",
       "      <th>...</th>\n",
       "      <th>p_terminal_type_end</th>\n",
       "      <th>p_bike_types_end</th>\n",
       "      <th>MESS_DATUM</th>\n",
       "      <th>air_deg</th>\n",
       "      <th>air_hum</th>\n",
       "      <th>rain_mm</th>\n",
       "      <th>rain_yn</th>\n",
       "      <th>sun_hour</th>\n",
       "      <th>wind_ms</th>\n",
       "      <th>trip_duration</th>\n",
       "    </tr>\n",
       "  </thead>\n",
       "  <tbody>\n",
       "    <tr>\n",
       "      <th>0</th>\n",
       "      <td>0</td>\n",
       "      <td>False</td>\n",
       "      <td>0</td>\n",
       "      <td>12</td>\n",
       "      <td>2019-01-20 00:00:00</td>\n",
       "      <td>93771</td>\n",
       "      <td>12095573</td>\n",
       "      <td>1</td>\n",
       "      <td>51.071262</td>\n",
       "      <td>False</td>\n",
       "      <td>...</td>\n",
       "      <td>NaN</td>\n",
       "      <td>{\"15\": 1}</td>\n",
       "      <td>2019-01-20</td>\n",
       "      <td>-3.3</td>\n",
       "      <td>75.3</td>\n",
       "      <td>0.0</td>\n",
       "      <td>0.0</td>\n",
       "      <td>0.0</td>\n",
       "      <td>4.3</td>\n",
       "      <td>28.0</td>\n",
       "    </tr>\n",
       "    <tr>\n",
       "      <th>1</th>\n",
       "      <td>0</td>\n",
       "      <td>True</td>\n",
       "      <td>0</td>\n",
       "      <td>0</td>\n",
       "      <td>2019-01-20 00:05:00</td>\n",
       "      <td>93576</td>\n",
       "      <td>10299640</td>\n",
       "      <td>5</td>\n",
       "      <td>51.038210</td>\n",
       "      <td>False</td>\n",
       "      <td>...</td>\n",
       "      <td>NaN</td>\n",
       "      <td>{\"15\": 1}</td>\n",
       "      <td>2019-01-20</td>\n",
       "      <td>-3.3</td>\n",
       "      <td>75.3</td>\n",
       "      <td>0.0</td>\n",
       "      <td>0.0</td>\n",
       "      <td>0.0</td>\n",
       "      <td>4.3</td>\n",
       "      <td>10.0</td>\n",
       "    </tr>\n",
       "    <tr>\n",
       "      <th>2</th>\n",
       "      <td>0</td>\n",
       "      <td>True</td>\n",
       "      <td>0</td>\n",
       "      <td>0</td>\n",
       "      <td>2019-01-20 00:07:00</td>\n",
       "      <td>93440</td>\n",
       "      <td>10299584</td>\n",
       "      <td>1</td>\n",
       "      <td>51.042570</td>\n",
       "      <td>True</td>\n",
       "      <td>...</td>\n",
       "      <td>free</td>\n",
       "      <td>{\"undefined\": 1, \"15\": 2}</td>\n",
       "      <td>2019-01-20</td>\n",
       "      <td>-3.3</td>\n",
       "      <td>75.3</td>\n",
       "      <td>0.0</td>\n",
       "      <td>0.0</td>\n",
       "      <td>0.0</td>\n",
       "      <td>4.3</td>\n",
       "      <td>26.0</td>\n",
       "    </tr>\n",
       "    <tr>\n",
       "      <th>3</th>\n",
       "      <td>0</td>\n",
       "      <td>True</td>\n",
       "      <td>0</td>\n",
       "      <td>0</td>\n",
       "      <td>2019-01-20 00:07:00</td>\n",
       "      <td>93585</td>\n",
       "      <td>264575</td>\n",
       "      <td>5</td>\n",
       "      <td>51.071740</td>\n",
       "      <td>False</td>\n",
       "      <td>...</td>\n",
       "      <td>NaN</td>\n",
       "      <td>{\"undefined\": 3, \"15\": 2}</td>\n",
       "      <td>2019-01-20</td>\n",
       "      <td>-3.3</td>\n",
       "      <td>75.3</td>\n",
       "      <td>0.0</td>\n",
       "      <td>0.0</td>\n",
       "      <td>0.0</td>\n",
       "      <td>4.3</td>\n",
       "      <td>28.0</td>\n",
       "    </tr>\n",
       "    <tr>\n",
       "      <th>4</th>\n",
       "      <td>0</td>\n",
       "      <td>False</td>\n",
       "      <td>0</td>\n",
       "      <td>12</td>\n",
       "      <td>2019-01-20 00:07:00</td>\n",
       "      <td>93322</td>\n",
       "      <td>12098234</td>\n",
       "      <td>1</td>\n",
       "      <td>51.041798</td>\n",
       "      <td>False</td>\n",
       "      <td>...</td>\n",
       "      <td>NaN</td>\n",
       "      <td>{\"undefined\": 1}</td>\n",
       "      <td>2019-01-20</td>\n",
       "      <td>-3.3</td>\n",
       "      <td>75.3</td>\n",
       "      <td>0.0</td>\n",
       "      <td>0.0</td>\n",
       "      <td>0.0</td>\n",
       "      <td>4.3</td>\n",
       "      <td>2.0</td>\n",
       "    </tr>\n",
       "  </tbody>\n",
       "</table>\n",
       "<p>5 rows × 46 columns</p>\n",
       "</div>"
      ],
      "text/plain": [
       "   p_bike_racks_start  p_spot_start  p_booked_bikes_start  p_place_type_start  \\\n",
       "0                   0         False                     0                  12   \n",
       "1                   0          True                     0                   0   \n",
       "2                   0          True                     0                   0   \n",
       "3                   0          True                     0                   0   \n",
       "4                   0         False                     0                  12   \n",
       "\n",
       "       datetime_start  b_number_start  p_uid_start  p_bikes_start  \\\n",
       "0 2019-01-20 00:00:00           93771     12095573              1   \n",
       "1 2019-01-20 00:05:00           93576     10299640              5   \n",
       "2 2019-01-20 00:07:00           93440     10299584              1   \n",
       "3 2019-01-20 00:07:00           93585       264575              5   \n",
       "4 2019-01-20 00:07:00           93322     12098234              1   \n",
       "\n",
       "   p_lat_start  b_electric_lock_start  ...  p_terminal_type_end  \\\n",
       "0    51.071262                  False  ...                  NaN   \n",
       "1    51.038210                  False  ...                  NaN   \n",
       "2    51.042570                   True  ...                 free   \n",
       "3    51.071740                  False  ...                  NaN   \n",
       "4    51.041798                  False  ...                  NaN   \n",
       "\n",
       "            p_bike_types_end  MESS_DATUM air_deg air_hum  rain_mm  rain_yn  \\\n",
       "0                  {\"15\": 1}  2019-01-20    -3.3    75.3      0.0      0.0   \n",
       "1                  {\"15\": 1}  2019-01-20    -3.3    75.3      0.0      0.0   \n",
       "2  {\"undefined\": 1, \"15\": 2}  2019-01-20    -3.3    75.3      0.0      0.0   \n",
       "3  {\"undefined\": 3, \"15\": 2}  2019-01-20    -3.3    75.3      0.0      0.0   \n",
       "4           {\"undefined\": 1}  2019-01-20    -3.3    75.3      0.0      0.0   \n",
       "\n",
       "   sun_hour  wind_ms  trip_duration  \n",
       "0       0.0      4.3           28.0  \n",
       "1       0.0      4.3           10.0  \n",
       "2       0.0      4.3           26.0  \n",
       "3       0.0      4.3           28.0  \n",
       "4       0.0      4.3            2.0  \n",
       "\n",
       "[5 rows x 46 columns]"
      ]
     },
     "execution_count": 21,
     "metadata": {},
     "output_type": "execute_result"
    }
   ],
   "source": [
    "df_full.head()"
   ]
  },
  {
   "cell_type": "markdown",
   "metadata": {},
   "source": [
    "# Data exploration of original dataset (dwd + plotting)"
   ]
  },
  {
   "cell_type": "code",
   "execution_count": 43,
   "metadata": {},
   "outputs": [
    {
     "name": "stdout",
     "output_type": "stream",
     "text": [
      "p_bike_racks_start         550350\n",
      "p_spot_start               550350\n",
      "p_booked_bikes_start       550350\n",
      "p_place_type_start         550350\n",
      "datetime_start             550350\n",
      "b_number_start             550350\n",
      "p_uid_start                550350\n",
      "p_bikes_start              550350\n",
      "p_lat_start                550350\n",
      "b_electric_lock_start      550350\n",
      "b_bike_type_start          550350\n",
      "p_name_start               550350\n",
      "p_free_racks_start         550350\n",
      "p_address_start             13220\n",
      "b_lock_types_start         550350\n",
      "p_number_start             550288\n",
      "b_pedelec_battery_start     67149\n",
      "p_lng_start                550350\n",
      "b_boardcomputer_start      550350\n",
      "p_maintenance_start        550350\n",
      "p_terminal_type_start      134526\n",
      "p_bike_types_start         550350\n",
      "p_bike_racks_end           550350\n",
      "p_spot_end                 550350\n",
      "p_booked_bikes_end         550350\n",
      "p_place_type_end           550350\n",
      "datetime_end               550350\n",
      "p_uid_end                  550350\n",
      "p_bikes_end                550350\n",
      "p_lat_end                  550350\n",
      "p_name_end                 550350\n",
      "p_free_racks_end           550350\n",
      "p_address_end               12147\n",
      "p_number_end               550272\n",
      "p_lng_end                  550350\n",
      "p_maintenance_end          550350\n",
      "p_terminal_type_end        124468\n",
      "p_bike_types_end           550350\n",
      "MESS_DATUM                 550350\n",
      "air_deg                    550350\n",
      "air_hum                    550350\n",
      "rain_mm                    550350\n",
      "rain_yn                    550350\n",
      "sun_hour                   550350\n",
      "wind_ms                    550350\n",
      "trip_duration              550350\n",
      "dtype: int64\n"
     ]
    }
   ],
   "source": [
    "print(df_full.count());"
   ]
  },
  {
   "cell_type": "code",
   "execution_count": 35,
   "metadata": {},
   "outputs": [
    {
     "data": {
      "text/plain": [
       "p_bike_racks_start                  int64\n",
       "p_spot_start                         bool\n",
       "p_booked_bikes_start                int64\n",
       "p_place_type_start                  int64\n",
       "datetime_start             datetime64[ns]\n",
       "b_number_start                      int64\n",
       "p_uid_start                         int64\n",
       "p_bikes_start                       int64\n",
       "p_lat_start                       float64\n",
       "b_electric_lock_start                bool\n",
       "b_bike_type_start                   int64\n",
       "p_name_start                       object\n",
       "p_free_racks_start                  int64\n",
       "p_address_start                    object\n",
       "b_lock_types_start                 object\n",
       "p_number_start                    float64\n",
       "b_pedelec_battery_start           float64\n",
       "p_lng_start                       float64\n",
       "b_boardcomputer_start               int64\n",
       "p_maintenance_start                  bool\n",
       "p_terminal_type_start              object\n",
       "p_bike_types_start                 object\n",
       "p_bike_racks_end                    int64\n",
       "p_spot_end                           bool\n",
       "p_booked_bikes_end                  int64\n",
       "p_place_type_end                    int64\n",
       "datetime_end               datetime64[ns]\n",
       "p_uid_end                           int64\n",
       "p_bikes_end                         int64\n",
       "p_lat_end                         float64\n",
       "p_name_end                         object\n",
       "p_free_racks_end                    int64\n",
       "p_address_end                      object\n",
       "p_number_end                      float64\n",
       "p_lng_end                         float64\n",
       "p_maintenance_end                    bool\n",
       "p_terminal_type_end                object\n",
       "p_bike_types_end                   object\n",
       "MESS_DATUM                 datetime64[ns]\n",
       "air_deg                           float64\n",
       "air_hum                           float64\n",
       "rain_mm                           float64\n",
       "rain_yn                           float64\n",
       "sun_hour                          float64\n",
       "wind_ms                           float64\n",
       "trip_duration                     float64\n",
       "dtype: object"
      ]
     },
     "execution_count": 35,
     "metadata": {},
     "output_type": "execute_result"
    }
   ],
   "source": [
    "df_full.dtypes"
   ]
  },
  {
   "cell_type": "code",
   "execution_count": 28,
   "metadata": {},
   "outputs": [
    {
     "data": {
      "text/plain": [
       "<matplotlib.axes._subplots.AxesSubplot at 0x2b6c74a6748>"
      ]
     },
     "execution_count": 28,
     "metadata": {},
     "output_type": "execute_result"
    },
    {
     "data": {
      "image/png": "[encoded data removed]",
      "text/plain": [
       "<Figure size 432x288 with 1 Axes>"
      ]
     },
     "metadata": {
      "needs_background": "light"
     },
     "output_type": "display_data"
    }
   ],
   "source": [
    "df_full[\"p_bike_racks_start\"].hist()"
   ]
  },
  {
   "cell_type": "code",
   "execution_count": 50,
   "metadata": {},
   "outputs": [
    {
     "data": {
      "text/plain": [
       "<matplotlib.axes._subplots.AxesSubplot at 0x2b6cbf4ac48>"
      ]
     },
     "execution_count": 50,
     "metadata": {},
     "output_type": "execute_result"
    },
    {
     "data": {
      "image/png": "[encoded data removed]",
      "text/plain": [
       "<Figure size 432x288 with 1 Axes>"
      ]
     },
     "metadata": {
      "needs_background": "light"
     },
     "output_type": "display_data"
    }
   ],
   "source": [
    "df_full[\"p_spot_start\"].astype(int).hist()"
   ]
  },
  {
   "cell_type": "code",
   "execution_count": 52,
   "metadata": {},
   "outputs": [
    {
     "data": {
      "text/plain": [
       "<matplotlib.axes._subplots.AxesSubplot at 0x2b6cc013348>"
      ]
     },
     "execution_count": 52,
     "metadata": {},
     "output_type": "execute_result"
    },
    {
     "data": {
      "image/png": "[encoded data removed]",
      "text/plain": [
       "<Figure size 432x288 with 1 Axes>"
      ]
     },
     "metadata": {
      "needs_background": "light"
     },
     "output_type": "display_data"
    }
   ],
   "source": [
    "df_full[\"p_place_type_start\"].hist()"
   ]
  },
  {
   "cell_type": "code",
   "execution_count": 70,
   "metadata": {},
   "outputs": [
    {
     "data": {
      "text/plain": [
       "<matplotlib.axes._subplots.AxesSubplot at 0x2b6aee26088>"
      ]
     },
     "execution_count": 70,
     "metadata": {},
     "output_type": "execute_result"
    },
    {
     "data": {
      "image/png": "[encoded data removed]",
      "text/plain": [
       "<Figure size 864x288 with 1 Axes>"
      ]
     },
     "metadata": {
      "needs_background": "light"
     },
     "output_type": "display_data"
    }
   ],
   "source": [
    "df_full[\"datetime_start\"].hist(figsize=(12, 4), bins=12)"
   ]
  },
  {
   "cell_type": "code",
   "execution_count": 69,
   "metadata": {},
   "outputs": [
    {
     "data": {
      "text/plain": [
       "<matplotlib.axes._subplots.AxesSubplot at 0x2b6a13c3048>"
      ]
     },
     "execution_count": 69,
     "metadata": {},
     "output_type": "execute_result"
    },
    {
     "data": {
      "image/png": "[encoded data removed]",
      "text/plain": [
       "<Figure size 864x288 with 1 Axes>"
      ]
     },
     "metadata": {
      "needs_background": "light"
     },
     "output_type": "display_data"
    }
   ],
   "source": [
    "df_full[\"datetime_start\"].dt.month.hist(figsize=(12, 4), bins=12)"
   ]
  },
  {
   "cell_type": "code",
   "execution_count": 63,
   "metadata": {},
   "outputs": [
    {
     "data": {
      "text/plain": [
       "<matplotlib.axes._subplots.AxesSubplot at 0x2b6d3533188>"
      ]
     },
     "execution_count": 63,
     "metadata": {},
     "output_type": "execute_result"
    },
    {
     "data": {
      "image/png": "[encoded data removed]",
      "text/plain": [
       "<Figure size 432x288 with 1 Axes>"
      ]
     },
     "metadata": {
      "needs_background": "light"
     },
     "output_type": "display_data"
    }
   ],
   "source": [
    "df_full[\"b_number_start\"].hist()"
   ]
  },
  {
   "cell_type": "code",
   "execution_count": 64,
   "metadata": {},
   "outputs": [
    {
     "data": {
      "text/plain": [
       "<matplotlib.axes._subplots.AxesSubplot at 0x2b6aef513c8>"
      ]
     },
     "execution_count": 64,
     "metadata": {},
     "output_type": "execute_result"
    },
    {
     "data": {
      "image/png": "[encoded data removed]",
      "text/plain": [
       "<Figure size 432x288 with 1 Axes>"
      ]
     },
     "metadata": {
      "needs_background": "light"
     },
     "output_type": "display_data"
    }
   ],
   "source": [
    "df_full[\"p_bikes_start\"].hist()"
   ]
  },
  {
   "cell_type": "code",
   "execution_count": null,
   "metadata": {},
   "outputs": [],
   "source": []
  }
 ],
 "metadata": {
  "kernelspec": {
   "display_name": "Python 3",
   "language": "python",
   "name": "python3"
  },
  "language_info": {
   "codemirror_mode": {
    "name": "ipython",
    "version": 3
   },
   "file_extension": ".py",
   "mimetype": "text/x-python",
   "name": "python",
   "nbconvert_exporter": "python",
   "pygments_lexer": "ipython3",
   "version": "3.7.6"
  }
 },
 "nbformat": 4,
 "nbformat_minor": 4
}
