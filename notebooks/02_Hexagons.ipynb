{
 "cells": [
  {
   "cell_type": "code",
   "execution_count": 8,
   "metadata": {},
   "outputs": [],
   "source": [
    "import pandas as pd\n",
    "import geopandas\n",
    "import os\n",
    "import json\n",
    "#from h3 import h3\n",
    "from shapely.geometry import shape"
   ]
  },
  {
   "cell_type": "code",
   "execution_count": 9,
   "metadata": {},
   "outputs": [],
   "source": [
    "path_output=os.path.join(os.getcwd(), '../data/output/Trips.csv')\n",
    "path_geo =os.path.join(os.getcwd(), '../data/input/geodata/dresden2_bounding_box.geojson')"
   ]
  },
  {
   "cell_type": "code",
   "execution_count": null,
   "metadata": {},
   "outputs": [],
   "source": []
  },
  {
   "cell_type": "code",
   "execution_count": null,
   "metadata": {},
   "outputs": [],
   "source": []
  },
  {
   "cell_type": "code",
   "execution_count": 10,
   "metadata": {},
   "outputs": [],
   "source": [
    "city_bounding_box = geopandas.read_file(path_geo)\n",
    "city_bounding_box_json_string = city_bounding_box.to_json()\n",
    "city_bounding_box_json = json.loads(city_bounding_box_json_string)\n",
    "city_bounding_box_poly = city_bounding_box_json[\"features\"][0]"
   ]
  },
  {
   "cell_type": "code",
   "execution_count": 11,
   "metadata": {},
   "outputs": [
    {
     "data": {
      "text/plain": [
       "{'id': '0',\n",
       " 'type': 'Feature',\n",
       " 'properties': {},\n",
       " 'geometry': {'type': 'Polygon',\n",
       "  'coordinates': [[[13.0133056640625, 52.35715118125809],\n",
       "    [13.750762939453125, 52.35715118125809],\n",
       "    [13.750762939453125, 52.65222859561964],\n",
       "    [13.0133056640625, 52.65222859561964],\n",
       "    [13.0133056640625, 52.35715118125809]]]}}"
      ]
     },
     "execution_count": 11,
     "metadata": {},
     "output_type": "execute_result"
    }
   ],
   "source": [
    "# Valid GeoJSON object\n",
    "city_bounding_box_poly"
   ]
  },
  {
   "cell_type": "code",
   "execution_count": 12,
   "metadata": {},
   "outputs": [
    {
     "ename": "NameError",
     "evalue": "name 'h3' is not defined",
     "output_type": "error",
     "traceback": [
      "\u001b[1;31m---------------------------------------------------------------------------\u001b[0m",
      "\u001b[1;31mNameError\u001b[0m                                 Traceback (most recent call last)",
      "\u001b[1;32m<ipython-input-12-5f226832b52c>\u001b[0m in \u001b[0;36m<module>\u001b[1;34m\u001b[0m\n\u001b[0;32m      2\u001b[0m \u001b[0mH3_HEXAGON_RESOLUTION\u001b[0m \u001b[1;33m=\u001b[0m \u001b[1;36m7\u001b[0m\u001b[1;33m\u001b[0m\u001b[1;33m\u001b[0m\u001b[0m\n\u001b[0;32m      3\u001b[0m \u001b[0mpolygon_obj\u001b[0m \u001b[1;33m=\u001b[0m \u001b[0mcity_bounding_box_poly\u001b[0m\u001b[1;33m[\u001b[0m\u001b[1;34m\"geometry\"\u001b[0m\u001b[1;33m]\u001b[0m \u001b[1;31m# your geo json object\u001b[0m\u001b[1;33m\u001b[0m\u001b[1;33m\u001b[0m\u001b[0m\n\u001b[1;32m----> 4\u001b[1;33m \u001b[0mhexagons\u001b[0m \u001b[1;33m=\u001b[0m \u001b[0mh3\u001b[0m\u001b[1;33m.\u001b[0m\u001b[0mpolyfill\u001b[0m\u001b[1;33m(\u001b[0m\u001b[0mgeo_json\u001b[0m \u001b[1;33m=\u001b[0m \u001b[0mpolygon_obj\u001b[0m\u001b[1;33m,\u001b[0m \u001b[0mres\u001b[0m \u001b[1;33m=\u001b[0m \u001b[0mH3_HEXAGON_RESOLUTION\u001b[0m\u001b[1;33m,\u001b[0m \u001b[0mgeo_json_conformant\u001b[0m \u001b[1;33m=\u001b[0m \u001b[1;32mTrue\u001b[0m\u001b[1;33m)\u001b[0m\u001b[1;33m\u001b[0m\u001b[1;33m\u001b[0m\u001b[0m\n\u001b[0m",
      "\u001b[1;31mNameError\u001b[0m: name 'h3' is not defined"
     ]
    }
   ],
   "source": [
    "# Computing hexagons for a given polygon\n",
    "H3_HEXAGON_RESOLUTION = 7\n",
    "polygon_obj = city_bounding_box_poly[\"geometry\"] # your geo json object\n",
    "hexagons = h3.polyfill(geo_json = polygon_obj, res = H3_HEXAGON_RESOLUTION, geo_json_conformant = True)"
   ]
  },
  {
   "cell_type": "code",
   "execution_count": 8,
   "metadata": {},
   "outputs": [],
   "source": [
    "# Returns only the index of each hexagon, not the geometries\n",
    "#hexagons"
   ]
  },
  {
   "cell_type": "code",
   "execution_count": null,
   "metadata": {},
   "outputs": [],
   "source": [
    "geopandas."
   ]
  }
 ],
 "metadata": {
  "kernelspec": {
   "display_name": "PDS20",
   "language": "python",
   "name": "pds20"
  },
  "language_info": {
   "codemirror_mode": {
    "name": "ipython",
    "version": 3
   },
   "file_extension": ".py",
   "mimetype": "text/x-python",
   "name": "python",
   "nbconvert_exporter": "python",
   "pygments_lexer": "ipython3",
   "version": "3.7.7"
  }
 },
 "nbformat": 4,
 "nbformat_minor": 4
}
