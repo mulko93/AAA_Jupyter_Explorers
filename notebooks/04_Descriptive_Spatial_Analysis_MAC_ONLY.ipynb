{
 "cells": [
  {
   "cell_type": "markdown",
   "metadata": {},
   "source": [
    "# Descriptive Spatial Analysis\n",
    "\n",
    "#### !!! As this notebook uses h3 package it will NOT WORK ON WINDOWS !!!\n",
    "\n",
    "This notebook reads in hexagon files and does a desprictive spatial analysis.\n",
    "\n",
    "### What is done?\n",
    "1. Load Hexagon files\n",
    "2. TODO\n",
    "\n",
    "### Input\n",
    "\n",
    "- data/output/Trips_Hexagons.csv\n",
    "\n",
    "### Output\n",
    "- Nothing, only plots\n",
    "    \n",
    "---------------------------------------------------------"
   ]
  },
  {
   "cell_type": "code",
   "execution_count": null,
   "metadata": {},
   "outputs": [],
   "source": []
  },
  {
   "cell_type": "code",
   "execution_count": null,
   "metadata": {},
   "outputs": [],
   "source": [
    "import os\n",
    "import pandas as pd\n",
    "from h3 import h3\n",
    "from shapely.geometry import shape\n",
    "import geopandas\n",
    "import matplotlib.pyplot as plt\n",
    "import folium\n",
    "from folium.plugins import TimeSliderChoropleth"
   ]
  },
  {
   "cell_type": "code",
   "execution_count": null,
   "metadata": {},
   "outputs": [],
   "source": [
    "path_trips_hex=os.path.join(os.getcwd(), \"..\", \"data\", \"output\", \"Trips.csv\")\n",
    "path_hex_small=os.path.join(os.getcwd(), \"..\", \"data\", \"output\", \"hexagons-small-dresden.geojson\")\n",
    "path_hex_big=os.path.join(os.getcwd(), \"..\", \"data\", \"output\", \"hexagons-big-dresden.geojson\")\n",
    "\n",
    "print(path_trips_hex)\n",
    "print(path_hex_small)\n",
    "print(path_hex_big)"
   ]
  },
  {
   "cell_type": "code",
   "execution_count": null,
   "metadata": {},
   "outputs": [],
   "source": [
    "df_trips_hex = pd.read_csv(path_trips_hex, index_col=\"Unnamed: 0\")\n",
    "df_trips_hex"
   ]
  },
  {
   "cell_type": "code",
   "execution_count": null,
   "metadata": {},
   "outputs": [],
   "source": [
    "gdf_hex_small = geopandas.read_file(path_hex_small)\n",
    "# gdf_hex_small.rename({\"h3_hex_sma\": \"h3_hex_small_id\"}, inplace=True, axis=1)\n",
    "gdf_hex_small.plot()\n",
    "\n",
    "gdf_hex_big = geopandas.read_file(path_hex_big)\n",
    "# gdf_hex_big.rename({\"h3_hex_big\": \"h3_hex_big_id\"}, inplace=True, axis=1)\n",
    "gdf_hex_big.plot()\n",
    "\n",
    "display(gdf_hex_small, gdf_hex_big)"
   ]
  },
  {
   "cell_type": "markdown",
   "metadata": {},
   "source": [
    "## 2. Create GeoDataFrames"
   ]
  },
  {
   "cell_type": "code",
   "execution_count": null,
   "metadata": {},
   "outputs": [],
   "source": [
    "# clean csv data\n",
    "df_trips_start_small = df_trips_hex[[\"h3_hex_small_id_start\", \"24_sum\"]]\n",
    "df_trips_start_small = df_trips_start_small.groupby(\"h3_hex_small_id_start\").agg({\"24_sum\": \"sum\"})\n",
    "display(df_trips_start_small)\n",
    "\n",
    "# join the geodataframe with the cleaned up csv dataframe\n",
    "# df_trips_start_small = df_trips_hex.drop([\"h3_hex_small_id_end\", \"h3_hex_big_id_start\", \"h3_hex_big_id_end\"], axis=1)\n",
    "df_merged_small = gdf_hex_small.set_index('h3_hex_small_id').join(df_trips_start_small)\n",
    "# df_merged_small.dropna(inplace=True)\n",
    "# df_merged_small.head()\n",
    "df_merged_small"
   ]
  },
  {
   "cell_type": "code",
   "execution_count": null,
   "metadata": {},
   "outputs": [],
   "source": [
    "gdf_hex_small = geopandas.read_file(path_hex_small)\n",
    "gdf_hex_big = geopandas.read_file(path_hex_big)\n",
    "display(gdf_hex_small, gdf_hex_big)"
   ]
  },
  {
   "cell_type": "code",
   "execution_count": null,
   "metadata": {},
   "outputs": [],
   "source": [
    "\"\"\"\n",
    "df_copy = df_trips_hex.copy()\n",
    "df_copy[\"datetime_start\"] = (pd.to_datetime(df_trips_hex[\"datetime_start\"]).astype(int)//10**9)\n",
    "styledict_timeslider={}\n",
    "for i in df_copy['h3_hex_small_id_start'].unique():\n",
    "    styledict_timeslider[i]={}\n",
    "    for j in df_copy[df_copy['h3_hex_small_id_start']==i].set_index(['h3_hex_small_id_start']).values:\n",
    "        print(j)\n",
    "        styledict_timeslider[i][j[0]]={'color':j[],'opacity':0.7}\n",
    "        \n",
    "styledict_timeslider\n",
    "\"\"\""
   ]
  },
  {
   "cell_type": "code",
   "execution_count": null,
   "metadata": {},
   "outputs": [],
   "source": [
    "def plot_choropleth_map(df):\n",
    "    \"\"\"Plots a choropleth graph on a map based on the number of started trips in each hexagon.\n",
    "    The fixed bike stations are marked as well\n",
    "    \n",
    "    Args:\n",
    "        p_df (DataFrame):   DataFrame with trip data from nuremberg\n",
    "        p_mode (str):       String which contains mode in which program is running\n",
    "    \n",
    "    Returns:\n",
    "        no return\n",
    "    \"\"\"\n",
    "    # finding the month with most trips in the month\n",
    "    month_most = df.groupby(by=\"month_start\").count().idxmax()[\"datetime_start\"]\n",
    "    print(\"Month with most rides:\", month_most)\n",
    "\n",
    "    df_biggest_month = df[df[\"month_start\"] == month_most][[\"h3_hex_small_id_start\", \"h3_hex_big_id_start\", \"24_sum\"]]\n",
    "    # prints the number of trips per postal code code\n",
    "    df_map = df[[\"h3_hex_small_id_start\", \"h3_hex_big_id_start\", \"booking_date_start\"]].copy()\n",
    "    # df_map_small.loc[:, \"count\"] = 0\n",
    "    df_map_small = df_map.groupby(by=[\"booking_date_start\", \"h3_hex_small_id_start\"]).count().reset_index()\n",
    "    df_map_small.rename(columns={\"h3_hex_small_id_start\": \"hex_id\", \"h3_hex_big_id_start\": \"count\"}, inplace=True)\n",
    "    # TODO: TAKE ALL DAYS IN ACCOUNT WITH TIME SLIDER\n",
    "    df_map_small = df_map_small[df_map_small[\"booking_date_start\"] == \"2019-01-20 00:00:00\"]\n",
    "    print(\"Max count:\", df_map_small[\"count\"].max(), \"// Min count:\", df_map_small[\"count\"].min())\n",
    "    display(df_map_small)\n",
    "    \n",
    "    df_map_big = df_map.groupby(by=[\"booking_date_start\", \"h3_hex_big_id_start\"]).count().reset_index()\n",
    "    df_map_big.rename(columns={\"h3_hex_big_id_start\": \"hex_id\", \"h3_hex_small_id_start\": \"count\"}, inplace=True)\n",
    "    # TODO: TAKE ALL DAYS IN ACCOUNT WITH TIME SLIDER\n",
    "    df_map_big = df_map_big[df_map_big[\"booking_date_start\"] == \"2019-01-20 00:00:00\"]\n",
    "    print(\"Max count:\", df_map_big[\"count\"].max(), \"// Min count:\", df_map_big[\"count\"].min())\n",
    "    display(df_map_big)\n",
    "    # df_map_big = df_biggest_month.groupby(by=\"h3_hex_big_id_start\")[\"24_sum\"].count().reset_index()\n",
    "\n",
    "    display(df_map_big)\n",
    "    \n",
    "    m = folium.Map([51.08, 13.74], zoom_start=12, keep_in_front=True)\n",
    "\n",
    "    folium.Choropleth(\n",
    "        geo_data=gdf_hex_small,\n",
    "        name=\"Demand per Small Hexagon (Choropleth)\",\n",
    "        data=df_map_small,\n",
    "        columns=[\"hex_id\", \"count\"],\n",
    "        key_on=\"feature.properties.h3_hex_small_id\",\n",
    "        legend_name=\"Trips per small hexagon\",\n",
    "        fill_color=\"Reds\",\n",
    "        fill_opacity=0.7,\n",
    "        line_opacity=0.5\n",
    "    ).add_to(m)\n",
    "    \n",
    "    folium.Choropleth(\n",
    "        geo_data=gdf_hex_big,\n",
    "        name=\"Demand per Big Hexagon (Choropleth)\",\n",
    "        data=df_map_big,\n",
    "        columns=[\"hex_id\", \"count\"],\n",
    "        key_on=\"feature.properties.h3_hex_big_id\",\n",
    "        legend_name=\"Trips per big hexagon\",\n",
    "        fill_color=\"Blues\",\n",
    "        fill_opacity=0.7,\n",
    "        line_opacity=0.5,\n",
    "        show=False\n",
    "    ).add_to(m)\n",
    "\n",
    "    df = df[df[\"p_number_start\"] != 0.0]\n",
    "    # p_df = p_df[p_df[\"End_Place_id\"] != 0.0]\n",
    "    df_stations = df.drop_duplicates(\"p_number_start\", keep=\"first\")\n",
    "    # df_stations = p_df.drop_duplicates(\"End_Place_id\", keep=\"first\")\n",
    "    \n",
    "    fixedStations = folium.FeatureGroup(name=\"Fixed Stations\")\n",
    "    \n",
    "    for index, row in df_stations.iterrows():\n",
    "        folium.CircleMarker(\n",
    "            [row[\"p_lat_start\"], row[\"p_lng_start\"]],\n",
    "            radius=3,\n",
    "            popup=folium.Popup(\n",
    "                \"<b>Station Name:</b><br>\" +\n",
    "                str(row[\"p_name_start\"]), max_width=400),\n",
    "            fill=True,\n",
    "            fill_color=\"#3db7e4\",\n",
    "            color=\"#3db7e4\"\n",
    "        ).add_to(fixedStations)\n",
    "\n",
    "    fixedStations.add_to(m)\n",
    "    m.keep_in_front(fixedStations)\n",
    "        \n",
    "    folium.LayerControl().add_to(m)\n",
    "    \n",
    "    # TimeSliderChoropleth(\n",
    "    #     data=gdf_hex_small,\n",
    "    #     name=\"Hexagons over time\",\n",
    "    #     styledict=styledict_timeslider\n",
    "    # ).add_to(m)\n",
    "\n",
    "    uni = [51.0292, 13.729]\n",
    "    folium.Marker(\n",
    "        location=uni,\n",
    "        tooltip=\"University\",\n",
    "        icon=folium.Icon(color=\"black\", icon=\"home\"),\n",
    "    ).add_to(m)\n",
    "\n",
    "    path_map=os.path.join(os.getcwd(), \"..\", \"data\", \"output\", \"choropleth_map.html\")\n",
    "    \n",
    "    m.save(path_map)"
   ]
  },
  {
   "cell_type": "code",
   "execution_count": null,
   "metadata": {
    "scrolled": true
   },
   "outputs": [],
   "source": [
    "plot_choropleth_map(df_trips_hex)"
   ]
  },
  {
   "cell_type": "markdown",
   "metadata": {},
   "source": [
    "### 2.1. Define common method"
   ]
  },
  {
   "cell_type": "code",
   "execution_count": null,
   "metadata": {},
   "outputs": [],
   "source": [
    "\"\"\"\n",
    "def createGeoDataFrameWithGeometryOfPosition(position, hex_size):\n",
    "    # Create geo data frame\n",
    "    gdf_trips_hex = geopandas.GeoDataFrame(df_trips_hex)\n",
    "    print(\"DONE Creating GeoDataFrame\")\n",
    "    \n",
    "    # dynamically create name of column to transform into geometry\n",
    "    # e.g.: if position=start and hex_size=small, builds: h3_hex_small_id_start\n",
    "    geometryColumn = 'h3_hex_' + hex_size + '_id_' + position\n",
    "    gdf_trips_hex['geometry'] = gdf_trips_hex[(gdf_trips_hex[geometryColumn].notna())].apply(lambda row: shape({\n",
    "                                            \"type\": \"Polygon\",\n",
    "                                            \"coordinates\": [h3.h3_to_geo_boundary(row[geometryColumn], geo_json=True)],\n",
    "                                            \"properties\": \"\"\n",
    "                                    }), axis=1)\n",
    "    gdf_trips_hex = gdf_trips_hex.set_crs('EPSG:4326')\n",
    "    print(\"DONE Building Geometry for: Small Hex / Start\")\n",
    "    return gdf_trips_hex\n",
    "    \"\"\""
   ]
  },
  {
   "cell_type": "markdown",
   "metadata": {},
   "source": [
    "### 2.2. GeoDataFrame for START position and SMALL hexagons"
   ]
  },
  {
   "cell_type": "code",
   "execution_count": null,
   "metadata": {},
   "outputs": [],
   "source": [
    "# gdf_trips_hex_small_start = createGeoDataFrameWithGeometryOfPosition(position=\"start\", hex_size=\"small\")\n",
    "# gdf_trips_hex_small_start.plot()\n",
    "# gdf_trips_hex_small_start"
   ]
  },
  {
   "cell_type": "markdown",
   "metadata": {},
   "source": [
    "### 2.3. GeoDataFrame for END position and SMALL hexagons"
   ]
  },
  {
   "cell_type": "code",
   "execution_count": null,
   "metadata": {},
   "outputs": [],
   "source": [
    "# gdf_trips_hex_small_end = createGeoDataFrameWithGeometryOfPosition(position=\"end\", hex_size=\"small\")\n",
    "# gdf_trips_hex_small_end.plot()\n",
    "# gdf_trips_hex_small_end"
   ]
  },
  {
   "cell_type": "markdown",
   "metadata": {},
   "source": [
    "### 2.4. GeoDataFrame for START position and BIG hexagons"
   ]
  },
  {
   "cell_type": "code",
   "execution_count": null,
   "metadata": {},
   "outputs": [],
   "source": [
    "# gdf_trips_hex_big_start = createGeoDataFrameWithGeometryOfPosition(position=\"start\", hex_size=\"big\")\n",
    "# gdf_trips_hex_big_start.plot()\n",
    "# gdf_trips_hex_big_start"
   ]
  },
  {
   "cell_type": "markdown",
   "metadata": {},
   "source": [
    "### 2.5. GeoDataFrame for END position and BIG hexagons"
   ]
  },
  {
   "cell_type": "code",
   "execution_count": null,
   "metadata": {},
   "outputs": [],
   "source": [
    "# gdf_trips_hex_big_end = createGeoDataFrameWithGeometryOfPosition(position=\"end\", hex_size=\"big\")\n",
    "# gdf_trips_hex_big_end.plot()\n",
    "# gdf_trips_hex_big_end"
   ]
  },
  {
   "cell_type": "markdown",
   "metadata": {},
   "source": [
    "## 3. Plot Choropleth maps"
   ]
  },
  {
   "cell_type": "code",
   "execution_count": null,
   "metadata": {},
   "outputs": [],
   "source": [
    "# color_scale = [[0.0, '#ffffff'],[0.2, '#ff9999'],[0.4, '#ff4d4d'], \n",
    "#                [0.6, '#ff1a1a'],[0.8, '#cc0000'],[1.0, '#4d0000']] # reds\n",
    "\n",
    "# data = [ dict(\n",
    "#             type='choropleth', # type of map-plot\n",
    "#             colorscale = color_scale,\n",
    "#             autocolorscale = False,\n",
    "#             locations = gdf_trips_hex_small_start['h3_hex_small_id_start'], # the column with the hex id\n",
    "#             z = df_['Murder_per100000'].astype(float), # the variable I want to color-code\n",
    "#             locationmode = 'USA-states',\n",
    "#             text = df_sected_crime['text'], # hover text\n",
    "#             marker = dict(     # for the lines separating states\n",
    "#                         line = dict (\n",
    "#                                   color = 'rgb(255,255,255)', \n",
    "#                                   width = 2) ),               \n",
    "#             colorbar = dict(\n",
    "#                         title = \"Murder rate per 100,000 people\")\n",
    "#             ) \n",
    "#        ]"
   ]
  },
  {
   "cell_type": "code",
   "execution_count": null,
   "metadata": {},
   "outputs": [],
   "source": []
  }
 ],
 "metadata": {
  "kernelspec": {
   "display_name": "Python 3",
   "language": "python",
   "name": "python3"
  },
  "language_info": {
   "codemirror_mode": {
    "name": "ipython",
    "version": 3
   },
   "file_extension": ".py",
   "mimetype": "text/x-python",
   "name": "python",
   "nbconvert_exporter": "python",
   "pygments_lexer": "ipython3",
   "version": "3.8.3"
  }
 },
 "nbformat": 4,
 "nbformat_minor": 4
}
